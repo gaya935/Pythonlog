{
  "nbformat": 4,
  "nbformat_minor": 0,
  "metadata": {
    "colab": {
      "name": "2021-05-25_1팀_남가연.ipynb",
      "provenance": [],
      "collapsed_sections": [
        "lOV2LDQdj1fW",
        "V5VKCvdAkZU2",
        "WgbHSZznlV-G"
      ],
      "authorship_tag": "ABX9TyO+821MrNvMzgc0GTf31qng",
      "include_colab_link": true
    },
    "kernelspec": {
      "name": "python3",
      "display_name": "Python 3"
    },
    "language_info": {
      "name": "python"
    }
  },
  "cells": [
    {
      "cell_type": "markdown",
      "metadata": {
        "id": "view-in-github",
        "colab_type": "text"
      },
      "source": [
        "<a href=\"https://colab.research.google.com/github/gaya935/Pythonlogee/blob/master/_notebooks/2021-05-25_1%ED%8C%80_%EB%82%A8%EA%B0%80%EC%97%B0.ipynb\" target=\"_parent\"><img src=\"https://colab.research.google.com/assets/colab-badge.svg\" alt=\"Open In Colab\"/></a>"
      ]
    },
    {
      "cell_type": "markdown",
      "metadata": {
        "id": "lOV2LDQdj1fW"
      },
      "source": [
        "# 기초 문법"
      ]
    },
    {
      "cell_type": "code",
      "metadata": {
        "colab": {
          "base_uri": "https://localhost:8080/",
          "height": 136
        },
        "id": "PwKJxO_PwR-u",
        "outputId": "cfc2c4dc-2362-4ff0-cab6-8102cb2ddc3f"
      },
      "source": [
        "# 파이썬에서는 들여쓰기 자체가 문법\n",
        "print('hello, python1!!')\n",
        " print('hello, python2!!')"
      ],
      "execution_count": null,
      "outputs": [
        {
          "output_type": "error",
          "ename": "IndentationError",
          "evalue": "ignored",
          "traceback": [
            "\u001b[0;36m  File \u001b[0;32m\"<ipython-input-1-a6d7dec443a7>\"\u001b[0;36m, line \u001b[0;32m2\u001b[0m\n\u001b[0;31m    print('hello, python2!!')\u001b[0m\n\u001b[0m    ^\u001b[0m\n\u001b[0;31mIndentationError\u001b[0m\u001b[0;31m:\u001b[0m unexpected indent\n"
          ]
        }
      ]
    },
    {
      "cell_type": "code",
      "metadata": {
        "colab": {
          "base_uri": "https://localhost:8080/",
          "height": 136
        },
        "id": "W4-3oDSNzrMv",
        "outputId": "32b71099-5c8f-4831-d098-1909ebe7238c"
      },
      "source": [
        "if a<0:\n",
        "print(test1)"
      ],
      "execution_count": null,
      "outputs": [
        {
          "output_type": "error",
          "ename": "IndentationError",
          "evalue": "ignored",
          "traceback": [
            "\u001b[0;36m  File \u001b[0;32m\"<ipython-input-2-f05199a99426>\"\u001b[0;36m, line \u001b[0;32m2\u001b[0m\n\u001b[0;31m    print(test1)\u001b[0m\n\u001b[0m        ^\u001b[0m\n\u001b[0;31mIndentationError\u001b[0m\u001b[0;31m:\u001b[0m expected an indented block\n"
          ]
        }
      ]
    },
    {
      "cell_type": "code",
      "metadata": {
        "colab": {
          "base_uri": "https://localhost:8080/"
        },
        "id": "2eGh6lomzwbn",
        "outputId": "f66d8bee-0a5a-411a-8a73-434b72f177a4"
      },
      "source": [
        "# int(정수)\n",
        "n=1\n",
        "print(n)\n",
        "print(type(n)) #데이터형. 변수의 형태 확인방법.\n",
        "print(id(n))   #데이터 주소. 변수의 주소 확인방법."
      ],
      "execution_count": null,
      "outputs": [
        {
          "output_type": "stream",
          "text": [
            "1\n",
            "<class 'int'>\n",
            "94895955180032\n"
          ],
          "name": "stdout"
        }
      ]
    },
    {
      "cell_type": "code",
      "metadata": {
        "colab": {
          "base_uri": "https://localhost:8080/"
        },
        "id": "0ah1Yn-s0m0R",
        "outputId": "d59f73ff-fe41-4302-ebb8-03844d79ef13"
      },
      "source": [
        "# float(실수)\n",
        "n=1.0\n",
        "print(n)\n",
        "print(type(n))\n",
        "print(id(n))"
      ],
      "execution_count": null,
      "outputs": [
        {
          "output_type": "stream",
          "text": [
            "1.0\n",
            "<class 'float'>\n",
            "140435992494320\n"
          ],
          "name": "stdout"
        }
      ]
    },
    {
      "cell_type": "code",
      "metadata": {
        "colab": {
          "base_uri": "https://localhost:8080/"
        },
        "id": "sC5j1VTN02EG",
        "outputId": "12393246-eed1-49d3-a55e-6129138d3cb8"
      },
      "source": [
        "# str(문자열)\n",
        "n=\"hi\"\n",
        "print(n)\n",
        "print(type(n))\n",
        "print(id(n))"
      ],
      "execution_count": null,
      "outputs": [
        {
          "output_type": "stream",
          "text": [
            "hi\n",
            "<class 'str'>\n",
            "140436625859568\n"
          ],
          "name": "stdout"
        }
      ]
    },
    {
      "cell_type": "code",
      "metadata": {
        "colab": {
          "base_uri": "https://localhost:8080/"
        },
        "id": "tY8r1gVD03w2",
        "outputId": "48d38874-4f60-4979-bb56-9bb6fa20b603"
      },
      "source": [
        "# bool형\n",
        "n=True\n",
        "print(n)\n",
        "print(type(n))\n",
        "print(id(n))"
      ],
      "execution_count": null,
      "outputs": [
        {
          "output_type": "stream",
          "text": [
            "True\n",
            "<class 'bool'>\n",
            "94895954505984\n"
          ],
          "name": "stdout"
        }
      ]
    },
    {
      "cell_type": "code",
      "metadata": {
        "colab": {
          "base_uri": "https://localhost:8080/"
        },
        "id": "mYbGPbvJ05j2",
        "outputId": "c9daf734-0e90-43eb-bf78-8e07fb0f8fed"
      },
      "source": [
        "# 리스트\n",
        "n=[1,2,3]\n",
        "print(n)\n",
        "print(type(n))\n",
        "print(id(n))"
      ],
      "execution_count": null,
      "outputs": [
        {
          "output_type": "stream",
          "text": [
            "[1, 2, 3]\n",
            "<class 'list'>\n",
            "140435925698192\n"
          ],
          "name": "stdout"
        }
      ]
    },
    {
      "cell_type": "code",
      "metadata": {
        "colab": {
          "base_uri": "https://localhost:8080/"
        },
        "id": "qp_xUfAF07d-",
        "outputId": "4a9146f6-dd7a-4c4f-f727-1108fd414d2c"
      },
      "source": [
        "# 튜플\n",
        "n=(1,2,3)\n",
        "print(n)\n",
        "print(type(n))\n",
        "print(id(n))"
      ],
      "execution_count": null,
      "outputs": [
        {
          "output_type": "stream",
          "text": [
            "(1, 2, 3)\n",
            "<class 'tuple'>\n",
            "140435925570336\n"
          ],
          "name": "stdout"
        }
      ]
    },
    {
      "cell_type": "code",
      "metadata": {
        "colab": {
          "base_uri": "https://localhost:8080/"
        },
        "id": "nVD6n1m609TW",
        "outputId": "1557daec-fa7d-42a4-d42e-e6b4a3abdb97"
      },
      "source": [
        "# dict{딕셔너리: }\n",
        "n={'name':'john','age':15}\n",
        "print(n)\n",
        "print(type(n))\n",
        "print(id(n))"
      ],
      "execution_count": null,
      "outputs": [
        {
          "output_type": "stream",
          "text": [
            "{'name': 'john', 'age': 15}\n",
            "<class 'dict'>\n",
            "140435925182896\n"
          ],
          "name": "stdout"
        }
      ]
    },
    {
      "cell_type": "code",
      "metadata": {
        "colab": {
          "base_uri": "https://localhost:8080/"
        },
        "id": "gPj0U9C-1KSG",
        "outputId": "4868a5cf-78ed-44c9-fbb4-a0a3ab60fd6b"
      },
      "source": [
        "# 집합\n",
        "n={'apple','orange','orange','banana'}\n",
        "print(n)\n",
        "print(type(n))\n",
        "print(id(n))"
      ],
      "execution_count": null,
      "outputs": [
        {
          "output_type": "stream",
          "text": [
            "{'banana', 'orange', 'apple'}\n",
            "<class 'set'>\n",
            "140435926018000\n"
          ],
          "name": "stdout"
        }
      ]
    },
    {
      "cell_type": "code",
      "metadata": {
        "colab": {
          "base_uri": "https://localhost:8080/",
          "height": 136
        },
        "id": "9lHrd9cA1NMV",
        "outputId": "d9613ada-4923-49c1-ae0b-53e21341501b"
      },
      "source": [
        "# 문자열 쓰기\n",
        "a=\"시간은 '금'이다\"\n",
        "b='시간은 \"금\"이다'\n",
        "c='시간은 '금'이다'\n",
        "print(a)\n",
        "print(b)\n",
        "print(c)"
      ],
      "execution_count": null,
      "outputs": [
        {
          "output_type": "error",
          "ename": "SyntaxError",
          "evalue": "ignored",
          "traceback": [
            "\u001b[0;36m  File \u001b[0;32m\"<ipython-input-2-8cb66446d4dd>\"\u001b[0;36m, line \u001b[0;32m4\u001b[0m\n\u001b[0;31m    c='시간은 '금'이다'\u001b[0m\n\u001b[0m            ^\u001b[0m\n\u001b[0;31mSyntaxError\u001b[0m\u001b[0;31m:\u001b[0m invalid syntax\n"
          ]
        }
      ]
    },
    {
      "cell_type": "code",
      "metadata": {
        "colab": {
          "base_uri": "https://localhost:8080/"
        },
        "id": "-U56oMZc2LMk",
        "outputId": "44a8b74d-e5e1-4558-fda2-9034ef124857"
      },
      "source": [
        "a='''자세히 보아야 예쁘다.\n",
        "오래 보아야 사랑스럽다.\n",
        "너도 그렇다.'''\n",
        "print(a)"
      ],
      "execution_count": null,
      "outputs": [
        {
          "output_type": "stream",
          "text": [
            "자세히 보아야 예쁘다.\n",
            "오래 보아야 사랑스럽다.\n",
            "너도 그렇다.\n"
          ],
          "name": "stdout"
        }
      ]
    },
    {
      "cell_type": "code",
      "metadata": {
        "colab": {
          "base_uri": "https://localhost:8080/"
        },
        "id": "uQ2eHRsv2WE8",
        "outputId": "ddf30d6f-a256-4ee0-b585-f5a3a349b2ea"
      },
      "source": [
        "a=\"'낮말'은 새가 듣고 '밤말'은 쥐가 듣는다\"\n",
        "b='\"시간은 금\"이라는 말이 있다'\n",
        "print(a)\n",
        "print(b)"
      ],
      "execution_count": null,
      "outputs": [
        {
          "output_type": "stream",
          "text": [
            "'낮말'은 새가 듣고 '밤말'은 쥐가 듣는다\n",
            "\"시간은 금\"이라는 말이 있다\n"
          ],
          "name": "stdout"
        }
      ]
    },
    {
      "cell_type": "code",
      "metadata": {
        "colab": {
          "base_uri": "https://localhost:8080/"
        },
        "id": "1SdU5rz12iRN",
        "outputId": "c0f69352-7d72-4517-ef40-d457d5694f5d"
      },
      "source": [
        "#부울형\n",
        "a=1>2\n",
        "print(a)\n",
        "a=1<2\n",
        "print(a)"
      ],
      "execution_count": null,
      "outputs": [
        {
          "output_type": "stream",
          "text": [
            "False\n",
            "True\n"
          ],
          "name": "stdout"
        }
      ]
    },
    {
      "cell_type": "markdown",
      "metadata": {
        "id": "V5VKCvdAkZU2"
      },
      "source": [
        "# 기본 연산"
      ]
    },
    {
      "cell_type": "code",
      "metadata": {
        "colab": {
          "base_uri": "https://localhost:8080/"
        },
        "id": "-zwfBQgc26q9",
        "outputId": "00316889-b962-4bb2-aa58-08856fcf348c"
      },
      "source": [
        "# 숫자와 문자열\n",
        "a,b=10,20\n",
        "print(a+b)"
      ],
      "execution_count": null,
      "outputs": [
        {
          "output_type": "stream",
          "text": [
            "30\n"
          ],
          "name": "stdout"
        }
      ]
    },
    {
      "cell_type": "code",
      "metadata": {
        "colab": {
          "base_uri": "https://localhost:8080/"
        },
        "id": "nW1tlOSc3KP9",
        "outputId": "1a0f89aa-8156-4f69-b55f-3c38249bb4c2"
      },
      "source": [
        "a,b=\"10\",\"20\"\n",
        "print(a+b)"
      ],
      "execution_count": null,
      "outputs": [
        {
          "output_type": "stream",
          "text": [
            "1020\n"
          ],
          "name": "stdout"
        }
      ]
    },
    {
      "cell_type": "code",
      "metadata": {
        "colab": {
          "base_uri": "https://localhost:8080/",
          "height": 190
        },
        "id": "5yKujplm3PIc",
        "outputId": "d2babf81-336b-4c18-c3cf-2b9266d4ac85"
      },
      "source": [
        "# 숫자와 문자는 연산되지 않는다.\n",
        "a,b=\"10\",20\n",
        "print(a+b)"
      ],
      "execution_count": null,
      "outputs": [
        {
          "output_type": "error",
          "ename": "TypeError",
          "evalue": "ignored",
          "traceback": [
            "\u001b[0;31m---------------------------------------------------------------------------\u001b[0m",
            "\u001b[0;31mTypeError\u001b[0m                                 Traceback (most recent call last)",
            "\u001b[0;32m<ipython-input-22-420e106498ae>\u001b[0m in \u001b[0;36m<module>\u001b[0;34m()\u001b[0m\n\u001b[1;32m      1\u001b[0m \u001b[0ma\u001b[0m\u001b[0;34m,\u001b[0m\u001b[0mb\u001b[0m\u001b[0;34m=\u001b[0m\u001b[0;34m\"10\"\u001b[0m\u001b[0;34m,\u001b[0m\u001b[0;36m20\u001b[0m\u001b[0;34m\u001b[0m\u001b[0;34m\u001b[0m\u001b[0m\n\u001b[0;32m----> 2\u001b[0;31m \u001b[0mprint\u001b[0m\u001b[0;34m(\u001b[0m\u001b[0ma\u001b[0m\u001b[0;34m+\u001b[0m\u001b[0mb\u001b[0m\u001b[0;34m)\u001b[0m\u001b[0;34m\u001b[0m\u001b[0;34m\u001b[0m\u001b[0m\n\u001b[0m",
            "\u001b[0;31mTypeError\u001b[0m: can only concatenate str (not \"int\") to str"
          ]
        }
      ]
    },
    {
      "cell_type": "code",
      "metadata": {
        "colab": {
          "base_uri": "https://localhost:8080/"
        },
        "id": "l6p_TzNy3zVU",
        "outputId": "e8443fe4-2a48-498a-ad36-903ab7f31357"
      },
      "source": [
        "a,b=10.0,20\n",
        "print(a+b)"
      ],
      "execution_count": null,
      "outputs": [
        {
          "output_type": "stream",
          "text": [
            "30.0\n"
          ],
          "name": "stdout"
        }
      ]
    },
    {
      "cell_type": "code",
      "metadata": {
        "colab": {
          "base_uri": "https://localhost:8080/"
        },
        "id": "cOcPeo5k67cD",
        "outputId": "50f955c8-5e04-428b-a02b-80886a94730c"
      },
      "source": [
        "# 형 변환\n",
        "a,b=10,\"20\"\n",
        "print(a+int(b))\n",
        "\n",
        "a,b=10,20\n",
        "print(str(a)+str(b))\n",
        "\n",
        "a,b=10,20\n",
        "print(float(a)+float(b))"
      ],
      "execution_count": null,
      "outputs": [
        {
          "output_type": "stream",
          "text": [
            "30\n",
            "1020\n",
            "30.0\n"
          ],
          "name": "stdout"
        }
      ]
    },
    {
      "cell_type": "markdown",
      "metadata": {
        "id": "KL6Xo9zZkRp-"
      },
      "source": [
        "# 변수 입력받아 출력하기"
      ]
    },
    {
      "cell_type": "code",
      "metadata": {
        "colab": {
          "base_uri": "https://localhost:8080/"
        },
        "id": "fq2NHTr_7N-j",
        "outputId": "0b8a3add-bee4-4853-f550-20bc2aa02e08"
      },
      "source": [
        "# input으로 입력받은 값은 문자열타입이다.\n",
        "name=input('이름을 입력하세요: ')\n",
        "print(name,'님 안녕하세요?')"
      ],
      "execution_count": null,
      "outputs": [
        {
          "output_type": "stream",
          "text": [
            "이름을 입력하세요: 300\n",
            "300 님 안녕하세요?\n"
          ],
          "name": "stdout"
        }
      ]
    },
    {
      "cell_type": "code",
      "metadata": {
        "colab": {
          "base_uri": "https://localhost:8080/"
        },
        "id": "jkRwgL5t7UKz",
        "outputId": "27f45f08-27fe-408d-9dc6-d21f2defc9ad"
      },
      "source": [
        "print(5)\n",
        "print(0.5)\n",
        "print('Hi')\n",
        "print('10')\n",
        "\n",
        "print(1+2)\n",
        "print(2>3)\n",
        "print(2<3)\n",
        "\n",
        "a=1\n",
        "print(a)\n",
        "print(a+1)\n",
        "\n",
        "# 출력 구분값 쉼표 사용\n",
        "print('Hello','World')\n",
        "print('1 더하기 2는',1+2)\n",
        "age=10\n",
        "print('나는',age,'살입니다.')"
      ],
      "execution_count": null,
      "outputs": [
        {
          "output_type": "stream",
          "text": [
            "5\n",
            "0.5\n",
            "Hi\n",
            "10\n",
            "3\n",
            "False\n",
            "True\n",
            "1\n",
            "2\n",
            "Hello World\n",
            "1 더하기 2는 3\n",
            "나는 10 살입니다.\n"
          ],
          "name": "stdout"
        }
      ]
    },
    {
      "cell_type": "code",
      "metadata": {
        "colab": {
          "base_uri": "https://localhost:8080/"
        },
        "id": "UBjjCC5A7beU",
        "outputId": "db8dfadc-1891-4a73-99b0-90d3c8e4940c"
      },
      "source": [
        "# f스트링 문장 사이 변수값을 출력할 때 사용\n",
        "\n",
        "name=input('이름을 입력하세요: ')\n",
        "print(f'{name}님 안녕하세요?')"
      ],
      "execution_count": null,
      "outputs": [
        {
          "output_type": "stream",
          "text": [
            "이름을 입력하세요: 파이썬\n",
            "파이썬님 안녕하세요?\n"
          ],
          "name": "stdout"
        }
      ]
    },
    {
      "cell_type": "code",
      "metadata": {
        "colab": {
          "base_uri": "https://localhost:8080/"
        },
        "id": "JREJTUX4-PRr",
        "outputId": "15f73cb9-464b-42f9-fa0a-f0ad4a20a231"
      },
      "source": [
        "print('두 수를 입력받아 더하는 프로그램입니다.')\n",
        "num1=input('첫번째 숫자를 입력하세요: ')\n",
        "num2=input('두번째 숫자를 입력하세요: ')\n",
        "\n",
        "print(f'{num1} + {num2} = {int(num1)+int(num2)}')"
      ],
      "execution_count": null,
      "outputs": [
        {
          "output_type": "stream",
          "text": [
            "두 수를 입력받아 더하는 프로그램입니다.\n",
            "첫번째 숫자를 입력하세요: 15\n",
            "두번째 숫자를 입력하세요: 25\n",
            "15 + 25 = 40\n"
          ],
          "name": "stdout"
        }
      ]
    },
    {
      "cell_type": "markdown",
      "metadata": {
        "id": "huZpSyKdkzaT"
      },
      "source": [
        "# 산술연산"
      ]
    },
    {
      "cell_type": "code",
      "metadata": {
        "colab": {
          "base_uri": "https://localhost:8080/"
        },
        "id": "xlaA1wG-_U_1",
        "outputId": "fbd4789d-99db-4e38-cfc9-f176e95d2423"
      },
      "source": [
        "# 산술연산\n",
        "# 인수가 0이면 오류발생\n",
        "\n",
        "x=100\n",
        "y=5\n",
        "\n",
        "print(x+y)\n",
        "print(x-y)\n",
        "print(x*y)\n",
        "print(x/y)\n",
        "print(x//y) # 몫의 정수 부분만\n",
        "print(x%y)  # 나누기의 나머지\n",
        "print(-x)\n",
        "print(+x)\n",
        "print(x**y) # 제곱"
      ],
      "execution_count": null,
      "outputs": [
        {
          "output_type": "stream",
          "text": [
            "105\n",
            "95\n",
            "500\n",
            "20.0\n",
            "20\n",
            "0\n",
            "-100\n",
            "100\n",
            "10000000000\n"
          ],
          "name": "stdout"
        }
      ]
    },
    {
      "cell_type": "markdown",
      "metadata": {
        "id": "Oz-ODSFak-Wh"
      },
      "source": [
        "# 예제"
      ]
    },
    {
      "cell_type": "code",
      "metadata": {
        "colab": {
          "base_uri": "https://localhost:8080/"
        },
        "id": "dqhTTFziA70V",
        "outputId": "413bb81d-69d3-4663-f163-39d080a2189b"
      },
      "source": [
        "# 화씨 온도를 받아서 섭씨온도로 바꾸는 프로그램\n",
        "\n",
        "f=int(input('화씨온도: '))\n",
        "print('섭씨온도: ',(f-32)*5/9)"
      ],
      "execution_count": null,
      "outputs": [
        {
          "output_type": "stream",
          "text": [
            "화씨온도: 30\n",
            "섭씨온도:  -1.1111111111111112\n"
          ],
          "name": "stdout"
        }
      ]
    },
    {
      "cell_type": "code",
      "metadata": {
        "colab": {
          "base_uri": "https://localhost:8080/"
        },
        "id": "VNCNQYhfB5Y0",
        "outputId": "3ea70990-3e50-4922-ac48-e6463bcee96d"
      },
      "source": [
        "# 삼각형의 넓이\n",
        "\n",
        "a=float(input('밑변:'))\n",
        "b=float(input('높이:'))\n",
        "\n",
        "print('삼각형의 넓이:',(a*b)/2)"
      ],
      "execution_count": null,
      "outputs": [
        {
          "output_type": "stream",
          "text": [
            "밑변:6.5\n",
            "높이:5\n",
            "삼각형의 넓이: 16.25\n"
          ],
          "name": "stdout"
        }
      ]
    },
    {
      "cell_type": "code",
      "metadata": {
        "colab": {
          "base_uri": "https://localhost:8080/"
        },
        "id": "YjVkFqucFcgO",
        "outputId": "0ef7adf6-afcb-43df-aca1-9f7d7571ba91"
      },
      "source": [
        "print(f'삼각형의 넓이: {(float(input(\"밑변: \"))*float(input(\"높이: \")))/2}')"
      ],
      "execution_count": null,
      "outputs": [
        {
          "output_type": "stream",
          "text": [
            "밑변: 5\n",
            "높이: 6\n",
            "삼각형의 넓이: 15.0\n"
          ],
          "name": "stdout"
        }
      ]
    },
    {
      "cell_type": "code",
      "metadata": {
        "colab": {
          "base_uri": "https://localhost:8080/"
        },
        "id": "2TfbCZf_J0IT",
        "outputId": "a901b2e6-3cb4-48d1-971b-93116b252c00"
      },
      "source": [
        "# 원의 넓이 구하기\n",
        "\n",
        "r=float(input('원의 반지름: '))\n",
        "p=3.14\n",
        "print(f'원의 둘레:{2*p*r} 원의 넓이:{p*(r**2)}')"
      ],
      "execution_count": null,
      "outputs": [
        {
          "output_type": "stream",
          "text": [
            "원의 반지름: 5\n",
            "원의 둘레:31.400000000000002 원의 넓이:78.5\n"
          ],
          "name": "stdout"
        }
      ]
    },
    {
      "cell_type": "markdown",
      "metadata": {
        "id": "zYm76Qg8lEAU"
      },
      "source": [
        "# 복합할당연산자"
      ]
    },
    {
      "cell_type": "code",
      "metadata": {
        "id": "LL1w40JyKav7"
      },
      "source": [
        "# 복합할당연산자\n",
        "\n",
        "a=8\n",
        "\n",
        "a+=3 # (a=a+3)\n",
        "a-=3 # (a=a-3)\n",
        "a*=3 # (a=a*3)\n",
        "a/=3 # (a=a/3)\n",
        "a**=3 # (a=a**3)\n",
        "a//=3 # (a=a//3)\n",
        "a%=3 # (a=a%3)\n"
      ],
      "execution_count": null,
      "outputs": []
    },
    {
      "cell_type": "code",
      "metadata": {
        "colab": {
          "base_uri": "https://localhost:8080/"
        },
        "id": "Soj3kV06M6kz",
        "outputId": "53ca55c0-8764-482a-f89d-b65840dd2e23"
      },
      "source": [
        "x=10\n",
        "x +=20\n",
        "print(x)"
      ],
      "execution_count": null,
      "outputs": [
        {
          "output_type": "stream",
          "text": [
            "30\n"
          ],
          "name": "stdout"
        }
      ]
    },
    {
      "cell_type": "code",
      "metadata": {
        "colab": {
          "base_uri": "https://localhost:8080/"
        },
        "id": "iwzi8LDWNArN",
        "outputId": "a9d44125-f90e-4253-9c45-4028ec973b4b"
      },
      "source": [
        "x=3\n",
        "y=5\n",
        "x *= x + y\n",
        "x = x*(x+y)\n",
        "print(x)"
      ],
      "execution_count": null,
      "outputs": [
        {
          "output_type": "stream",
          "text": [
            "24\n"
          ],
          "name": "stdout"
        }
      ]
    },
    {
      "cell_type": "markdown",
      "metadata": {
        "id": "zVUqvCgtlJb4"
      },
      "source": [
        "# 문자열"
      ]
    },
    {
      "cell_type": "code",
      "metadata": {
        "colab": {
          "base_uri": "https://localhost:8080/"
        },
        "id": "dmg13fWMNJpS",
        "outputId": "9d234204-e85e-4635-a057-19b14f75076e"
      },
      "source": [
        "# 문자열 반복하기\n",
        "s='ha'\n",
        "print(s*5)"
      ],
      "execution_count": null,
      "outputs": [
        {
          "output_type": "stream",
          "text": [
            "hahahahaha\n"
          ],
          "name": "stdout"
        }
      ]
    },
    {
      "cell_type": "code",
      "metadata": {
        "colab": {
          "base_uri": "https://localhost:8080/"
        },
        "id": "_VdCcIhoPD4Y",
        "outputId": "f8992102-632d-4229-9499-5e7b08418125"
      },
      "source": [
        "# 문자열 연결하기\n",
        "\n",
        "name=input('이름을 입력하세요: ')\n",
        "greet=name+'님, 안녕하세요'\n",
        "print(greet)"
      ],
      "execution_count": null,
      "outputs": [
        {
          "output_type": "stream",
          "text": [
            "이름을 입력하세요: skark93\n",
            "skark93님, 안녕하세요\n"
          ],
          "name": "stdout"
        }
      ]
    },
    {
      "cell_type": "code",
      "metadata": {
        "colab": {
          "base_uri": "https://localhost:8080/"
        },
        "id": "lKUT-HlQPasJ",
        "outputId": "ed6479e1-30f2-41d0-d60a-44a43f4826e4"
      },
      "source": [
        "# 문자열 연결시 숫자 포함\n",
        "\n",
        "english=80\n",
        "result='영어점수: ' + str(english) + '점'\n",
        "print(result)"
      ],
      "execution_count": null,
      "outputs": [
        {
          "output_type": "stream",
          "text": [
            "영어점수: 80점\n"
          ],
          "name": "stdout"
        }
      ]
    },
    {
      "cell_type": "markdown",
      "metadata": {
        "id": "EbNfbEZ2lMak"
      },
      "source": [
        "# 예제2"
      ]
    },
    {
      "cell_type": "code",
      "metadata": {
        "colab": {
          "base_uri": "https://localhost:8080/"
        },
        "id": "tqb2TEaEP2sS",
        "outputId": "5abacddb-4bc5-47f6-f3f1-b7a28d59cc5c"
      },
      "source": [
        "# 로봇기자 만들기\n",
        "\n",
        "sta=input('경기장: ')\n",
        "winner=input('이긴팀: ')\n",
        "loser=input('진팀: ')\n",
        "vip=input('vip: ')\n",
        "score=input('스코어: ')\n",
        "print('-'*60)\n",
        "\n",
        "print(f'''오늘 {sta}에서 경기가 열렸습니다.\n",
        "{winner}와(과) {loser}은(는) 치열한 공방전을 펼쳤습니다.\n",
        "{vip}이(가) 맹활약을 펼쳤습니다.\n",
        "결국 {winner}이(가) {loser}을(를) {score}로 이겼습니다.''')"
      ],
      "execution_count": null,
      "outputs": [
        {
          "output_type": "stream",
          "text": [
            "경기장: 올림픽경기장\n",
            "이긴팀: 대한민국\n",
            "진팀: 일본\n",
            "vip: 손흥민\n",
            "스코어: 10:0\n",
            "------------------------------------------------------------\n",
            "오늘 올림픽경기장에서 경기가 열렸습니다.\n",
            "대한민국와(과) 일본은(는) 치열한 공방전을 펼쳤습니다.\n",
            "손흥민이(가) 맹활약을 펼쳤습니다.\n",
            "결국 대한민국이(가) 일본을(를) 10:0로 이겼습니다.\n"
          ],
          "name": "stdout"
        }
      ]
    },
    {
      "cell_type": "code",
      "metadata": {
        "colab": {
          "base_uri": "https://localhost:8080/"
        },
        "id": "2b1RhfMBX2am",
        "outputId": "4f7264e2-6df5-403d-8f88-6e0945815268"
      },
      "source": [
        "# 광고 만들기\n",
        "\n",
        "loca=input('지역을 입력해주세요: ')\n",
        "sale=input('매물종류를 선택해주세요: ')\n",
        "square=input('평을 입력해주세요: ')\n",
        "volume=input('방 개수를 입력해주세요: ')\n",
        "price=input('가격을 입력해주세요: ')\n",
        "print('-'*60)\n",
        "\n",
        "print(f'''{loca}에 위치한 아주 좋은 {sale}이(가) 매물로 나왔습니다.\n",
        "이 {sale}는 {square}평으로 {volume}개의 방을 가지고 있습니다.\n",
        "가격은 {price}만원 입니다.''')"
      ],
      "execution_count": null,
      "outputs": [
        {
          "output_type": "stream",
          "text": [
            "지역: 노원구\n",
            "매물종류: 아파트\n",
            "평: 18\n",
            "방 개수: 2\n",
            "가격: 1억 5천\n",
            "------------------------------------------------------------\n",
            "노원구에 위치한 아주 좋은 아파트이(가) 매물로 나왔습니다.\n",
            "이 아파트는 18평으로 2개의 방을 가지고 있습니다.\n",
            "가격은 1억 5천만원 입니다.\n"
          ],
          "name": "stdout"
        }
      ]
    },
    {
      "cell_type": "code",
      "metadata": {
        "colab": {
          "base_uri": "https://localhost:8080/"
        },
        "id": "tQg7MbkbakyT",
        "outputId": "a3e0e6bf-3bb8-4b52-fa20-6a756d9bf916"
      },
      "source": [
        "# 우리팀 홍보하기\n",
        "tn = input('팀 이름: ')\n",
        "con = input('팀 컨셉: ')\n",
        "print(f\"\"\"\n",
        "저희 팀은 '{tn}'팀 입니다.\n",
        "저희팀은 팀원 각자에게 {con} 컨셉으로 이름을 붙였습니다.\n",
        "\"\"\")\n"
      ],
      "execution_count": null,
      "outputs": [
        {
          "output_type": "stream",
          "text": [
            "팀 이름: 넘버원\n",
            "팀 컨셉: 외국계 회사 취직하기\n",
            "\n",
            "저희 팀은 '넘버원'팀 입니다.\n",
            "저희팀은 팀원 각자에게 외국계 회사 취직하기 컨셉으로 이름을 붙였습니다.\n",
            "\n"
          ],
          "name": "stdout"
        }
      ]
    },
    {
      "cell_type": "code",
      "metadata": {
        "colab": {
          "base_uri": "https://localhost:8080/"
        },
        "id": "i7g62KjecdGU",
        "outputId": "4036f9fa-207d-4b42-ad4d-c1ca04275bef"
      },
      "source": [
        "# 성적계산 프로그램\n",
        "\n",
        "name=input('이름을 입력하세요:')\n",
        "kor=float(input('국어성적을 입력하세요:'))\n",
        "eng=float(input('영어성적을 입력하세요:'))\n",
        "math=float(input('수학성적을 입력하세요:'))\n",
        "avg=(kor+eng+math)/3\n",
        "print('-'*60)\n",
        "print(f'{name}님의 평균성적은 {round((avg),2)}점 입니다')"
      ],
      "execution_count": null,
      "outputs": [
        {
          "output_type": "stream",
          "text": [
            "이름을 입력하세요:남가연\n",
            "국어성적을 입력하세요:90\n",
            "영어성적을 입력하세요:95\n",
            "수학성적을 입력하세요:94\n",
            "------------------------------------------------------------\n",
            "남가연님의 평균성적은 93.0점 입니다\n"
          ],
          "name": "stdout"
        }
      ]
    },
    {
      "cell_type": "code",
      "metadata": {
        "id": "f9dAOD2ReNSw",
        "colab": {
          "base_uri": "https://localhost:8080/"
        },
        "outputId": "675ac038-3da7-4d1f-9749-ce92285969c6"
      },
      "source": [
        "# 커피가게 매출 계산하기\n",
        "\n",
        "ame_price=2000\n",
        "cafe_price=3000\n",
        "cafu_price=3500\n",
        "\n",
        "ame=int(input('아메리카노 판매 갯수:'))\n",
        "cafe=int(input('카페라떼 판매 갯수:'))\n",
        "cafu=int(input('카푸치노 판매 갯수:'))\n",
        "total_income=((ame*ame_price)+(cafe*cafe_price)+(cafu*cafu_price))\n",
        "print(f'총 매출은 {total_income}원 입니다')"
      ],
      "execution_count": null,
      "outputs": [
        {
          "output_type": "stream",
          "text": [
            "아메리카노 판매 갯수:10\n",
            "카페라떼 판매 갯수:20\n",
            "카푸치노 판매 갯수:30\n",
            "총 매출은 185000원 입니다\n"
          ],
          "name": "stdout"
        }
      ]
    },
    {
      "cell_type": "code",
      "metadata": {
        "colab": {
          "base_uri": "https://localhost:8080/"
        },
        "id": "PQr8ws0XltMY",
        "outputId": "7de6360d-e0b0-41a5-8900-abe1647f7b7e"
      },
      "source": [
        "ame = int(input('아메리카노 판매 갯수:'))\n",
        "cafe = int(input('카페라떼 판매 갯수:'))\n",
        "cafu = int(input('카푸치노 판매 갯수:'))\n",
        "\n",
        "ame *= 2000\n",
        "cafe *= 3000\n",
        "cafu *= 3500\n",
        "\n",
        "print(f'총 매출은 {(ame+cafe+cafu)}입니다')"
      ],
      "execution_count": null,
      "outputs": [
        {
          "output_type": "stream",
          "text": [
            "아메리카노 판매 갯수:15\n",
            "카페라떼 판매 갯수:12\n",
            "카푸치노 판매 갯수:3\n",
            "총 매출은 76500입니다\n"
          ],
          "name": "stdout"
        }
      ]
    },
    {
      "cell_type": "markdown",
      "metadata": {
        "id": "2bwvvp-tlZWu"
      },
      "source": [
        "# 문자열"
      ]
    },
    {
      "cell_type": "code",
      "metadata": {
        "colab": {
          "base_uri": "https://localhost:8080/"
        },
        "id": "NRvXJZMZmVam",
        "outputId": "4b8e5137-3dc2-4138-e620-d119afeebefa"
      },
      "source": [
        "print( '셀 병합 \\n \\t \\'shift key\\'를 누른후 \\n \\t \\t병합을 원하는 셀들을 다중선택 후 shift+M')\n",
        "\n"
      ],
      "execution_count": null,
      "outputs": [
        {
          "output_type": "stream",
          "text": [
            "셀 병합 \n",
            " \t 'shift key'를 누른후 \n",
            " \t \t병합을 원하는 셀들을 다중선택 후 shift+M\n"
          ],
          "name": "stdout"
        }
      ]
    },
    {
      "cell_type": "code",
      "metadata": {
        "colab": {
          "base_uri": "https://localhost:8080/"
        },
        "id": "18Ofsz5Bn-Q3",
        "outputId": "387ffe22-fd7d-49f8-ca8f-a3e4cbde87e9"
      },
      "source": [
        "# 문자열로서의 숫자처리\n",
        "# 주민번호, 우편번호 등 값이 0으로 시작되는 정수\n",
        "# 파이썬에서는 정수가 0으로 시작하면 정수값 입력오류로 문법 오류 처리\n",
        "print('06002')\n",
        "\n",
        "# 주민번호 예\n",
        "print(930101-2345466)\n",
        "print('030101-2345466')"
      ],
      "execution_count": null,
      "outputs": [
        {
          "output_type": "stream",
          "text": [
            "06002\n",
            "-1415365\n",
            "030101-2345466\n"
          ],
          "name": "stdout"
        }
      ]
    },
    {
      "cell_type": "code",
      "metadata": {
        "colab": {
          "base_uri": "https://localhost:8080/"
        },
        "id": "FNLeZTe8ozFV",
        "outputId": "11ef5213-05bd-45cd-f37b-782e299bb979"
      },
      "source": [
        "# join: 문자열을 원하는 글자로 더한다.\n",
        "# split: 문자열을 원하는 글자로 나눈다.\n",
        "\n",
        "print('-'.join('Hello World'))\n",
        "print('Welcome to python'.split(' '))"
      ],
      "execution_count": null,
      "outputs": [
        {
          "output_type": "stream",
          "text": [
            "H-e-l-l-o- -W-o-r-l-d\n",
            "['Welcome', 'to', 'python']\n"
          ],
          "name": "stdout"
        }
      ]
    },
    {
      "cell_type": "code",
      "metadata": {
        "colab": {
          "base_uri": "https://localhost:8080/"
        },
        "id": "Om7n8VRUpQmp",
        "outputId": "7da6f5de-6919-420d-d9b3-f129d2295f3a"
      },
      "source": [
        "a = 8 == 12\n",
        "print(a,type(a))\n",
        "\n",
        "b = 'apple' == 'APPLE'\n",
        "print(b,type(b))\n",
        "\n",
        "c = 8 != 12\n",
        "print(c,type(c))"
      ],
      "execution_count": null,
      "outputs": [
        {
          "output_type": "stream",
          "text": [
            "False <class 'bool'>\n",
            "False <class 'bool'>\n",
            "True <class 'bool'>\n"
          ],
          "name": "stdout"
        }
      ]
    },
    {
      "cell_type": "markdown",
      "metadata": {
        "id": "WgbHSZznlV-G"
      },
      "source": [
        "# 팀 예제"
      ]
    },
    {
      "cell_type": "code",
      "metadata": {
        "colab": {
          "base_uri": "https://localhost:8080/",
          "height": 352
        },
        "id": "DvOadfroqBSt",
        "outputId": "0ef3e8cc-d6ed-4597-8749-95bfa8b4b0e3"
      },
      "source": [
        " # 1팀_화씨 섭씨 계산기 심화\n",
        "print('''연산하고자 하는 \n",
        "C. 화씨로 섭씨 구하기.\n",
        "F. 섭씨로 화씨 구하기.\n",
        "''')\n",
        "order = input()\n",
        "if order == 'C' : \n",
        "    print(\"화씨에서 섭씨로 변환하는 수식은, '화씨 = (섭씨-32) * 5/9'이다.\")\n",
        "    print(divider)\n",
        "    Faren = input('화씨온도: ')\n",
        "    print(f'섭씨온도: {(float(Faren)-float(32))*float(5)/float(9)}')\n",
        "elif order == F : \n",
        "    print(\"섭씨에서 화씨로 변환하는 수식은, '섭씨 = (화씨*9/5) +32'이다.\")\n",
        "    print(divider)\n",
        "    C = input('섭씨온도: ')\n",
        "    print('섭씨온도: ', (float(C)*9/5) + 32)"
      ],
      "execution_count": null,
      "outputs": [
        {
          "output_type": "stream",
          "text": [
            "연산하고자 하는 \n",
            "C. 화씨로 섭씨 구하기.\n",
            "F. 섭씨로 화씨 구하기.\n",
            "\n",
            "C\n",
            "화씨에서 섭씨로 변환하는 수식은, '화씨 = (섭씨-32) * 5/9'이다.\n"
          ],
          "name": "stdout"
        },
        {
          "output_type": "error",
          "ename": "NameError",
          "evalue": "ignored",
          "traceback": [
            "\u001b[0;31m---------------------------------------------------------------------------\u001b[0m",
            "\u001b[0;31mNameError\u001b[0m                                 Traceback (most recent call last)",
            "\u001b[0;32m<ipython-input-62-47e32f582e96>\u001b[0m in \u001b[0;36m<module>\u001b[0;34m()\u001b[0m\n\u001b[1;32m      7\u001b[0m \u001b[0;32mif\u001b[0m \u001b[0morder\u001b[0m \u001b[0;34m==\u001b[0m \u001b[0;34m'C'\u001b[0m \u001b[0;34m:\u001b[0m\u001b[0;34m\u001b[0m\u001b[0;34m\u001b[0m\u001b[0m\n\u001b[1;32m      8\u001b[0m    \u001b[0mprint\u001b[0m\u001b[0;34m(\u001b[0m\u001b[0;34m\"화씨에서 섭씨로 변환하는 수식은, '화씨 = (섭씨-32) * 5/9'이다.\"\u001b[0m\u001b[0;34m)\u001b[0m\u001b[0;34m\u001b[0m\u001b[0;34m\u001b[0m\u001b[0m\n\u001b[0;32m----> 9\u001b[0;31m    \u001b[0mprint\u001b[0m\u001b[0;34m(\u001b[0m\u001b[0mdivider\u001b[0m\u001b[0;34m)\u001b[0m\u001b[0;34m\u001b[0m\u001b[0;34m\u001b[0m\u001b[0m\n\u001b[0m\u001b[1;32m     10\u001b[0m    \u001b[0mFaren\u001b[0m \u001b[0;34m=\u001b[0m \u001b[0minput\u001b[0m\u001b[0;34m(\u001b[0m\u001b[0;34m'화씨온도: '\u001b[0m\u001b[0;34m)\u001b[0m\u001b[0;34m\u001b[0m\u001b[0;34m\u001b[0m\u001b[0m\n\u001b[1;32m     11\u001b[0m    \u001b[0mprint\u001b[0m\u001b[0;34m(\u001b[0m\u001b[0;34mf'섭씨온도: {(float(Faren)-float(32))*float(5)/float(9)}'\u001b[0m\u001b[0;34m)\u001b[0m\u001b[0;34m\u001b[0m\u001b[0;34m\u001b[0m\u001b[0m\n",
            "\u001b[0;31mNameError\u001b[0m: name 'divider' is not defined"
          ]
        }
      ]
    },
    {
      "cell_type": "code",
      "metadata": {
        "colab": {
          "base_uri": "https://localhost:8080/"
        },
        "id": "5qSf7mu2uLVk",
        "outputId": "1032cb1e-d3e8-4374-d9a6-5309b32ba5a0"
      },
      "source": [
        "# 팀 예제\n",
        "\n",
        "divider = '-' * 50\n",
        "print('''연산하고자 하는 \n",
        "C. 화씨로 섭씨 구하기.\n",
        "F. 섭씨로 화씨 구하기.\n",
        "''')\n",
        "order = input()\n",
        "if order == 'C' : \n",
        "    print(\"화씨에서 섭씨로 변환하는 수식은, '화씨 = (섭씨-32) * 5/9'이다.\")\n",
        "    print(divider)\n",
        "    Faren = input('화씨온도: ')\n",
        "    print(f'섭씨온도: {(float(Faren)-float(32))*float(5)/float(9)}')\n",
        "elif order == 'F' : \n",
        "    print(\"섭씨에서 화씨로 변환하는 수식은, '섭씨 = (화씨*9/5) +32'이다.\")\n",
        "    print(divider)\n",
        "    C = input('섭씨온도: ')\n",
        "    print('화씨온도: ', (float(C)*9/5) + 32)"
      ],
      "execution_count": null,
      "outputs": [
        {
          "output_type": "stream",
          "text": [
            "연산하고자 하는 \n",
            "C. 화씨로 섭씨 구하기.\n",
            "F. 섭씨로 화씨 구하기.\n",
            "\n",
            "C\n",
            "화씨에서 섭씨로 변환하는 수식은, '화씨 = (섭씨-32) * 5/9'이다.\n",
            "--------------------------------------------------\n",
            "화씨온도: 20\n",
            "섭씨온도: -6.666666666666667\n"
          ],
          "name": "stdout"
        }
      ]
    },
    {
      "cell_type": "code",
      "metadata": {
        "id": "CYL1ZxOjuyiK"
      },
      "source": [
        ""
      ],
      "execution_count": null,
      "outputs": []
    }
  ]
}