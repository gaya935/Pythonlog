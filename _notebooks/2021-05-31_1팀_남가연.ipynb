{
  "nbformat": 4,
  "nbformat_minor": 0,
  "metadata": {
    "colab": {
      "name": "2021-05-31_1팀_남가연.ipynb",
      "provenance": [],
      "authorship_tag": "ABX9TyNqImfaNeo7OqZrZzg7CUT3",
      "include_colab_link": true
    },
    "kernelspec": {
      "name": "python3",
      "display_name": "Python 3"
    },
    "language_info": {
      "name": "python"
    }
  },
  "cells": [
    {
      "cell_type": "markdown",
      "metadata": {
        "id": "view-in-github",
        "colab_type": "text"
      },
      "source": [
        "<a href=\"https://colab.research.google.com/github/gaya935/Pythonlogee/blob/master/_notebooks/2021-05-31_1%ED%8C%80_%EB%82%A8%EA%B0%80%EC%97%B0.ipynb\" target=\"_parent\"><img src=\"https://colab.research.google.com/assets/colab-badge.svg\" alt=\"Open In Colab\"/></a>"
      ]
    },
    {
      "cell_type": "code",
      "metadata": {
        "colab": {
          "base_uri": "https://localhost:8080/"
        },
        "id": "0tPHP1u0gYXK",
        "outputId": "8c9491a2-fe6d-4c35-ed7a-219462d7d855"
      },
      "source": [
        "# 편의점 재고관리\n",
        "# 엔터를 입력받을 때까지 물건이름과 개수 입력받음\n",
        "# 만약 물건 이름이 존재하지 않으면 추가하고, 존재하면 물건 개수를 더한다.\n",
        "# 입력이 끝나면 재고현황을 물건이름의 오름차순으로 정렬하여 출력한다.\n",
        "\n",
        "goods={}\n",
        "while True:\n",
        "    product=input('상품명: ')\n",
        "    if product=='0':\n",
        "        break\n",
        "    stock=int(input('개수: '))\n",
        "    if product in goods.keys():\n",
        "        goods[product]+=stock\n",
        "    else:\n",
        "        goods[product]=stock\n",
        "print(goods)\n",
        "\n",
        "for key,value in sorted(goods.items()):\n",
        "    print(key,value,end=' ')\n",
        "\n"
      ],
      "execution_count": null,
      "outputs": [
        {
          "output_type": "stream",
          "text": [
            "상품명을 입력하세요: 김밥\n",
            "개수를 입력하세요: 3\n",
            "상품명을 입력하세요: 라면\n",
            "개수를 입력하세요: 5\n",
            "상품명을 입력하세요: 김밥\n",
            "개수를 입력하세요: 3\n",
            "상품명을 입력하세요: 0\n",
            "{'김밥': 6, '라면': 5}\n",
            "김밥 6 라면 5 "
          ],
          "name": "stdout"
        }
      ]
    },
    {
      "cell_type": "markdown",
      "metadata": {
        "id": "5Pq-hxPKvDtI"
      },
      "source": [
        "# 집합(set)"
      ]
    },
    {
      "cell_type": "code",
      "metadata": {
        "colab": {
          "base_uri": "https://localhost:8080/"
        },
        "id": "7eWNPXDoqJgd",
        "outputId": "9015c453-433c-4e52-d9e4-cef88e45cf24"
      },
      "source": [
        "# set_name={value0,...,valueN}\n",
        "# 자료들이 순서와 중복 없이 저장된 것\n",
        "# 중괄호{}안에 요소를 쉼표로 구분하여 나열한다.\n",
        "\n",
        "set_wish=set(['새우깡','오감자','양파링','포카칩','양파링'])\n",
        "set_wish\n",
        "# 중복값을 없애고 싶을 때"
      ],
      "execution_count": null,
      "outputs": [
        {
          "output_type": "execute_result",
          "data": {
            "text/plain": [
              "{'새우깡', '양파링', '오감자', '포카칩'}"
            ]
          },
          "metadata": {
            "tags": []
          },
          "execution_count": 17
        }
      ]
    },
    {
      "cell_type": "code",
      "metadata": {
        "colab": {
          "base_uri": "https://localhost:8080/"
        },
        "id": "J2ov_0JLvlIX",
        "outputId": "246f14ec-b56b-46be-ead6-b939f9cffbe2"
      },
      "source": [
        "# 집합 생성\n",
        "# 집합명={요소1,요소2,...,요소N}\n",
        "# 집합명=set([요소1,요소2,...요소N])\n",
        "\n",
        "set_wish={'새우깡','오감자','양파링','포카칩','양파링'}\n",
        "set_wish"
      ],
      "execution_count": null,
      "outputs": [
        {
          "output_type": "execute_result",
          "data": {
            "text/plain": [
              "{'새우깡', '양파링', '오감자', '포카칩'}"
            ]
          },
          "metadata": {
            "tags": []
          },
          "execution_count": 19
        }
      ]
    },
    {
      "cell_type": "code",
      "metadata": {
        "id": "lQJ9Mllowb6R"
      },
      "source": [
        "기초 통계적 지식\n",
        "데이터 예습\n",
        "개발을 해봅시다\n",
        "이 코스가 끝나도 계속 공부한다.\n",
        "쓸데없는 경험은 없다."
      ],
      "execution_count": null,
      "outputs": []
    },
    {
      "cell_type": "code",
      "metadata": {
        "colab": {
          "base_uri": "https://localhost:8080/"
        },
        "id": "o5uFnyyk19pB",
        "outputId": "10f8254b-03ac-4339-b544-23fe43a4f3b8"
      },
      "source": [
        "# 요소 추출\n",
        "# 집합자료형은 순서가 없기 때문에 인덱싱으로 값을 얻을 수 없다.\n",
        "# 집합 자료형에 저장된 값을 인덱싱으로 접근하려면 리스트나 튜플로 변환하여 사용한다.\n",
        "\n",
        "set_wish={'새우깡','오감자','양파링','포카칩','양파링'}\n",
        "list_setwish=list(set_wish)\n",
        "print(list_setwish)   # 출력값의 순서는 알 수 없다.\n",
        "print(list_setwish[2])   # 인덱스번호로 정확한 값을 추출하려면 리스트를 먼저 출력해야 원하는 값이 나올 것.\n",
        "\n",
        "tu_setwish=tuple(set_wish)\n",
        "print(tu_setwish)\n",
        "print(tu_setwish[2])"
      ],
      "execution_count": null,
      "outputs": [
        {
          "output_type": "stream",
          "text": [
            "['양파링', '새우깡', '오감자', '포카칩']\n",
            "오감자\n",
            "('양파링', '새우깡', '오감자', '포카칩')\n",
            "오감자\n"
          ],
          "name": "stdout"
        }
      ]
    },
    {
      "cell_type": "code",
      "metadata": {
        "colab": {
          "base_uri": "https://localhost:8080/"
        },
        "id": "RFV3kzNH2trG",
        "outputId": "d4d6a4f1-9fc6-4056-d5a2-d321eadab073"
      },
      "source": [
        "# 집합 연산\n",
        "\n",
        "sweety={'빼빼로','칸초','허니버터'}\n",
        "salty={'허니버터','포카칩','새우깡'}\n",
        "\n",
        "# 합집합- a.union(b) - a|b\n",
        "print(sweety.union(salty))\n",
        "print(sweety|salty)\n",
        "\n",
        "# 교집합 a.intersection(b) a&b\n",
        "print(sweety.intersection(salty))\n",
        "print(sweety&salty)\n",
        "\n",
        "# 차집합 a.difference(b) : a-b\n",
        "print(sweety.difference(salty))\n",
        "print(sweety-salty)\n",
        "print(salty.difference(sweety))\n",
        "print(salty-sweety)"
      ],
      "execution_count": null,
      "outputs": [
        {
          "output_type": "stream",
          "text": [
            "{'허니버터', '포카칩', '새우깡', '칸초', '빼빼로'}\n",
            "{'허니버터', '포카칩', '새우깡', '칸초', '빼빼로'}\n",
            "{'허니버터'}\n",
            "{'허니버터'}\n",
            "{'칸초', '빼빼로'}\n",
            "{'칸초', '빼빼로'}\n",
            "{'새우깡', '포카칩'}\n",
            "{'새우깡', '포카칩'}\n"
          ],
          "name": "stdout"
        }
      ]
    },
    {
      "cell_type": "code",
      "metadata": {
        "colab": {
          "base_uri": "https://localhost:8080/"
        },
        "id": "kOzwbfhk4a4i",
        "outputId": "d5c3c4b7-1b66-4bf9-840e-194954f21795"
      },
      "source": [
        "# 집합 요소 추가\n",
        "# 집합명.add(요소): 하나만 추가\n",
        "# 집합명.update(리스트): 여러개 추가\n",
        "\n",
        "snack={'새우깡','오감자','양파링','포카칩','양파링'}\n",
        "snack.add('빼빼로')\n",
        "print(snack)\n",
        "\n",
        "snack.update('빼빼로','칸초')\n",
        "print(snack)\n",
        "\n",
        "snack.update(['빼빼로','칸초','콘칩'])\n",
        "print(snack)"
      ],
      "execution_count": null,
      "outputs": [
        {
          "output_type": "stream",
          "text": [
            "{'포카칩', '양파링', '새우깡', '오감자', '빼빼로'}\n",
            "{'포카칩', '빼', '칸', '초', '양파링', '새우깡', '오감자', '로', '빼빼로'}\n",
            "{'포카칩', '빼', '칸초', '콘칩', '칸', '초', '양파링', '새우깡', '오감자', '로', '빼빼로'}\n"
          ],
          "name": "stdout"
        }
      ]
    },
    {
      "cell_type": "code",
      "metadata": {
        "colab": {
          "base_uri": "https://localhost:8080/",
          "height": 262
        },
        "id": "GFwbF09E5Tak",
        "outputId": "8e37030d-4ffb-4538-ce50-43f93241f862"
      },
      "source": [
        "# 집합 요소 삭제\n",
        "# 집합명.remove(요소)\n",
        "# 인덱스 값이 없기 때문에 del이나 pop같은 함수는 사용할 수 없다.\n",
        "\n",
        "snack={'새우깡','오감자','양파링','포카칩','양파링'}\n",
        "snack.remove('오감자')\n",
        "print(snack)\n",
        "\n",
        "snack={'새우깡','오감자','양파링','포카칩','양파링'}\n",
        "snack.remove('빼빼로')   # 존재하지 않는 요소 삭제 시도-> 에러 발생\n",
        "print(snack)\n",
        "\n",
        "# 빼빼로 삭제\n",
        "snack={'새우깡','오감자','양파링','포카칩','양파링'}\n",
        "if '빼빼로' in list(snack):\n",
        "    snack.remove('빼빼로')\n",
        "print(snack)\n",
        "# in명령어 사용할때 집합명을 바로 사용할 수 없음. list 함수 씌울 것."
      ],
      "execution_count": null,
      "outputs": [
        {
          "output_type": "stream",
          "text": [
            "{'양파링', '새우깡', '포카칩'}\n"
          ],
          "name": "stdout"
        },
        {
          "output_type": "error",
          "ename": "KeyError",
          "evalue": "ignored",
          "traceback": [
            "\u001b[0;31m---------------------------------------------------------------------------\u001b[0m",
            "\u001b[0;31mKeyError\u001b[0m                                  Traceback (most recent call last)",
            "\u001b[0;32m<ipython-input-35-e49171007464>\u001b[0m in \u001b[0;36m<module>\u001b[0;34m()\u001b[0m\n\u001b[1;32m      8\u001b[0m \u001b[0;34m\u001b[0m\u001b[0m\n\u001b[1;32m      9\u001b[0m \u001b[0msnack\u001b[0m\u001b[0;34m=\u001b[0m\u001b[0;34m{\u001b[0m\u001b[0;34m'새우깡'\u001b[0m\u001b[0;34m,\u001b[0m\u001b[0;34m'오감자'\u001b[0m\u001b[0;34m,\u001b[0m\u001b[0;34m'양파링'\u001b[0m\u001b[0;34m,\u001b[0m\u001b[0;34m'포카칩'\u001b[0m\u001b[0;34m,\u001b[0m\u001b[0;34m'양파링'\u001b[0m\u001b[0;34m}\u001b[0m\u001b[0;34m\u001b[0m\u001b[0;34m\u001b[0m\u001b[0m\n\u001b[0;32m---> 10\u001b[0;31m \u001b[0msnack\u001b[0m\u001b[0;34m.\u001b[0m\u001b[0mremove\u001b[0m\u001b[0;34m(\u001b[0m\u001b[0;34m'빼빼로'\u001b[0m\u001b[0;34m)\u001b[0m   \u001b[0;31m# 존재하지 않는 요소 삭제 시도-> 에러 발생\u001b[0m\u001b[0;34m\u001b[0m\u001b[0;34m\u001b[0m\u001b[0m\n\u001b[0m\u001b[1;32m     11\u001b[0m \u001b[0mprint\u001b[0m\u001b[0;34m(\u001b[0m\u001b[0msnack\u001b[0m\u001b[0;34m)\u001b[0m\u001b[0;34m\u001b[0m\u001b[0;34m\u001b[0m\u001b[0m\n\u001b[1;32m     12\u001b[0m \u001b[0;34m\u001b[0m\u001b[0m\n",
            "\u001b[0;31mKeyError\u001b[0m: '빼빼로'"
          ]
        }
      ]
    },
    {
      "cell_type": "markdown",
      "metadata": {
        "id": "ZBQj1ID_7E5K"
      },
      "source": [
        "# 오류 메시지 해석"
      ]
    },
    {
      "cell_type": "code",
      "metadata": {
        "id": "fb5dbIwb7JWw"
      },
      "source": [
        "# NameError: 참조변수 없음 (name in not defined)\n",
        "# SyntaxError: 문법적으로 유효하지 않음.(invalid syntax)\n",
        "# TypeError: 타입이 맞지 않음(unsupported operand type ~)\n",
        "# ZeroDivisionError: 0으로 나눌수 없음(division by zero)\n",
        "# IndentationError: 들여쓰기 오류(unexpected/expected indent)"
      ],
      "execution_count": null,
      "outputs": []
    },
    {
      "cell_type": "markdown",
      "metadata": {
        "id": "gBaGdaG367a8"
      },
      "source": [
        "# 조건문(if)"
      ]
    },
    {
      "cell_type": "markdown",
      "metadata": {
        "id": "aZHHG15F82Dz"
      },
      "source": [
        "1. 순차구조 : 명령들이 순차적으로 실행되는 구조(직선차로)\n",
        "2. 선택구조 : 조건에 따라 명령을 선택하여 실행되는 구조(갈림길 차로)\\\n",
        "조건일때만 실행 (만일 열이 38도를 넘으면 해열제를 먹이세요)\\\n",
        "    if 조건: 명령어\\\n",
        "조건일때와 아닐때로 분기 (만일 비가오면-공부하고, 아니면-놀러가자\\\n",
        "    if 조건: 명령어 / else: 명령어\\\n",
        "조건이 여러개일때 (빨간불-멈춤, 노란불-정지, 초록불-출발)\\\n",
        "    if 조건: 명령어1 / elif: 명령어2\\\n",
        "    if 조건: 명령어1 / elif: 명령어2 / else: 명령어3(어떤 조건도 걸리지 않았을 때)\\\n",
        "    if 조건: 명령어1 / elif-if: 명령어2 /else: 명령어3\n",
        "3. 반복구조 : 동일한 명령이 반복되면서 실행되는 구조(p턴 차로)\\\n",
        "\\\n",
        "조건식의 결과가 True이면 코드블록 안의 조건문이 실행된다.\\\n",
        "False이면 다음 코드로 넘어간다.\\"
      ]
    },
    {
      "cell_type": "code",
      "metadata": {
        "id": "8blWXSRO5qbj"
      },
      "source": [
        "# 코드블록\n",
        "# 콜론(:) 아랫줄부터 들여쓰기 된 부분을 명령문 블록 또는 코드블록 이라고 한다.\n",
        "# 들여쓰기 간격은 같아야 하며, 콜론(:)을 사용하면 자동으로 들여쓰기 된 채로 다음 줄이 시작된다."
      ],
      "execution_count": null,
      "outputs": []
    },
    {
      "cell_type": "code",
      "metadata": {
        "colab": {
          "base_uri": "https://localhost:8080/"
        },
        "id": "ywCxN28k9bTu",
        "outputId": "9a486d5a-5506-4807-b7b4-343492e959af"
      },
      "source": [
        "# 들여쓰기에 따라 달라지는 결과\n",
        "a=1\n",
        "if a < 0:\n",
        "    print('a는 0보다 작다.')\n",
        "    print('a는 음수이다.')\n",
        "print('끝')\n",
        "\n",
        "print('-'*50)\n",
        "a=1\n",
        "if a < 0:\n",
        "    print('a는 0보다 작다.')\n",
        "print('a는 음수이다.')\n",
        "print('끝')\n"
      ],
      "execution_count": null,
      "outputs": [
        {
          "output_type": "stream",
          "text": [
            "끝\n",
            "--------------------------------------------------\n",
            "a는 음수이다.\n",
            "끝\n"
          ],
          "name": "stdout"
        }
      ]
    },
    {
      "cell_type": "markdown",
      "metadata": {
        "id": "RGOC4M29R0gV"
      },
      "source": [
        "# if 예제"
      ]
    },
    {
      "cell_type": "code",
      "metadata": {
        "colab": {
          "base_uri": "https://localhost:8080/"
        },
        "id": "dbGeaXWICaxU",
        "outputId": "91041724-da81-4a63-eb3b-e1e16ac607f4"
      },
      "source": [
        "# 코로나 자가진단 프로그램 1단계\n",
        "# 체온을 입력받아 체온이 37.5도 초과이면 '등교불가'를 출력하는 프로그램을 작성하세요\n",
        "\n",
        "temp=float(input('체온: '))\n",
        "if temp > 37.5:\n",
        "    print('등교불가')\n",
        "else:\n",
        "    print('정상입니다.')"
      ],
      "execution_count": null,
      "outputs": [
        {
          "output_type": "stream",
          "text": [
            "체온: 37\n",
            "정상입니다.\n"
          ],
          "name": "stdout"
        }
      ]
    },
    {
      "cell_type": "code",
      "metadata": {
        "colab": {
          "base_uri": "https://localhost:8080/"
        },
        "id": "YGn_p3ryDMVs",
        "outputId": "bf1621bc-7833-43e6-95d4-5ba5dc7b4a49"
      },
      "source": [
        "# if-else 구조\n",
        "\n",
        "a=5\n",
        "b=4\n",
        "if a%b==0:\n",
        "    print(f'{a}는 {b}로 나누어 떨어집니다')\n",
        "else:\n",
        "    print(f'{a}는 {b}로 나머지가 {a%b}입니다')"
      ],
      "execution_count": null,
      "outputs": [
        {
          "output_type": "stream",
          "text": [
            "5는 4로 나머지가 1입니다\n"
          ],
          "name": "stdout"
        }
      ]
    },
    {
      "cell_type": "code",
      "metadata": {
        "colab": {
          "base_uri": "https://localhost:8080/"
        },
        "id": "al25fprEDxSN",
        "outputId": "8e4b2d85-3a54-4cc7-b10b-eb98ff6bb2bd"
      },
      "source": [
        "# if-elif-else구조\n",
        "# elif만 있으면 아무것도 실행되지 않을 수 있음. 마지막 else는 무조건 실행되는 것.\n",
        "\n",
        "# 코로나 자가진단 프로그램 3단계\n",
        "# 체온, 검사결과대기여부, 가자격리여부를 입력받아 다음과 같은 조건으로 등교 가능 여부를 출력.\n",
        "\n",
        "temp=float(input('체온: '))\n",
        "ex=str(input('검사결과대기여부(y/n): '))\n",
        "quaran=str(input('자가격리여부(y/n): '))\n",
        "\n",
        "if temp > 37.5:\n",
        "    print('발열기준 초과: 등교불가')\n",
        "elif ex=='y':\n",
        "    print('검사대기 중 등교불가')\n",
        "elif quaran=='y':\n",
        "    print('자가격리 중 등교불가')\n",
        "else:\n",
        "    print('등교가능')\n"
      ],
      "execution_count": null,
      "outputs": [
        {
          "output_type": "stream",
          "text": [
            "체온: 36\n",
            "검사결과대기여부: n\n",
            "자가격리여부: n\n",
            "등교가능\n"
          ],
          "name": "stdout"
        }
      ]
    },
    {
      "cell_type": "code",
      "metadata": {
        "colab": {
          "base_uri": "https://localhost:8080/"
        },
        "id": "4g7pKjuPFNlF",
        "outputId": "0684d49c-d9f4-4d80-97bf-8964b940edd0"
      },
      "source": [
        "# 점수에 따른 등급 출력하기\n",
        "# 점수를 입력받고 점수의 범위에 따라 등급을 출력하는 프로그램을 작성하세요\n",
        "\n",
        "score=float(input('점수를 입력하세요: '))\n",
        "if score >90:\n",
        "    print(f'등급: A')\n",
        "elif score > 80:\n",
        "    print(f'등급: B')\n",
        "elif score > 70:\n",
        "    print(f'등급: C')\n",
        "elif score > 60:\n",
        "    print(f'등급: D')\n",
        "else:\n",
        "    print(f'등급: F')"
      ],
      "execution_count": null,
      "outputs": [
        {
          "output_type": "stream",
          "text": [
            "점수를 입력하세요: 95\n",
            "등급: A\n"
          ],
          "name": "stdout"
        }
      ]
    },
    {
      "cell_type": "code",
      "metadata": {
        "colab": {
          "base_uri": "https://localhost:8080/"
        },
        "id": "hpaGY5qtGrrn",
        "outputId": "cdd54378-1a37-4d35-bae5-09f6b99c6132"
      },
      "source": [
        "grade=' '\n",
        "score=float(input('점수를 입력하세요: '))\n",
        "if score >90:\n",
        "    grade='A'\n",
        "elif score >80:\n",
        "    grade='B'\n",
        "elif score >70:\n",
        "    grade='C'\n",
        "elif score >60:\n",
        "    grade='D'\n",
        "else:\n",
        "    grade='F'    \n",
        "\n",
        "print(f'등급: {grade}')\n"
      ],
      "execution_count": null,
      "outputs": [
        {
          "output_type": "stream",
          "text": [
            "점수를 입력하세요: 72\n",
            "등급: C\n"
          ],
          "name": "stdout"
        }
      ]
    },
    {
      "cell_type": "code",
      "metadata": {
        "colab": {
          "base_uri": "https://localhost:8080/"
        },
        "id": "0OAwHBExJPdf",
        "outputId": "55847a36-a5fe-4e53-82b9-46e1ab005075"
      },
      "source": [
        "# 금액에 따른 할인율 계산하기\n",
        "# 물건 구매가를 입력받고, 금액에 따른 할인율을 계산하여\n",
        "# 구매가, 할인율, 할인금액, 지불금액을 출력하는 프로그램을 작성하시오.\n",
        "\n",
        "price=int(input('물건 구매가를 입력하세요: '))\n",
        "\n",
        "if price>100000:\n",
        "    discount=price*0.1\n",
        "elif price>50000:\n",
        "    discount=price*0.075\n",
        "elif price>10000:\n",
        "    discount=price*0.05\n",
        "\n",
        "print(f'구매금액: {price}원')\n",
        "print(f'할인율: {discount/price}%')\n",
        "print(f'할인금액: {int(discount)}원')\n",
        "print(f'지불금액: {int(price-discount)}원')"
      ],
      "execution_count": null,
      "outputs": [
        {
          "output_type": "stream",
          "text": [
            "물건 구매가를 입력하세요: 55000\n",
            "구매금액: 55000원\n",
            "할인율: 0.075%\n",
            "할인금액: 4125원\n",
            "지불금액: 50875원\n"
          ],
          "name": "stdout"
        }
      ]
    },
    {
      "cell_type": "code",
      "metadata": {
        "colab": {
          "base_uri": "https://localhost:8080/"
        },
        "id": "GisBR-TUJ3nI",
        "outputId": "6da897ac-066e-40f5-fd4a-7b886f7b4825"
      },
      "source": [
        "# 최소값 구하기\n",
        "# 3개의 수를 입력받아 가장 작은 수를 출력하세요\n",
        "\n",
        "num1=int(input('숫자1: '))\n",
        "num2=int(input('숫자2: '))\n",
        "num3=int(input('숫자3: '))\n",
        "\n",
        "min1=num1\n",
        "if min1 > num2:\n",
        "    min1=num2\n",
        "if min1> num3:\n",
        "        min1=num3\n",
        "\n",
        "print('-'*50)\n",
        "print('가장 작은 수:',min1)"
      ],
      "execution_count": null,
      "outputs": [
        {
          "output_type": "stream",
          "text": [
            "숫자1: 50\n",
            "숫자2: 90\n",
            "숫자3: 45\n",
            "--------------------------------------------------\n",
            "가장 작은 수: 45\n"
          ],
          "name": "stdout"
        }
      ]
    },
    {
      "cell_type": "code",
      "metadata": {
        "colab": {
          "base_uri": "https://localhost:8080/"
        },
        "id": "OO5QAu9mQmcB",
        "outputId": "b171ceb4-b7ce-485f-da75-3eda251bde80"
      },
      "source": [
        "num1=int(input('숫자1: '))\n",
        "num2=int(input('숫자2: '))\n",
        "num3=int(input('숫자3: '))\n",
        "\n",
        "min_num=min(num1,num2,num3)\n",
        "print(min_num)"
      ],
      "execution_count": null,
      "outputs": [
        {
          "output_type": "stream",
          "text": [
            "숫자1: 50\n",
            "숫자2: 90\n",
            "숫자3: 45\n",
            "45\n"
          ],
          "name": "stdout"
        }
      ]
    },
    {
      "cell_type": "markdown",
      "metadata": {
        "id": "H9SNmhWZRrBR"
      },
      "source": [
        "# 논리연산자"
      ]
    },
    {
      "cell_type": "code",
      "metadata": {
        "colab": {
          "base_uri": "https://localhost:8080/"
        },
        "id": "2Xyf0LtERO6a",
        "outputId": "c0f0c8f1-ae16-45f5-c639-5c4da09549b0"
      },
      "source": [
        "# 논리연산자(Logical operator)\n",
        "# 조건과 조건사이에 사용\n",
        "# and(그리고) 두개 모두 True일 때\n",
        "# or(또는) 하나 이상이 True이면 True\n",
        "# not(~가 아니다) 결과를 반대로 출력\n",
        "\n",
        "print(True and True)\n",
        "print(True and False)\n",
        "print(False and True)\n",
        "print(False and False)\n",
        "print()\n",
        "print(True or True)\n",
        "print(True or False)\n",
        "print(False or True)\n",
        "print(False or False)\n",
        "print()\n",
        "print(not True)\n",
        "print(not False)\n"
      ],
      "execution_count": null,
      "outputs": [
        {
          "output_type": "stream",
          "text": [
            "True\n",
            "False\n",
            "False\n",
            "False\n",
            "\n",
            "True\n",
            "True\n",
            "True\n",
            "False\n",
            "\n",
            "False\n",
            "True\n"
          ],
          "name": "stdout"
        }
      ]
    },
    {
      "cell_type": "code",
      "metadata": {
        "colab": {
          "base_uri": "https://localhost:8080/"
        },
        "id": "5euR2gkBS3k5",
        "outputId": "10470fad-e6a4-46fd-f198-04e989f22bae"
      },
      "source": [
        "1 in [1,2,3]"
      ],
      "execution_count": null,
      "outputs": [
        {
          "output_type": "execute_result",
          "data": {
            "text/plain": [
              "True"
            ]
          },
          "metadata": {
            "tags": []
          },
          "execution_count": 70
        }
      ]
    },
    {
      "cell_type": "code",
      "metadata": {
        "colab": {
          "base_uri": "https://localhost:8080/"
        },
        "id": "AyUBTZZbTLic",
        "outputId": "9222719d-9334-4264-96de-bcf085498913"
      },
      "source": [
        "'a' in ['a','b','c']"
      ],
      "execution_count": null,
      "outputs": [
        {
          "output_type": "execute_result",
          "data": {
            "text/plain": [
              "True"
            ]
          },
          "metadata": {
            "tags": []
          },
          "execution_count": 71
        }
      ]
    },
    {
      "cell_type": "code",
      "metadata": {
        "colab": {
          "base_uri": "https://localhost:8080/"
        },
        "id": "LWSAvB0zTRBm",
        "outputId": "a2e346c6-d14c-4483-e1f2-665fa21ee8ec"
      },
      "source": [
        "'j' not in 'python' "
      ],
      "execution_count": null,
      "outputs": [
        {
          "output_type": "execute_result",
          "data": {
            "text/plain": [
              "True"
            ]
          },
          "metadata": {
            "tags": []
          },
          "execution_count": 72
        }
      ]
    },
    {
      "cell_type": "markdown",
      "metadata": {
        "id": "A0aGgfaUdvoW"
      },
      "source": [
        "# 논리연산자 예제"
      ]
    },
    {
      "cell_type": "code",
      "metadata": {
        "colab": {
          "base_uri": "https://localhost:8080/"
        },
        "id": "E9u_1bCKTVnI",
        "outputId": "391d876c-d079-41d6-957c-e0eee75fa256"
      },
      "source": [
        "# 국립공원 입장료 계산하기\n",
        "# 나이를 입력받아 국립공원 입장권을 발급하는 프로그램을 작성하세요\n",
        "\n",
        "age=int(input('나이를 입력하세요: '))\n",
        "price=3000\n",
        "if age > 64 or age <= 7:\n",
        "    price=0\n",
        "elif age >= 8 and age <= 18:\n",
        "    price=1000\n",
        "\n",
        "print(f'{price}원 입니다')"
      ],
      "execution_count": null,
      "outputs": [
        {
          "output_type": "stream",
          "text": [
            "나이를 입력하세요: 19\n",
            "3000원 입니다\n"
          ],
          "name": "stdout"
        }
      ]
    },
    {
      "cell_type": "code",
      "metadata": {
        "colab": {
          "base_uri": "https://localhost:8080/"
        },
        "id": "AeTWYBpIUFcS",
        "outputId": "c1cdbf87-61be-4443-b447-d0d6b9012f21"
      },
      "source": [
        "# 로그인 프로그램\n",
        "# 사용자로부터 아이디/패스워드를 받아서\n",
        "# 프로그램에 저장된 아이디/패스워드와 일치하는지 여부를 검사하여 로그인 성공/실패 여부를 출력하는 프로그램\n",
        "\n",
        "use_id='ID1234'\n",
        "use_pw='PWD1234'\n",
        "\n",
        "id=input('아이디를 입력하세요: ')\n",
        "pw=input('비밀번호를 입력하세요: ')\n",
        "\n",
        "if id==use_id and pw==use_pw:\n",
        "    print('로그인 성공')\n",
        "else:\n",
        "    print('로그인 실패')\n"
      ],
      "execution_count": null,
      "outputs": [
        {
          "output_type": "stream",
          "text": [
            "아이디를 입력하세요: ID1234\n",
            "비밀번호를 입력하세요: PWD1234\n",
            "로그인 성공\n"
          ],
          "name": "stdout"
        }
      ]
    },
    {
      "cell_type": "code",
      "metadata": {
        "colab": {
          "base_uri": "https://localhost:8080/"
        },
        "id": "aUKqAGKJXH-6",
        "outputId": "e09e1c0c-ecaa-4c77-b678-46534660e6d5"
      },
      "source": [
        "# 사칙연산 프로그램\n",
        "# 두 수와 사칙연산기호를 입력받아 연산기호에 따라 연산결과를 출력하는 프로그램을 작성하세요\n",
        "\n",
        "num1=float(input('숫자1: '))\n",
        "num2=float(input('숫자2: '))\n",
        "sign=str(input('연산기호(+,-,*,/): '))\n",
        "answer=0\n",
        "\n",
        "if sign == '+':\n",
        "    answer=num1+num2\n",
        "elif sign == '-':    # elif: 아닌 것 중에 다시 if (else if)\n",
        "    answer=num1-num2\n",
        "elif sign == '*':\n",
        "    answer=num1*num2\n",
        "elif sign == '/':\n",
        "    answer=num1 / num2\n",
        "\n",
        "print('-'*50)\n",
        "print(f'{num1} {sign} {num2} = {answer}')"
      ],
      "execution_count": null,
      "outputs": [
        {
          "output_type": "stream",
          "text": [
            "숫자1: 10\n",
            "숫자2: 0\n",
            "연산기호(+,-,*,/): +\n",
            "--------------------------------------------------\n",
            "10.0 + 0.0 = 10.0\n"
          ],
          "name": "stdout"
        }
      ]
    },
    {
      "cell_type": "code",
      "metadata": {
        "colab": {
          "base_uri": "https://localhost:8080/"
        },
        "id": "FuYsOEjAZ6xb",
        "outputId": "a91e3642-5840-4ae8-a31f-7209c3cd12e5"
      },
      "source": [
        "# 임의의 정수 만들기\n",
        "# random.ranint(최소,최대)\n",
        "\n",
        "# 주사위 던지기 게임\n",
        "# 두 개의 주사위를 던져 더 큰 수가 나오는 사람이 이기는 게임을 작성하시오.\n",
        "\n",
        "import random\n",
        "dice1=random.randint(1,6)\n",
        "dice2=random.randint(1,6)\n",
        "\n",
        "print('주사위 1:',dice1)\n",
        "print('주사위 2:',dice2)\n",
        "\n",
        "if dice1 > dice2:\n",
        "    print('주사위 1이 이겼습니다')\n",
        "elif dice1 < dice2:\n",
        "    print('주사위 2가 이겼습니다')\n",
        "else:\n",
        "    print('무승부 입니다')"
      ],
      "execution_count": null,
      "outputs": [
        {
          "output_type": "stream",
          "text": [
            "주사위 1: 6\n",
            "주사위 2: 6\n",
            "무승부 입니다\n"
          ],
          "name": "stdout"
        }
      ]
    },
    {
      "cell_type": "markdown",
      "metadata": {
        "id": "r1dOz9iqptkz"
      },
      "source": [
        "# 팀 심화예제"
      ]
    },
    {
      "cell_type": "code",
      "metadata": {
        "colab": {
          "base_uri": "https://localhost:8080/"
        },
        "id": "MdIJVWBOiCea",
        "outputId": "eb0e77de-924b-4746-e66f-b8780242871c"
      },
      "source": [
        "# 심화예제\n",
        "# 주사위 던지기 게임을 10000번 반복해서 누가 더 많이 이겼는지 출력하기\n",
        "\n",
        "import random\n",
        "dice1=random.randint(1,6)\n",
        "dice2=random.randint(1,6)\n",
        "win_dice1=0\n",
        "win_dice2=0\n",
        "draw=0\n",
        "\n",
        "win_dice1_name = input(\"주사위 1 이름을 입력하시오 : \")\n",
        "win_dice2_name = input(\"주사위 2 이름을 입력하시오 : \")\n",
        "\n",
        "for i in range(10000):\n",
        "    dice1=random.randint(1,6)\n",
        "    dice2=random.randint(1,6)\n",
        "    if dice1 > dice2:\n",
        "        win_dice1 += 1\n",
        "    elif dice1 < dice2:\n",
        "        win_dice2 += 1\n",
        "    else:\n",
        "        draw += 1\n",
        "\n",
        "print(f'주사위1은 {win_dice1}번 이겼습니다')\n",
        "print(f'주사위2는 {win_dice2}번 이겼습니다')\n",
        "print(f'무승부는 {draw}번 입니다')\n",
        "print('-'*60)\n",
        "\n",
        "winner=''\n",
        "if win_dice1 > win_dice2:\n",
        "    winner= win_dice1_name\n",
        "elif win_dice1 < win_dice2:\n",
        "    winner= win_dice2_name\n",
        "else:\n",
        "    winner='아무도 아님'\n",
        "\n",
        "print('승자는',winner,'입니다')"
      ],
      "execution_count": null,
      "outputs": [
        {
          "output_type": "stream",
          "text": [
            "주사위 1 이름을 입력하시오 : 남가\n",
            "주사위 2 이름을 입력하시오 : 쿠크\n",
            "주사위1은 4136번 이겼습니다\n",
            "주사위2는 4236번 이겼습니다\n",
            "무승부는 1628번 입니다\n",
            "------------------------------------------------------------\n",
            "승자는 쿠크 입니다\n"
          ],
          "name": "stdout"
        }
      ]
    },
    {
      "cell_type": "code",
      "metadata": {
        "id": "E6VDC_o5k0Zg"
      },
      "source": [
        ""
      ],
      "execution_count": null,
      "outputs": []
    }
  ]
}