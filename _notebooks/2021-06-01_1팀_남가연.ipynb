{
  "nbformat": 4,
  "nbformat_minor": 0,
  "metadata": {
    "colab": {
      "name": "2021-06-01_1팀_남가연.ipynb",
      "provenance": [],
      "collapsed_sections": [],
      "authorship_tag": "ABX9TyMp/MgBjQ0HhanLBPWsQxlJ",
      "include_colab_link": true
    },
    "kernelspec": {
      "name": "python3",
      "display_name": "Python 3"
    },
    "language_info": {
      "name": "python"
    }
  },
  "cells": [
    {
      "cell_type": "markdown",
      "metadata": {
        "id": "view-in-github",
        "colab_type": "text"
      },
      "source": [
        "<a href=\"https://colab.research.google.com/github/gaya935/Pythonlogee/blob/master/_notebooks/2021-06-01_1%ED%8C%80_%EB%82%A8%EA%B0%80%EC%97%B0.ipynb\" target=\"_parent\"><img src=\"https://colab.research.google.com/assets/colab-badge.svg\" alt=\"Open In Colab\"/></a>"
      ]
    },
    {
      "cell_type": "markdown",
      "metadata": {
        "id": "rp_sIzi7zcrq"
      },
      "source": [
        "# 반복문\n",
        "\n",
        "반복구조 : 지정한 조건이 충족될 때까지 명령문이나 명령문 블록을 여러 번 실행하는 구조\\\n",
        "For(횟수제어): 반복이 시작되기 전에 반복 횟수를 지정. 무한루프에 빠지지 않는다.\\\n",
        "While(조건제어반복): 반복횟수는 조건에 따라 달라진다. 무한루프에 빠질 수 있다."
      ]
    },
    {
      "cell_type": "markdown",
      "metadata": {
        "id": "y1S31rcUYtK5"
      },
      "source": [
        "# for문"
      ]
    },
    {
      "cell_type": "code",
      "metadata": {
        "colab": {
          "base_uri": "https://localhost:8080/"
        },
        "id": "6eR-ny9_vJIy",
        "outputId": "b735b185-c40c-4c55-8825-c41c99c6657f"
      },
      "source": [
        "# for구조\n",
        "# 주어진 자료를 순회할 때 주로 사용되는 반복 구조이다.\n",
        "# 반복의 범위가 미리 정해진다.\n",
        "\n",
        "for i in [1,2,3,4,5]:   # 제어변수: 관용적으로 i,j가 사용된다.\n",
        "    print(i)\n",
        "\n",
        "# 시퀀스에 있는 값들이 제어변수에 하나씩 할당되며 값이 할당될 때마다 명령블록이 실행된다."
      ],
      "execution_count": null,
      "outputs": [
        {
          "output_type": "stream",
          "text": [
            "1\n",
            "2\n",
            "3\n",
            "4\n",
            "5\n"
          ],
          "name": "stdout"
        }
      ]
    },
    {
      "cell_type": "code",
      "metadata": {
        "colab": {
          "base_uri": "https://localhost:8080/"
        },
        "id": "yyroCpPyz5rS",
        "outputId": "edd1bf29-e346-4d95-d331-66dcc1d45f37"
      },
      "source": [
        "for i in 'python':\n",
        "    print(i)"
      ],
      "execution_count": null,
      "outputs": [
        {
          "output_type": "stream",
          "text": [
            "p\n",
            "y\n",
            "t\n",
            "h\n",
            "o\n",
            "n\n"
          ],
          "name": "stdout"
        }
      ]
    },
    {
      "cell_type": "code",
      "metadata": {
        "colab": {
          "base_uri": "https://localhost:8080/"
        },
        "id": "t1A8_uy50AEG",
        "outputId": "bea07053-f89f-450d-ffa2-f0696afb92d9"
      },
      "source": [
        "for i in range(1,6):\n",
        "    print(i)"
      ],
      "execution_count": null,
      "outputs": [
        {
          "output_type": "stream",
          "text": [
            "1\n",
            "2\n",
            "3\n",
            "4\n",
            "5\n"
          ],
          "name": "stdout"
        }
      ]
    },
    {
      "cell_type": "code",
      "metadata": {
        "colab": {
          "base_uri": "https://localhost:8080/"
        },
        "id": "P8tJqM850HDU",
        "outputId": "b0839f69-9374-4ca7-fa49-ff8060d45e20"
      },
      "source": [
        "# range함수\n",
        "# 일정한 범위의 정수들을 생성한다.\n",
        "# 시작값 생략가능(기본값:0), 끝값 생략 불가, 증가값 생략가능(기본값:1)\n",
        "\n",
        "for i in range(5):\n",
        "    print(i,end=' ')"
      ],
      "execution_count": null,
      "outputs": [
        {
          "output_type": "stream",
          "text": [
            "0 1 2 3 4 "
          ],
          "name": "stdout"
        }
      ]
    },
    {
      "cell_type": "code",
      "metadata": {
        "colab": {
          "base_uri": "https://localhost:8080/"
        },
        "id": "-6wB-P-I1PLC",
        "outputId": "d7a13c0e-af79-41cf-984c-736a3b1ed902"
      },
      "source": [
        "for i in range(1,6):\n",
        "    print(i,end=' ')"
      ],
      "execution_count": null,
      "outputs": [
        {
          "output_type": "stream",
          "text": [
            "1 2 3 4 5 "
          ],
          "name": "stdout"
        }
      ]
    },
    {
      "cell_type": "code",
      "metadata": {
        "colab": {
          "base_uri": "https://localhost:8080/"
        },
        "id": "Kuhoftyt1Tnz",
        "outputId": "23f74b1b-931b-42ce-aa35-e098c015c760"
      },
      "source": [
        "for i in range(10,0,-1): # 증가값에 음수 사용하면 역순 출력\n",
        "                        # 오류 시작값은 끝값보다 앞에 위치하여야 한다.(큰수-작은수)\n",
        "    print(i,end='\\t') # 탭 간격 출력"
      ],
      "execution_count": null,
      "outputs": [
        {
          "output_type": "stream",
          "text": [
            "10\t9\t8\t7\t6\t5\t4\t3\t2\t1\t"
          ],
          "name": "stdout"
        }
      ]
    },
    {
      "cell_type": "code",
      "metadata": {
        "id": "Wc2ZTDnj1bZr"
      },
      "source": [
        "for i in range(100):\n",
        "    print('Hello World!!')"
      ],
      "execution_count": null,
      "outputs": []
    },
    {
      "cell_type": "markdown",
      "metadata": {
        "id": "fgekINJ4Y1q1"
      },
      "source": [
        "# while문"
      ]
    },
    {
      "cell_type": "code",
      "metadata": {
        "colab": {
          "base_uri": "https://localhost:8080/"
        },
        "id": "pgfbVAlc23EF",
        "outputId": "7482672a-cd2e-4d57-bb72-d1692bfe91b7"
      },
      "source": [
        "# while 구조\n",
        "# 조건식의 결과가 True인 동안 반복된다. 조건식의 결과가 False가 되면 반복을 빠져나온다.\n",
        "\n",
        "i=1  # 루프의 조건식에 사용되는 변수는 루프에 들어가기 전에 초기화 되어야 한다.\n",
        "while i<=5:  # 참,거짓이 판단될 수 있는 조건문\n",
        "    print(i,end=' ')\n",
        "    i+=1   # 조건식에 사용되는 변수 값은 루프 내에서 변경되어야 한다.\n",
        "\n",
        "for i in range(1,6):\n",
        "    print(i,end='\\t')"
      ],
      "execution_count": null,
      "outputs": [
        {
          "output_type": "stream",
          "text": [
            "1 2 3 4 5 1\t2\t3\t4\t5\t"
          ],
          "name": "stdout"
        }
      ]
    },
    {
      "cell_type": "code",
      "metadata": {
        "id": "m_8iBBL33i2i"
      },
      "source": [
        "# 무한 루프\n",
        "# False값을 항상 만들어야 함\n",
        "\n",
        "i=1\n",
        "while i<=5:\n",
        "    print(i)\n",
        "print(end)"
      ],
      "execution_count": null,
      "outputs": []
    },
    {
      "cell_type": "markdown",
      "metadata": {
        "id": "kuvcdzAzY_R_"
      },
      "source": [
        "# 예제"
      ]
    },
    {
      "cell_type": "code",
      "metadata": {
        "colab": {
          "base_uri": "https://localhost:8080/"
        },
        "id": "ULkh8z-v6SYD",
        "outputId": "4b731850-02b3-406a-e946-f2af907e9b09"
      },
      "source": [
        "# 'q'를 입력할 때까지 반복하여 이름 입력받기\n",
        "\n",
        "name=' '\n",
        "while name != 'q':\n",
        "    name=input('이름을 입력하세요: ')\n",
        "    print(name)"
      ],
      "execution_count": null,
      "outputs": [
        {
          "output_type": "stream",
          "text": [
            "이름을 입력하세요: ska\n",
            "ska\n",
            "이름을 입력하세요: rk\n",
            "rk\n",
            "이름을 입력하세요: \n",
            "\n",
            "이름을 입력하세요: dus\n",
            "dus\n",
            "이름을 입력하세요: dkkls\n",
            "dkkls\n",
            "이름을 입력하세요: q\n",
            "q\n"
          ],
          "name": "stdout"
        }
      ]
    },
    {
      "cell_type": "code",
      "metadata": {
        "colab": {
          "base_uri": "https://localhost:8080/"
        },
        "id": "Y-HfiLKD95S0",
        "outputId": "ba7aa0e4-fc6c-427c-a9e7-0f8f99f1a499"
      },
      "source": [
        "name=[]\n",
        "while name != 'q':\n",
        "    name=input('이름을 입력하세요:')\n",
        "    if name !='q':\n",
        "        print(name)"
      ],
      "execution_count": null,
      "outputs": [
        {
          "output_type": "stream",
          "text": [
            "이름을 입력하세요:남\n",
            "남\n",
            "이름을 입력하세요:가\n",
            "가\n",
            "이름을 입력하세요:연\n",
            "연\n",
            "이름을 입력하세요:q\n"
          ],
          "name": "stdout"
        }
      ]
    },
    {
      "cell_type": "code",
      "metadata": {
        "colab": {
          "base_uri": "https://localhost:8080/"
        },
        "id": "KpOnQJE9-5Ws",
        "outputId": "ee9d64d2-8029-4a0a-c173-da9b9bbc33ce"
      },
      "source": [
        "# 5개의 정수를 입력받아 합계구하기\n",
        "i=0\n",
        "sum=0\n",
        "while i<5:\n",
        "    num=int(input('정수입력: '))\n",
        "    i+=1\n",
        "    sum+=num\n",
        "print('합계출력:',sum)\n"
      ],
      "execution_count": null,
      "outputs": [
        {
          "output_type": "stream",
          "text": [
            "정수입력: 5\n",
            "정수입력: 4\n",
            "정수입력: 6\n",
            "정수입력: 8\n",
            "정수입력: 4\n",
            "정수입력: 4\n",
            "합계출력: 31\n"
          ],
          "name": "stdout"
        }
      ]
    },
    {
      "cell_type": "code",
      "metadata": {
        "colab": {
          "base_uri": "https://localhost:8080/"
        },
        "id": "g51Qs2roAqeS",
        "outputId": "24b1197e-665e-4512-8790-b61eb9c06224"
      },
      "source": [
        "sum=0\n",
        "for i in range(5):\n",
        "    num=int(input('정수입력: '))\n",
        "    sum+=num\n",
        "print(f'합계는 {sum}입니다.')"
      ],
      "execution_count": null,
      "outputs": [
        {
          "output_type": "stream",
          "text": [
            "정수입력: 50\n",
            "정수입력: 60\n",
            "정수입력: 48\n",
            "정수입력: 12\n",
            "정수입력: 556\n",
            "합계는 726입니다.\n"
          ],
          "name": "stdout"
        }
      ]
    },
    {
      "cell_type": "code",
      "metadata": {
        "colab": {
          "base_uri": "https://localhost:8080/"
        },
        "id": "sJJsJHVvBm-4",
        "outputId": "676bb510-1e24-43c2-903c-535ee1714c59"
      },
      "source": [
        "# n개의 정수를 입력받아 합계 구하기\n",
        "\n",
        "i=0\n",
        "sum1=0\n",
        "n=int(input('몇 개의 숫자를 구할까요?:'))\n",
        "\n",
        "while i<n:\n",
        "    num=int(input('정수입력: '))\n",
        "    i+=1\n",
        "    sum1+=num\n",
        "print(f'합계는 {sum1}입니다')\n"
      ],
      "execution_count": null,
      "outputs": [
        {
          "output_type": "stream",
          "text": [
            "몇 개의 숫자를 구할까요?:5\n",
            "정수입력: 1\n",
            "정수입력: 2\n",
            "정수입력: 3\n",
            "정수입력: 4\n",
            "정수입력: 5\n",
            "합계는 15입니다\n"
          ],
          "name": "stdout"
        }
      ]
    },
    {
      "cell_type": "code",
      "metadata": {
        "colab": {
          "base_uri": "https://localhost:8080/"
        },
        "id": "mQmZN7aFEw-c",
        "outputId": "8c23c15d-f0ec-40bf-9726-9c737340a4b6"
      },
      "source": [
        "# n개의 정수를 입력받아 짝수의 합계 구하기\n",
        "\n",
        "i=0\n",
        "sum1=0\n",
        "n=int(input('몇 개의 숫자를 구할까요?:'))\n",
        "\n",
        "while i<n:\n",
        "    num=int(input('정수입력: '))\n",
        "    i+=1\n",
        "    if num%2==0:\n",
        "        sum1+=num\n",
        "print(f'합계는 {sum1}입니다')"
      ],
      "execution_count": null,
      "outputs": [
        {
          "output_type": "stream",
          "text": [
            "몇 개의 숫자를 구할까요?:1\n",
            "정수입력: 4\n",
            "합계는 4입니다\n"
          ],
          "name": "stdout"
        }
      ]
    },
    {
      "cell_type": "code",
      "metadata": {
        "colab": {
          "base_uri": "https://localhost:8080/"
        },
        "id": "pjVBs3GbFNwQ",
        "outputId": "40b8f172-14b7-45fb-837d-e396161bd3e2"
      },
      "source": [
        "# 0이 입력될 때까지 숫자를 입력받아 합계 구하기\n",
        "\n",
        "sum1=0\n",
        "n=int(input('숫자:'))\n",
        "\n",
        "while num!=0:\n",
        "    sum1+=num\n",
        "    num=int(input('숫자:'))\n",
        "print(f'합계는 {sum1}입니다')"
      ],
      "execution_count": null,
      "outputs": [
        {
          "output_type": "stream",
          "text": [
            "숫자:4\n",
            "숫자:5\n",
            "숫자:1\n",
            "숫자:2\n",
            "숫자:6\n",
            "숫자:0\n",
            "합계는 16입니다\n"
          ],
          "name": "stdout"
        }
      ]
    },
    {
      "cell_type": "code",
      "metadata": {
        "id": "EfJiwhgRGS5Y"
      },
      "source": [
        "# 0이 입력될 때까지 숫자를 입력받아 합계 구하기 -2\n",
        "\n",
        "sum1=0\n",
        "num=''\n",
        "while num!=0:\n",
        "    num=int(input('숫자:'))\n",
        "    sum1+=num\n",
        "print(f'합계는 {sum1}입니다')"
      ],
      "execution_count": null,
      "outputs": []
    },
    {
      "cell_type": "code",
      "metadata": {
        "colab": {
          "base_uri": "https://localhost:8080/"
        },
        "id": "tRQ5zsAyMNd9",
        "outputId": "d59006e5-4389-4e94-fff8-52955d62df5b"
      },
      "source": [
        "# 1~n까지 더하는 프로그램을 작성하세요 -while\n",
        "\n",
        "sum1=0\n",
        "n=int(input('1부터 몇까지 더할까요?: '))\n",
        "i=1\n",
        "\n",
        "while i<=n:\n",
        "    sum1 += i\n",
        "    i+=1\n",
        "\n",
        "print(f'1부터 {n}까지 더한 합계는:',sum1)"
      ],
      "execution_count": null,
      "outputs": [
        {
          "output_type": "stream",
          "text": [
            "1부터 몇까지 더할까요?: 5\n",
            "1부터 5까지 더한 합계는: 15\n"
          ],
          "name": "stdout"
        }
      ]
    },
    {
      "cell_type": "code",
      "metadata": {
        "colab": {
          "base_uri": "https://localhost:8080/"
        },
        "id": "w320Rj3RNkL2",
        "outputId": "6f80de35-5876-40f3-ae37-7d028f801e6a"
      },
      "source": [
        "# 1~n까지 더하는 프로그램을 작성하세요 -for\n",
        "\n",
        "sum1=0\n",
        "n=int(input('1부터 몇까지 더할까요?: '))\n",
        "for i in range(1,n+1):\n",
        "    sum1 += i\n",
        "print(f'1부터 {n}까지 더한 합계는:',sum1)"
      ],
      "execution_count": null,
      "outputs": [
        {
          "output_type": "stream",
          "text": [
            "1부터 몇까지 더할까요?: 5\n",
            "1부터 5까지 더한 합계는: 15\n"
          ],
          "name": "stdout"
        }
      ]
    },
    {
      "cell_type": "code",
      "metadata": {
        "colab": {
          "base_uri": "https://localhost:8080/"
        },
        "id": "tkHMddySaKc7",
        "outputId": "036acdc7-990a-47c8-8308-067d69496ebd"
      },
      "source": [
        "# n1~n2 까지 더하는 프로그램을 작성하세요 -for\n",
        "\n",
        "sum1=0\n",
        "n1=int(input('몇부터 더할까요?: '))\n",
        "n2=int(input('몇까지 더할까요?: '))\n",
        "\n",
        "for i in range(n1,n2+1):\n",
        "    sum1+=i\n",
        "    print(i)\n",
        "print(f'{n1}부터 {n2}까지 더한 합계는:',sum1)"
      ],
      "execution_count": null,
      "outputs": [
        {
          "output_type": "stream",
          "text": [
            "몇부터 더할까요?: 5\n",
            "몇까지 더할까요?: 15\n",
            "5\n",
            "6\n",
            "7\n",
            "8\n",
            "9\n",
            "10\n",
            "11\n",
            "12\n",
            "13\n",
            "14\n",
            "15\n",
            "5부터 15까지 더한 합계는: 110\n"
          ],
          "name": "stdout"
        }
      ]
    },
    {
      "cell_type": "code",
      "metadata": {
        "colab": {
          "base_uri": "https://localhost:8080/"
        },
        "id": "5V8mQMn7bPx6",
        "outputId": "581811be-7d5c-43ff-bf80-fa66446ef577"
      },
      "source": [
        "# 임의의 개수 숫자의 평균 구하기\n",
        "\n",
        "n=int(input('입력받을 정수의 개수: '))\n",
        "adv=0\n",
        "for i in range(n):\n",
        "    num=int(input('정수: '))\n",
        "    adv+=num\n",
        "if n == 0:\n",
        "    print('0개의 정수를 입력하셨습니다')\n",
        "else:\n",
        "    print('평균:',round(adv/n,2))"
      ],
      "execution_count": null,
      "outputs": [
        {
          "output_type": "stream",
          "text": [
            "입력받을 정수의 개수: 5\n",
            "정수: 98\n",
            "정수: 95\n",
            "정수: 85\n",
            "정수: 70\n",
            "정수: 88\n",
            "평균: 87.2\n"
          ],
          "name": "stdout"
        }
      ]
    },
    {
      "cell_type": "code",
      "metadata": {
        "colab": {
          "base_uri": "https://localhost:8080/"
        },
        "id": "f4zT2XLsdPqP",
        "outputId": "c710c0bf-6d7f-4731-f6d7-d352d3a070d6"
      },
      "source": [
        "# 팩토리얼 계산하기\n",
        "\n",
        "n=int(input('몇 팩토리얼?: '))\n",
        "fact=1\n",
        "\n",
        "for i in range(n,0,-1):\n",
        "    fact *= i\n",
        "print(f'{n}! = {fact}')"
      ],
      "execution_count": null,
      "outputs": [
        {
          "output_type": "stream",
          "text": [
            "몇 팩토리얼?: 5\n",
            "5! = 120\n"
          ],
          "name": "stdout"
        }
      ]
    },
    {
      "cell_type": "code",
      "metadata": {
        "colab": {
          "base_uri": "https://localhost:8080/"
        },
        "id": "77SzJX04ge2r",
        "outputId": "e442f9f2-1c24-4477-a68b-4d782d22b073"
      },
      "source": [
        "# 구구단\n",
        "\n",
        "n=int(input('구구단 몇 단을 출력할까요?: '))\n",
        "\n",
        "for i in range(1,20):\n",
        "    print(f'{n} x {i} = {n*i}')   "
      ],
      "execution_count": null,
      "outputs": [
        {
          "output_type": "stream",
          "text": [
            "구구단 몇 단을 출력할까요?: 14\n",
            "14 x 1 = 14\n",
            "14 x 2 = 28\n",
            "14 x 3 = 42\n",
            "14 x 4 = 56\n",
            "14 x 5 = 70\n",
            "14 x 6 = 84\n",
            "14 x 7 = 98\n",
            "14 x 8 = 112\n",
            "14 x 9 = 126\n",
            "14 x 10 = 140\n",
            "14 x 11 = 154\n",
            "14 x 12 = 168\n",
            "14 x 13 = 182\n",
            "14 x 14 = 196\n",
            "14 x 15 = 210\n",
            "14 x 16 = 224\n",
            "14 x 17 = 238\n",
            "14 x 18 = 252\n",
            "14 x 19 = 266\n"
          ],
          "name": "stdout"
        }
      ]
    },
    {
      "cell_type": "code",
      "metadata": {
        "colab": {
          "base_uri": "https://localhost:8080/"
        },
        "id": "UWQj-qOfmA7Z",
        "outputId": "d1a939c1-57e0-4b6c-bc33-e2704084985d"
      },
      "source": [
        "# 중첩반복구조\n",
        "# 내부 루프와 외부루프는 동일한 제어변수를 사용해서는 안된다.\n",
        "\n",
        "for i in range(3):\n",
        "    for j in range(10,0,-2):   # 내부 for문을 외부 for문의 시퀀스만큼 반복한다.\n",
        "        print(i,j)"
      ],
      "execution_count": null,
      "outputs": [
        {
          "output_type": "stream",
          "text": [
            "0 10\n",
            "0 8\n",
            "0 6\n",
            "0 4\n",
            "0 2\n",
            "1 10\n",
            "1 8\n",
            "1 6\n",
            "1 4\n",
            "1 2\n",
            "2 10\n",
            "2 8\n",
            "2 6\n",
            "2 4\n",
            "2 2\n"
          ],
          "name": "stdout"
        }
      ]
    },
    {
      "cell_type": "code",
      "metadata": {
        "colab": {
          "base_uri": "https://localhost:8080/"
        },
        "id": "2RyN9cS-nc9f",
        "outputId": "c89358ec-afb1-4fad-efdf-92c5ed8be995"
      },
      "source": [
        "# 전체 구구단 출력하기 -가로\n",
        "\n",
        "for i in range(2,10):\n",
        "    for j in range(1,10):\n",
        "        print(f'{i} x {j} = {i*j}',end='\\t')\n",
        "    print()"
      ],
      "execution_count": null,
      "outputs": [
        {
          "output_type": "stream",
          "text": [
            "2 x 1 = 2\t2 x 2 = 4\t2 x 3 = 6\t2 x 4 = 8\t2 x 5 = 10\t2 x 6 = 12\t2 x 7 = 14\t2 x 8 = 16\t2 x 9 = 18\t\n",
            "3 x 1 = 3\t3 x 2 = 6\t3 x 3 = 9\t3 x 4 = 12\t3 x 5 = 15\t3 x 6 = 18\t3 x 7 = 21\t3 x 8 = 24\t3 x 9 = 27\t\n",
            "4 x 1 = 4\t4 x 2 = 8\t4 x 3 = 12\t4 x 4 = 16\t4 x 5 = 20\t4 x 6 = 24\t4 x 7 = 28\t4 x 8 = 32\t4 x 9 = 36\t\n",
            "5 x 1 = 5\t5 x 2 = 10\t5 x 3 = 15\t5 x 4 = 20\t5 x 5 = 25\t5 x 6 = 30\t5 x 7 = 35\t5 x 8 = 40\t5 x 9 = 45\t\n",
            "6 x 1 = 6\t6 x 2 = 12\t6 x 3 = 18\t6 x 4 = 24\t6 x 5 = 30\t6 x 6 = 36\t6 x 7 = 42\t6 x 8 = 48\t6 x 9 = 54\t\n",
            "7 x 1 = 7\t7 x 2 = 14\t7 x 3 = 21\t7 x 4 = 28\t7 x 5 = 35\t7 x 6 = 42\t7 x 7 = 49\t7 x 8 = 56\t7 x 9 = 63\t\n",
            "8 x 1 = 8\t8 x 2 = 16\t8 x 3 = 24\t8 x 4 = 32\t8 x 5 = 40\t8 x 6 = 48\t8 x 7 = 56\t8 x 8 = 64\t8 x 9 = 72\t\n",
            "9 x 1 = 9\t9 x 2 = 18\t9 x 3 = 27\t9 x 4 = 36\t9 x 5 = 45\t9 x 6 = 54\t9 x 7 = 63\t9 x 8 = 72\t9 x 9 = 81\t\n"
          ],
          "name": "stdout"
        }
      ]
    },
    {
      "cell_type": "code",
      "metadata": {
        "colab": {
          "base_uri": "https://localhost:8080/"
        },
        "id": "Skbf0ETppMfp",
        "outputId": "d47372cc-b914-43cf-dfc3-b39716d328b8"
      },
      "source": [
        "# 전체 구구단 출력하기 -세로\n",
        "\n",
        "for i in range(1,10):\n",
        "    for j in range(2,10):\n",
        "        print(f'{j} x {i} = {i*j}',end='\\t')\n",
        "    print()"
      ],
      "execution_count": null,
      "outputs": [
        {
          "output_type": "stream",
          "text": [
            "2 x 1 = 2\t3 x 1 = 3\t4 x 1 = 4\t5 x 1 = 5\t6 x 1 = 6\t7 x 1 = 7\t8 x 1 = 8\t9 x 1 = 9\t\n",
            "2 x 2 = 4\t3 x 2 = 6\t4 x 2 = 8\t5 x 2 = 10\t6 x 2 = 12\t7 x 2 = 14\t8 x 2 = 16\t9 x 2 = 18\t\n",
            "2 x 3 = 6\t3 x 3 = 9\t4 x 3 = 12\t5 x 3 = 15\t6 x 3 = 18\t7 x 3 = 21\t8 x 3 = 24\t9 x 3 = 27\t\n",
            "2 x 4 = 8\t3 x 4 = 12\t4 x 4 = 16\t5 x 4 = 20\t6 x 4 = 24\t7 x 4 = 28\t8 x 4 = 32\t9 x 4 = 36\t\n",
            "2 x 5 = 10\t3 x 5 = 15\t4 x 5 = 20\t5 x 5 = 25\t6 x 5 = 30\t7 x 5 = 35\t8 x 5 = 40\t9 x 5 = 45\t\n",
            "2 x 6 = 12\t3 x 6 = 18\t4 x 6 = 24\t5 x 6 = 30\t6 x 6 = 36\t7 x 6 = 42\t8 x 6 = 48\t9 x 6 = 54\t\n",
            "2 x 7 = 14\t3 x 7 = 21\t4 x 7 = 28\t5 x 7 = 35\t6 x 7 = 42\t7 x 7 = 49\t8 x 7 = 56\t9 x 7 = 63\t\n",
            "2 x 8 = 16\t3 x 8 = 24\t4 x 8 = 32\t5 x 8 = 40\t6 x 8 = 48\t7 x 8 = 56\t8 x 8 = 64\t9 x 8 = 72\t\n",
            "2 x 9 = 18\t3 x 9 = 27\t4 x 9 = 36\t5 x 9 = 45\t6 x 9 = 54\t7 x 9 = 63\t8 x 9 = 72\t9 x 9 = 81\t\n"
          ],
          "name": "stdout"
        }
      ]
    },
    {
      "cell_type": "code",
      "metadata": {
        "colab": {
          "base_uri": "https://localhost:8080/"
        },
        "id": "Cj9VPLnPphuL",
        "outputId": "a3536527-cca4-4a4f-d2d9-4b9a47b6edea"
      },
      "source": [
        "# break 반복에서 벗어나기\n",
        "\n",
        "# 문장에서 해당 문자를 찾으면 반복을 종료한다.\n",
        "text = 'I have a dream'\n",
        "letter = input('찾을문자: ')\n",
        "\n",
        "for i in text:\n",
        "    print(i,end=' ')\n",
        "    if i == letter:\n",
        "        break"
      ],
      "execution_count": null,
      "outputs": [
        {
          "output_type": "stream",
          "text": [
            "찾을문자: q\n",
            "I   h a v e   a   d r e a m "
          ],
          "name": "stdout"
        }
      ]
    },
    {
      "cell_type": "code",
      "metadata": {
        "colab": {
          "base_uri": "https://localhost:8080/"
        },
        "id": "KKqyKym5r6pe",
        "outputId": "add30172-e03e-47e2-e877-5299c5812f3a"
      },
      "source": [
        "# UP & DOWN 게임\n",
        "# 1~100 사이의 정답숫자를 랜덤으로 하나 정하고\n",
        "# 정답숫자를 맞출 때까지 숫자를 입력하는 게임\n",
        "# 입력한 숫자가 정답보다 작으면 'DOWN'을, 정답보다 크면 'UP'을 출력하고 숫자를 다시 입력받는다.\n",
        "# 정답을 맞추면 '정답!'이라고 출력하고 게임을 끝낸다.\n",
        "\n",
        "import random\n",
        "\n",
        "print('※ UP & DOWN 게임 ※')\n",
        "num=random.randint(1,100)\n",
        "num2=int(input('정답을 맞춰보세요: '))\n",
        "\n",
        "while num != num2:\n",
        "    if num < num2:\n",
        "        print('DOWN')\n",
        "        num2=int(input('정답을 다시 맞춰보세요: '))\n",
        "    elif num > num2:\n",
        "        print('UP')\n",
        "        num2=int(input('정답을 다시 맞춰보세요: '))\n",
        "print('!!정답!!')"
      ],
      "execution_count": null,
      "outputs": [
        {
          "output_type": "stream",
          "text": [
            "※ UP & DOWN 게임 ※\n",
            "정답을 맞춰보세요: 50\n",
            "DOWN\n",
            "정답을 다시 맞춰보세요: 25\n",
            "DOWN\n",
            "정답을 다시 맞춰보세요: 10\n",
            "DOWN\n",
            "정답을 다시 맞춰보세요: 5\n",
            "정답!!\n"
          ],
          "name": "stdout"
        }
      ]
    },
    {
      "cell_type": "code",
      "metadata": {
        "colab": {
          "base_uri": "https://localhost:8080/"
        },
        "id": "PVYwo0dWxZps",
        "outputId": "86a9089a-1296-4170-c8c1-d430f3f0f8be"
      },
      "source": [
        "# UP & DOWN 게임 -장민준님(횟수제한)\n",
        "\n",
        "import random\n",
        "\n",
        "print('※ UP & DOWN 게임 ※')\n",
        "answer = random.randint(1, 100)\n",
        "guess = 0\n",
        "chance = int(input('몇번 추측해볼 수 있나요?: '))\n",
        "cnt=0\n",
        "\n",
        "for i in range(chance) :\n",
        "    cnt += 1\n",
        "    guess = int(input(f'1부터 100까지의 숫자 중 하나를 고르세요 (기회 {chance}번): '))\n",
        "    if answer > guess : \n",
        "        print('UP')\n",
        "    elif answer < guess : \n",
        "        print('DOWN')\n",
        "    elif answer == guess :\n",
        "        print('=========== 정답! ===========')\n",
        "        break\n",
        "\n",
        "if answer != guess and cnt == chance:\n",
        "        print(\"fail!\")"
      ],
      "execution_count": null,
      "outputs": [
        {
          "output_type": "stream",
          "text": [
            "※ UP & DOWN 게임 ※\n",
            "몇번 추측해볼 수 있나요?: 3\n",
            "1부터 100까지의 숫자 중 하나를 고르세요 (기회 3번): 50\n",
            "UP\n",
            "1부터 100까지의 숫자 중 하나를 고르세요 (기회 3번): 50\n",
            "1부터 100까지의 숫자 중 하나를 고르세요 (기회 3번): 50\n",
            "UP\n",
            "UP\n",
            "fail!\n"
          ],
          "name": "stdout"
        }
      ]
    },
    {
      "cell_type": "code",
      "metadata": {
        "colab": {
          "base_uri": "https://localhost:8080/"
        },
        "id": "9ZCOKSlfyrRo",
        "outputId": "bb6429f6-9c9f-4519-8209-3baaf542d7a3"
      },
      "source": [
        "# UP & DOWN 게임 -서윤선님(횟수 제한)\n",
        "\n",
        "import random\n",
        "\n",
        "i=0\n",
        "a = random.randint(1,100)\n",
        "m = int(input('몇 번 반복: '))\n",
        "n = int(input('숫자를 입력하세요.: '))\n",
        "while a != n:\n",
        "    i += 1\n",
        "    if i == m:\n",
        "        break\n",
        "    elif n > a:\n",
        "        print(f'{n} : Up!')\n",
        "    elif n < a:  \n",
        "        print(f'{n} : Dwon!')     \n",
        "    else:\n",
        "        print(f'{n} : 정답')"
      ],
      "execution_count": null,
      "outputs": [
        {
          "output_type": "stream",
          "text": [
            "몇 번 반복: 10\n",
            "숫자를 입력하세요.: 50\n",
            "50 : Up!\n",
            "50 : Up!\n",
            "50 : Up!\n",
            "50 : Up!\n",
            "50 : Up!\n",
            "50 : Up!\n",
            "50 : Up!\n",
            "50 : Up!\n",
            "50 : Up!\n"
          ],
          "name": "stdout"
        }
      ]
    },
    {
      "cell_type": "markdown",
      "metadata": {
        "id": "LkzIVXfnZJeh"
      },
      "source": [
        "# 심화 예제"
      ]
    },
    {
      "cell_type": "code",
      "metadata": {
        "colab": {
          "base_uri": "https://localhost:8080/"
        },
        "id": "yaS3-cH2DHsG",
        "outputId": "ee807616-4698-4072-d6c0-18bd8c1ebaf6"
      },
      "source": [
        "# 심화\n",
        "# n개의 정수와, 사칙연산 기호 입력받아 값 구하기\n",
        "\n",
        "i=0\n",
        "result=0\n",
        "result1=1\n",
        "n=int(input('몇 개의 숫자를 구할까요?: '))\n",
        "sign=str(input('어떤 연산을 할까요?: '))\n",
        "\n",
        "while i<n:\n",
        "    num=int(input('정수입력: '))\n",
        "    i+=1\n",
        "    if sign == '+':\n",
        "        result += num\n",
        "    elif sign == '-':\n",
        "        result -= num\n",
        "    elif sign == '*':\n",
        "        result1 *= num\n",
        "    elif sign == '/':\n",
        "        result1 /= num\n",
        "\n",
        "print('-'*50)\n",
        "print(f'결과는 {result1}입니다.')\n",
        "\n",
        "# -연산을 할 경우 시작값이 0이라 음수만 나옴. 시작값을 넣고싶다면 첫 값을 음수(-a)로 입력해 양수로 바꿔야함.\n",
        "# result 초기값이 0이라 곱셈, 나눗셈 연산은 아무리해도 결과값이 0이 됨. ''으로 하면 str형식이 되서 int와 연산되지 않음."
      ],
      "execution_count": null,
      "outputs": [
        {
          "output_type": "stream",
          "text": [
            "몇 개의 숫자를 구할까요?: 5\n",
            "어떤 연산을 할까요?: /\n",
            "정수입력: 60\n",
            "정수입력: 2\n",
            "정수입력: 3\n",
            "정수입력: 2\n",
            "정수입력: 2\n",
            "--------------------------------------------------\n",
            "결과는 0.0006944444444444445입니다\n"
          ],
          "name": "stdout"
        }
      ]
    },
    {
      "cell_type": "code",
      "metadata": {
        "colab": {
          "base_uri": "https://localhost:8080/",
          "height": 556
        },
        "id": "iUvwgi-fL2PV",
        "outputId": "3c37b4fb-7244-4b1c-98bd-9a28a6ee3e5f"
      },
      "source": [
        "5# 조별 심화예제\n",
        "# 베스킨라빈스31 게임\n",
        "\n",
        "num=0\n",
        "beskin=0\n",
        "\n",
        "while beskin <31:\n",
        "    num = int(input('베스킨라빈스 31! (1~3)  '))\n",
        "    if num >=1 and num <=3:\n",
        "        print('=> 입력한 숫자: ', num) \n",
        "        beskin += num\n",
        "        print('=> 쌓인 숫자 : ', beskin)\n",
        "    else:\n",
        "        print('1부터 3까지의 숫자 중에 입력하세요')\n",
        "\n",
        "    print('-'*50)"
      ],
      "execution_count": null,
      "outputs": [
        {
          "output_type": "error",
          "ename": "KeyboardInterrupt",
          "evalue": "ignored",
          "traceback": [
            "\u001b[0;31m---------------------------------------------------------------------------\u001b[0m",
            "\u001b[0;31mKeyboardInterrupt\u001b[0m                         Traceback (most recent call last)",
            "\u001b[0;32m/usr/local/lib/python3.7/dist-packages/ipykernel/kernelbase.py\u001b[0m in \u001b[0;36m_input_request\u001b[0;34m(self, prompt, ident, parent, password)\u001b[0m\n\u001b[1;32m    728\u001b[0m             \u001b[0;32mtry\u001b[0m\u001b[0;34m:\u001b[0m\u001b[0;34m\u001b[0m\u001b[0;34m\u001b[0m\u001b[0m\n\u001b[0;32m--> 729\u001b[0;31m                 \u001b[0mident\u001b[0m\u001b[0;34m,\u001b[0m \u001b[0mreply\u001b[0m \u001b[0;34m=\u001b[0m \u001b[0mself\u001b[0m\u001b[0;34m.\u001b[0m\u001b[0msession\u001b[0m\u001b[0;34m.\u001b[0m\u001b[0mrecv\u001b[0m\u001b[0;34m(\u001b[0m\u001b[0mself\u001b[0m\u001b[0;34m.\u001b[0m\u001b[0mstdin_socket\u001b[0m\u001b[0;34m,\u001b[0m \u001b[0;36m0\u001b[0m\u001b[0;34m)\u001b[0m\u001b[0;34m\u001b[0m\u001b[0;34m\u001b[0m\u001b[0m\n\u001b[0m\u001b[1;32m    730\u001b[0m             \u001b[0;32mexcept\u001b[0m \u001b[0mException\u001b[0m\u001b[0;34m:\u001b[0m\u001b[0;34m\u001b[0m\u001b[0;34m\u001b[0m\u001b[0m\n",
            "\u001b[0;32m/usr/local/lib/python3.7/dist-packages/jupyter_client/session.py\u001b[0m in \u001b[0;36mrecv\u001b[0;34m(self, socket, mode, content, copy)\u001b[0m\n\u001b[1;32m    802\u001b[0m         \u001b[0;32mtry\u001b[0m\u001b[0;34m:\u001b[0m\u001b[0;34m\u001b[0m\u001b[0;34m\u001b[0m\u001b[0m\n\u001b[0;32m--> 803\u001b[0;31m             \u001b[0mmsg_list\u001b[0m \u001b[0;34m=\u001b[0m \u001b[0msocket\u001b[0m\u001b[0;34m.\u001b[0m\u001b[0mrecv_multipart\u001b[0m\u001b[0;34m(\u001b[0m\u001b[0mmode\u001b[0m\u001b[0;34m,\u001b[0m \u001b[0mcopy\u001b[0m\u001b[0;34m=\u001b[0m\u001b[0mcopy\u001b[0m\u001b[0;34m)\u001b[0m\u001b[0;34m\u001b[0m\u001b[0;34m\u001b[0m\u001b[0m\n\u001b[0m\u001b[1;32m    804\u001b[0m         \u001b[0;32mexcept\u001b[0m \u001b[0mzmq\u001b[0m\u001b[0;34m.\u001b[0m\u001b[0mZMQError\u001b[0m \u001b[0;32mas\u001b[0m \u001b[0me\u001b[0m\u001b[0;34m:\u001b[0m\u001b[0;34m\u001b[0m\u001b[0;34m\u001b[0m\u001b[0m\n",
            "\u001b[0;32m/usr/local/lib/python3.7/dist-packages/zmq/sugar/socket.py\u001b[0m in \u001b[0;36mrecv_multipart\u001b[0;34m(self, flags, copy, track)\u001b[0m\n\u001b[1;32m    582\u001b[0m         \"\"\"\n\u001b[0;32m--> 583\u001b[0;31m         \u001b[0mparts\u001b[0m \u001b[0;34m=\u001b[0m \u001b[0;34m[\u001b[0m\u001b[0mself\u001b[0m\u001b[0;34m.\u001b[0m\u001b[0mrecv\u001b[0m\u001b[0;34m(\u001b[0m\u001b[0mflags\u001b[0m\u001b[0;34m,\u001b[0m \u001b[0mcopy\u001b[0m\u001b[0;34m=\u001b[0m\u001b[0mcopy\u001b[0m\u001b[0;34m,\u001b[0m \u001b[0mtrack\u001b[0m\u001b[0;34m=\u001b[0m\u001b[0mtrack\u001b[0m\u001b[0;34m)\u001b[0m\u001b[0;34m]\u001b[0m\u001b[0;34m\u001b[0m\u001b[0;34m\u001b[0m\u001b[0m\n\u001b[0m\u001b[1;32m    584\u001b[0m         \u001b[0;31m# have first part already, only loop while more to receive\u001b[0m\u001b[0;34m\u001b[0m\u001b[0;34m\u001b[0m\u001b[0;34m\u001b[0m\u001b[0m\n",
            "\u001b[0;32mzmq/backend/cython/socket.pyx\u001b[0m in \u001b[0;36mzmq.backend.cython.socket.Socket.recv\u001b[0;34m()\u001b[0m\n",
            "\u001b[0;32mzmq/backend/cython/socket.pyx\u001b[0m in \u001b[0;36mzmq.backend.cython.socket.Socket.recv\u001b[0;34m()\u001b[0m\n",
            "\u001b[0;32mzmq/backend/cython/socket.pyx\u001b[0m in \u001b[0;36mzmq.backend.cython.socket._recv_copy\u001b[0;34m()\u001b[0m\n",
            "\u001b[0;32m/usr/local/lib/python3.7/dist-packages/zmq/backend/cython/checkrc.pxd\u001b[0m in \u001b[0;36mzmq.backend.cython.checkrc._check_rc\u001b[0;34m()\u001b[0m\n",
            "\u001b[0;31mKeyboardInterrupt\u001b[0m: ",
            "\nDuring handling of the above exception, another exception occurred:\n",
            "\u001b[0;31mKeyboardInterrupt\u001b[0m                         Traceback (most recent call last)",
            "\u001b[0;32m<ipython-input-84-f08f96d589c1>\u001b[0m in \u001b[0;36m<module>\u001b[0;34m()\u001b[0m\n\u001b[1;32m      6\u001b[0m \u001b[0;34m\u001b[0m\u001b[0m\n\u001b[1;32m      7\u001b[0m \u001b[0;32mwhile\u001b[0m \u001b[0mbeskin\u001b[0m \u001b[0;34m<\u001b[0m\u001b[0;36m31\u001b[0m\u001b[0;34m:\u001b[0m\u001b[0;34m\u001b[0m\u001b[0;34m\u001b[0m\u001b[0m\n\u001b[0;32m----> 8\u001b[0;31m     \u001b[0mnum\u001b[0m \u001b[0;34m=\u001b[0m \u001b[0mint\u001b[0m\u001b[0;34m(\u001b[0m\u001b[0minput\u001b[0m\u001b[0;34m(\u001b[0m\u001b[0;34m'베스킨라빈스 31! (1~3)  '\u001b[0m\u001b[0;34m)\u001b[0m\u001b[0;34m)\u001b[0m\u001b[0;34m\u001b[0m\u001b[0;34m\u001b[0m\u001b[0m\n\u001b[0m\u001b[1;32m      9\u001b[0m     \u001b[0;32mif\u001b[0m \u001b[0mnum\u001b[0m \u001b[0;34m>=\u001b[0m\u001b[0;36m1\u001b[0m \u001b[0;32mand\u001b[0m \u001b[0mnum\u001b[0m \u001b[0;34m<=\u001b[0m\u001b[0;36m3\u001b[0m\u001b[0;34m:\u001b[0m\u001b[0;34m\u001b[0m\u001b[0;34m\u001b[0m\u001b[0m\n\u001b[1;32m     10\u001b[0m         \u001b[0mprint\u001b[0m\u001b[0;34m(\u001b[0m\u001b[0;34m'=> 입력한 숫자: '\u001b[0m\u001b[0;34m,\u001b[0m \u001b[0mnum\u001b[0m\u001b[0;34m)\u001b[0m\u001b[0;34m\u001b[0m\u001b[0;34m\u001b[0m\u001b[0m\n",
            "\u001b[0;32m/usr/local/lib/python3.7/dist-packages/ipykernel/kernelbase.py\u001b[0m in \u001b[0;36mraw_input\u001b[0;34m(self, prompt)\u001b[0m\n\u001b[1;32m    702\u001b[0m             \u001b[0mself\u001b[0m\u001b[0;34m.\u001b[0m\u001b[0m_parent_ident\u001b[0m\u001b[0;34m,\u001b[0m\u001b[0;34m\u001b[0m\u001b[0;34m\u001b[0m\u001b[0m\n\u001b[1;32m    703\u001b[0m             \u001b[0mself\u001b[0m\u001b[0;34m.\u001b[0m\u001b[0m_parent_header\u001b[0m\u001b[0;34m,\u001b[0m\u001b[0;34m\u001b[0m\u001b[0;34m\u001b[0m\u001b[0m\n\u001b[0;32m--> 704\u001b[0;31m             \u001b[0mpassword\u001b[0m\u001b[0;34m=\u001b[0m\u001b[0;32mFalse\u001b[0m\u001b[0;34m,\u001b[0m\u001b[0;34m\u001b[0m\u001b[0;34m\u001b[0m\u001b[0m\n\u001b[0m\u001b[1;32m    705\u001b[0m         )\n\u001b[1;32m    706\u001b[0m \u001b[0;34m\u001b[0m\u001b[0m\n",
            "\u001b[0;32m/usr/local/lib/python3.7/dist-packages/ipykernel/kernelbase.py\u001b[0m in \u001b[0;36m_input_request\u001b[0;34m(self, prompt, ident, parent, password)\u001b[0m\n\u001b[1;32m    732\u001b[0m             \u001b[0;32mexcept\u001b[0m \u001b[0mKeyboardInterrupt\u001b[0m\u001b[0;34m:\u001b[0m\u001b[0;34m\u001b[0m\u001b[0;34m\u001b[0m\u001b[0m\n\u001b[1;32m    733\u001b[0m                 \u001b[0;31m# re-raise KeyboardInterrupt, to truncate traceback\u001b[0m\u001b[0;34m\u001b[0m\u001b[0;34m\u001b[0m\u001b[0;34m\u001b[0m\u001b[0m\n\u001b[0;32m--> 734\u001b[0;31m                 \u001b[0;32mraise\u001b[0m \u001b[0mKeyboardInterrupt\u001b[0m\u001b[0;34m\u001b[0m\u001b[0;34m\u001b[0m\u001b[0m\n\u001b[0m\u001b[1;32m    735\u001b[0m             \u001b[0;32melse\u001b[0m\u001b[0;34m:\u001b[0m\u001b[0;34m\u001b[0m\u001b[0;34m\u001b[0m\u001b[0m\n\u001b[1;32m    736\u001b[0m                 \u001b[0;32mbreak\u001b[0m\u001b[0;34m\u001b[0m\u001b[0;34m\u001b[0m\u001b[0m\n",
            "\u001b[0;31mKeyboardInterrupt\u001b[0m: "
          ]
        }
      ]
    },
    {
      "cell_type": "code",
      "metadata": {
        "id": "PAbdMSpDOPPP"
      },
      "source": [
        ""
      ],
      "execution_count": null,
      "outputs": []
    }
  ]
}