{
  "nbformat": 4,
  "nbformat_minor": 0,
  "metadata": {
    "colab": {
      "name": "2021-05-27_1팀_남가연.ipynb",
      "provenance": [],
      "collapsed_sections": [],
      "include_colab_link": true
    },
    "kernelspec": {
      "name": "python3",
      "display_name": "Python 3"
    },
    "language_info": {
      "name": "python"
    }
  },
  "cells": [
    {
      "cell_type": "markdown",
      "metadata": {
        "id": "view-in-github",
        "colab_type": "text"
      },
      "source": [
        "<a href=\"https://colab.research.google.com/github/gaya935/Pythonlogee/blob/master/_notebooks/2021-05_27-1%ED%8C%80_%EB%82%A8%EA%B0%80%EC%97%B0.ipynb\" target=\"_parent\"><img src=\"https://colab.research.google.com/assets/colab-badge.svg\" alt=\"Open In Colab\"/></a>"
      ]
    },
    {
      "cell_type": "markdown",
      "metadata": {
        "id": "6MXgvPMMocL3"
      },
      "source": [
        "# 예제"
      ]
    },
    {
      "cell_type": "code",
      "metadata": {
        "id": "5bMmQ-TXAUTH",
        "colab": {
          "base_uri": "https://localhost:8080/",
          "height": 136
        },
        "outputId": "3db532cb-b476-41e3-f0cb-6cfebe19ba75"
      },
      "source": [
        "# 주사위 빈도 계산하기\n",
        "# 실패\n",
        "\n",
        "import random\n",
        "cube=[]\n",
        "\n",
        "for i in range(10000):\n",
        "    a=random.randint(1,6)\n",
        "    if a=1:\n",
        "    cube.append(cube)"
      ],
      "execution_count": null,
      "outputs": [
        {
          "output_type": "error",
          "ename": "SyntaxError",
          "evalue": "ignored",
          "traceback": [
            "\u001b[0;36m  File \u001b[0;32m\"<ipython-input-5-4f1841ee7dde>\"\u001b[0;36m, line \u001b[0;32m9\u001b[0m\n\u001b[0;31m    if a=1:\u001b[0m\n\u001b[0m        ^\u001b[0m\n\u001b[0;31mSyntaxError\u001b[0m\u001b[0;31m:\u001b[0m invalid syntax\n"
          ]
        }
      ]
    },
    {
      "cell_type": "code",
      "metadata": {
        "colab": {
          "base_uri": "https://localhost:8080/"
        },
        "id": "gZPA-JCkGzu1",
        "outputId": "1c44f548-6a9f-466a-e2f0-2c0cda0be89e"
      },
      "source": [
        "# 주사위 빈도 계산하기\n",
        "# 선생님 답\n",
        "\n",
        "import random\n",
        "dice_cnt=[0,0,0,0,0,0]     # 리스트 초기화\n",
        "\n",
        "for i in range(10000):\n",
        "    number=random.randint(1,6)\n",
        "    if number==1:            # 횟수 카운트\n",
        "        dice_cnt[0]+=1       # elif는 중첩반복\n",
        "    elif number==2:\n",
        "        dice_cnt[1]+=1\n",
        "    elif number==3:\n",
        "        dice_cnt[2]+=1\n",
        "    elif number==4:\n",
        "        dice_cnt[3]+=1\n",
        "    elif number==5:\n",
        "        dice_cnt[4]+=1\n",
        "    elif number==6:\n",
        "        dice_cnt[5]+=1\n",
        "\n",
        "print(dice_cnt)"
      ],
      "execution_count": null,
      "outputs": [
        {
          "output_type": "stream",
          "text": [
            "[1693, 1684, 1612, 1696, 1710, 1605]\n"
          ],
          "name": "stdout"
        }
      ]
    },
    {
      "cell_type": "code",
      "metadata": {
        "colab": {
          "base_uri": "https://localhost:8080/"
        },
        "id": "iGbD35LII4SL",
        "outputId": "16a41228-cf34-4120-e9a9-feab0ebbcc8e"
      },
      "source": [
        "# 주사위 빈도 계산하기\n",
        "# 신박한 방법(장민준 님)\n",
        "\n",
        "import random\n",
        "dice = [1,2,3,4,5,6]\n",
        "conse = []\n",
        "for i in range(10000) :\n",
        "    conse.append(random.choice(dice))\n",
        "for i in range(1, len(dice)+1) :\n",
        "    print(f'{i}은(는) {conse.count(i)}개') "
      ],
      "execution_count": null,
      "outputs": [
        {
          "output_type": "stream",
          "text": [
            "1은(는) 1615개\n",
            "2은(는) 1627개\n",
            "3은(는) 1647개\n",
            "4은(는) 1724개\n",
            "5은(는) 1702개\n",
            "6은(는) 1685개\n"
          ],
          "name": "stdout"
        }
      ]
    },
    {
      "cell_type": "code",
      "metadata": {
        "colab": {
          "base_uri": "https://localhost:8080/"
        },
        "id": "GofsnDFsKh0f",
        "outputId": "34ac32b1-307b-442f-a7f9-dd3062e0cd81"
      },
      "source": [
        "# 과목별 점수의 평균 구하기\n",
        "\n",
        "score=[[96,84,80],[96,86,76],[76,95,83],[89,96,69],[90,76,91],[82,66,88],[83,86,79],[85,90,83]]\n",
        "kor=[]\n",
        "eng=[]\n",
        "math=[]\n",
        "\n",
        "for temp in score:\n",
        "    kor.append(temp[0])\n",
        "    eng.append(temp[1])\n",
        "    math.append(temp[2])\n",
        "\n",
        "print(kor)\n",
        "print(eng)\n",
        "print(math)\n",
        "\n",
        "kor_avg=round(sum(kor)/len(kor),1)\n",
        "eng_avg=round(sum(eng)/len(eng),1)\n",
        "math_avg=round(sum(math)/len(math),1)\n",
        "print('-'*50)\n",
        "\n",
        "print(f'국어평균: {kor_avg}점, 영어평균: {eng_avg}점, 수학평균: {math_avg}점')"
      ],
      "execution_count": null,
      "outputs": [
        {
          "output_type": "stream",
          "text": [
            "[96, 96, 76, 89, 90, 82, 83, 85]\n",
            "[84, 86, 95, 96, 76, 66, 86, 90]\n",
            "[80, 76, 83, 69, 91, 88, 79, 83]\n",
            "--------------------------------------------------\n",
            "국어평균: 87.1점, 영어평균: 84.9점, 수학평균: 81.1점\n"
          ],
          "name": "stdout"
        }
      ]
    },
    {
      "cell_type": "code",
      "metadata": {
        "colab": {
          "base_uri": "https://localhost:8080/"
        },
        "id": "u0tk7lZ0P8Rr",
        "outputId": "b0f996b0-395f-4c5e-9345-820b9768949a"
      },
      "source": [
        "kor = []\n",
        "eng = []\n",
        "math = []\n",
        "scores = [[96,84,80], [96,86,76], [76,95,83], [89,96,69], [90,76,91], [82,66,88], [83,86,79], [85,90,83]]\n",
        "for i in range(3):\n",
        "    for j in range(8):\n",
        "        if i == 0:\n",
        "            kor.append(scores[j][i])\n",
        "        elif i == 1:\n",
        "            eng.append(scores[j][i])\n",
        "        elif i == 2:\n",
        "            math.append(scores[j][i])\n",
        "print(f'국어: {kor}')\n",
        "print(f'영어: {eng}')\n",
        "print(f'수어: {math}')\n",
        "print(f'국어평균: {round(sum(kor)/len(kor),1)}, 영어평균: {round(sum(eng)/len(eng),1)}, 수학평균: {round(sum(math)/len(math),1)}')"
      ],
      "execution_count": null,
      "outputs": [
        {
          "output_type": "stream",
          "text": [
            "국어: [96, 96, 76, 89, 90, 82, 83, 85]\n",
            "영어: [84, 86, 95, 96, 76, 66, 86, 90]\n",
            "수어: [80, 76, 83, 69, 91, 88, 79, 83]\n",
            "국어평균: 87.1, 영어평균: 84.9, 수학평균: 81.1\n"
          ],
          "name": "stdout"
        }
      ]
    },
    {
      "cell_type": "markdown",
      "metadata": {
        "id": "lUKlX3i8ogqb"
      },
      "source": [
        "# 튜플"
      ]
    },
    {
      "cell_type": "code",
      "metadata": {
        "colab": {
          "base_uri": "https://localhost:8080/"
        },
        "id": "cZ5Z7k7eTv_w",
        "outputId": "44fe6294-4557-4296-fa8e-55c2023db1a9"
      },
      "source": [
        "# 튜플\n",
        "# tuple_name=()\n",
        "# 값을 바꿀 수 없다.\n",
        "# 프로그램을 실행하는 동안 값이 바뀌면 안되는 경우에 사용.(주민번호, 전화번호 등)\n",
        "# 선언과 동시에 메모리가 정해짐. 빠르고 정확하게 사용 가능. 대단위의 정보 사용\n",
        "\n",
        "t1=(1,2,3)\n",
        "t2=(1,)\n",
        "print(t1,t2)"
      ],
      "execution_count": null,
      "outputs": [
        {
          "output_type": "stream",
          "text": [
            "(1, 2, 3) (1,)\n"
          ],
          "name": "stdout"
        }
      ]
    },
    {
      "cell_type": "code",
      "metadata": {
        "colab": {
          "base_uri": "https://localhost:8080/"
        },
        "id": "5C3UxDtCT_En",
        "outputId": "11af88ac-a321-4031-d98a-30ac7edfa291"
      },
      "source": [
        "# 튜플다루기\n",
        "\n",
        "t1 = (1,5,3,4,2)\n",
        "t2 = (6,7,8,9,8)  \n",
        "print(t1[1])             # 인덱싱\n",
        "print(t1[2:4])           # 슬라이싱\n",
        "print(t1+t2)             # 더하기\n",
        "print(t1*3)              # 곱하기\n",
        "print(len(t1))           # 길이 구하기\n",
        "print(t2.index(9))       # 요소의 위치 찾기\n",
        "print(t2.count(8))       # 요소의 갯수\n",
        "\n",
        "sort_t1 = sorted(t1)     # 정렬된 새로운 리스트 반환\n",
        "print(sort_t1)"
      ],
      "execution_count": null,
      "outputs": [
        {
          "output_type": "stream",
          "text": [
            "5\n",
            "(3, 4)\n",
            "(1, 5, 3, 4, 2, 6, 7, 8, 9, 8)\n",
            "(1, 5, 3, 4, 2, 1, 5, 3, 4, 2, 1, 5, 3, 4, 2)\n",
            "5\n",
            "3\n",
            "2\n",
            "[1, 2, 3, 4, 5]\n"
          ],
          "name": "stdout"
        }
      ]
    },
    {
      "cell_type": "code",
      "metadata": {
        "colab": {
          "base_uri": "https://localhost:8080/"
        },
        "id": "8Sr3TcHrcH9c",
        "outputId": "c9ac4088-7213-4aaf-9ae6-f5fb0e50f0c3"
      },
      "source": [
        "# 리스트의 합계 구하기\n",
        "\n",
        "values=[56,12,33,8,3,2,98]\n",
        "total=0\n",
        "for i in range(7):\n",
        "    total+=values[i]\n",
        "print(total)\n",
        "\n",
        "values=[56,12,33,8,3,2,98]\n",
        "total=0\n",
        "for i in values:\n",
        "    total+=i\n",
        "print(total)\n",
        "\n",
        "values=[56,12,33,8,3,2,98]\n",
        "total=sum(values)\n",
        "print(total)"
      ],
      "execution_count": null,
      "outputs": [
        {
          "output_type": "stream",
          "text": [
            "212\n",
            "212\n",
            "212\n"
          ],
          "name": "stdout"
        }
      ]
    },
    {
      "cell_type": "markdown",
      "metadata": {
        "id": "Ft567tsdoVwg"
      },
      "source": [
        "# 딕셔너리"
      ]
    },
    {
      "cell_type": "code",
      "metadata": {
        "id": "BuE0SlzGdSoi",
        "colab": {
          "base_uri": "https://localhost:8080/"
        },
        "outputId": "378a6f69-0cb8-4168-832d-4f461f6e23d5"
      },
      "source": [
        "# dict_name={key0:value0,...,keyN:valueN}\n",
        "# 키:값이 쌍을 이루어 하나의 요소로 저장된다.\n",
        "# 순서가 없다.\n",
        "# 인덱스가 아닌 키(key)로 제어한다. 따라서 키(key)는 고유해야하며 수정 불가능하다.\n",
        "\n",
        "menu={'아메리카노':2000,'카페라떼':3000,'카푸치노':3500}\n",
        "dict_person={'name':'홍길동','phone':'01012345678','age':35,'hobbies':['운동','독서']}\n",
        "dict_person\n",
        "dict_phone={'홍길동':'01012345678','공유':'01056781234','현빈':'01098765432'}\n",
        "dict_phone"
      ],
      "execution_count": null,
      "outputs": [
        {
          "output_type": "execute_result",
          "data": {
            "text/plain": [
              "{'공유': '01012345678', '현빈': '01012345678', '홍길동': '01012345678'}"
            ]
          },
          "metadata": {
            "tags": []
          },
          "execution_count": 45
        }
      ]
    },
    {
      "cell_type": "code",
      "metadata": {
        "colab": {
          "base_uri": "https://localhost:8080/"
        },
        "id": "9K0YNZ8Vp9iG",
        "outputId": "6569db62-0dcf-4455-afe8-32633bfa4f03"
      },
      "source": [
        "# 값은 변경/중복 가능, 키는 변경/중복 불가능\n",
        "# 키는 중복되어도 오류는 안나지만, 여러개 중 하나의 키만 참조되므로 프로그램이 정상 작동하지 않을 수 있음.\n",
        "dict_score={'홍길동':80,'공유':90,'현빈':100}\n",
        "\n",
        "# 들여쓰기로 여러줄에 기술할 수 있다.\n",
        "dict_score={\n",
        "    '홍길동':80,\n",
        "    '공유':90,\n",
        "    '현빈':100\n",
        "}\n",
        "dict_score"
      ],
      "execution_count": null,
      "outputs": [
        {
          "output_type": "execute_result",
          "data": {
            "text/plain": [
              "{'공유': 90, '현빈': 100, '홍길동': 80}"
            ]
          },
          "metadata": {
            "tags": []
          },
          "execution_count": 46
        }
      ]
    },
    {
      "cell_type": "code",
      "metadata": {
        "colab": {
          "base_uri": "https://localhost:8080/"
        },
        "id": "045wk4NarJXi",
        "outputId": "77bc792c-cb24-4007-fbae-446490d60d22"
      },
      "source": [
        "# 요소추가하기\n",
        "dict_score={}\n",
        "dict_score['홍길동']=90\n",
        "dict_score['공유']=90\n",
        "dict_score['현빈']=100\n",
        "dict_score"
      ],
      "execution_count": null,
      "outputs": [
        {
          "output_type": "execute_result",
          "data": {
            "text/plain": [
              "{'공유': 90, '현빈': 100, '홍길동': 90}"
            ]
          },
          "metadata": {
            "tags": []
          },
          "execution_count": 47
        }
      ]
    },
    {
      "cell_type": "code",
      "metadata": {
        "colab": {
          "base_uri": "https://localhost:8080/"
        },
        "id": "j8sbUxD7rh1y",
        "outputId": "0a59df61-8530-4225-a76a-7ff752f0f5b6"
      },
      "source": [
        "# 요소 삭제하기\n",
        "\n",
        "dict_score={\n",
        "    '홍길동':80,\n",
        "    '공유':90,\n",
        "    '현빈':100\n",
        "}\n",
        "del dict_score['홍길동']\n",
        "dict_score"
      ],
      "execution_count": null,
      "outputs": [
        {
          "output_type": "execute_result",
          "data": {
            "text/plain": [
              "{'공유': 90, '현빈': 100}"
            ]
          },
          "metadata": {
            "tags": []
          },
          "execution_count": 48
        }
      ]
    },
    {
      "cell_type": "code",
      "metadata": {
        "colab": {
          "base_uri": "https://localhost:8080/"
        },
        "id": "o4ggtPSlrrCz",
        "outputId": "9d938dfd-a7a9-4aff-8ebe-cc5046d767f4"
      },
      "source": [
        "# 요소 추출하고 삭제\n",
        "dict_score={\n",
        "    '홍길동':80,\n",
        "    '공유':90,\n",
        "    '현빈':100\n",
        "}\n",
        "sco=dict_score.pop('홍길동')\n",
        "print(sco)            # 요소 추출\n",
        "print(dict_score)     # 추출된 요소 삭제"
      ],
      "execution_count": null,
      "outputs": [
        {
          "output_type": "stream",
          "text": [
            "80\n",
            "{'공유': 90, '현빈': 100}\n"
          ],
          "name": "stdout"
        }
      ]
    },
    {
      "cell_type": "code",
      "metadata": {
        "colab": {
          "base_uri": "https://localhost:8080/"
        },
        "id": "KhierypRsTat",
        "outputId": "98f31caa-47be-4b8c-8d48-3dba475dc35f"
      },
      "source": [
        "# 모든 요소 전체 삭제\n",
        "dict_score={\n",
        "    '홍길동':80,\n",
        "    '공유':90,\n",
        "    '현빈':100\n",
        "}\n",
        "\n",
        "dict_score.clear()\n",
        "dict_score"
      ],
      "execution_count": null,
      "outputs": [
        {
          "output_type": "execute_result",
          "data": {
            "text/plain": [
              "{}"
            ]
          },
          "metadata": {
            "tags": []
          },
          "execution_count": 56
        }
      ]
    },
    {
      "cell_type": "code",
      "metadata": {
        "colab": {
          "base_uri": "https://localhost:8080/"
        },
        "id": "DZ221b-xr6dv",
        "outputId": "9e08d1b1-3f78-488d-e258-3d3ef9dab2f6"
      },
      "source": [
        "# 요소 수정하기\n",
        "\n",
        "dict_score={\n",
        "    '홍길동':80,\n",
        "    '공유':90,\n",
        "    '현빈':100\n",
        "}\n",
        "dict_score['공유']=95      # 키 값이 있으면 수정, 키 값이 없으면 추가\n",
        "dict_score"
      ],
      "execution_count": null,
      "outputs": [
        {
          "output_type": "execute_result",
          "data": {
            "text/plain": [
              "{'공유': 95, '현빈': 100, '홍길동': 80}"
            ]
          },
          "metadata": {
            "tags": []
          },
          "execution_count": 57
        }
      ]
    },
    {
      "cell_type": "code",
      "metadata": {
        "colab": {
          "base_uri": "https://localhost:8080/"
        },
        "id": "Ns0U75l_sHHX",
        "outputId": "e4c222e1-c756-473f-f84a-54262a3556b4"
      },
      "source": [
        "# 요소 추출\n",
        "dict_score={\n",
        "    '홍길동':80,\n",
        "    '공유':90,\n",
        "    '현빈':100\n",
        "}\n",
        "print(dict_score['홍길동'])\n",
        "\n",
        "# 요소 추출2\n",
        "dict_score={\n",
        "    '홍길동':80,\n",
        "    '공유':90,\n",
        "    '현빈':100\n",
        "}\n",
        "print(dict_score.get('홍길동'))"
      ],
      "execution_count": null,
      "outputs": [
        {
          "output_type": "stream",
          "text": [
            "80\n",
            "80\n"
          ],
          "name": "stdout"
        }
      ]
    },
    {
      "cell_type": "code",
      "metadata": {
        "colab": {
          "base_uri": "https://localhost:8080/"
        },
        "id": "sbqA6gYKsPPK",
        "outputId": "341e1965-62f5-44fe-866b-fad0f905a970"
      },
      "source": [
        "# 존재하지 않는 키 추출\n",
        "dict_score={\n",
        "    '홍길동':80,\n",
        "    '공유':90,\n",
        "    '현빈':100\n",
        "}\n",
        "print(dict_score.get('송중기'))                 # 존재하지 않는 키로 추출하면 None리턴\n",
        "print(dict_score.get('송중기','없음'))          # 존재하지 않는 키로 추출하면 미리 정해둔 값 리턴"
      ],
      "execution_count": null,
      "outputs": [
        {
          "output_type": "stream",
          "text": [
            "None\n",
            "없음\n"
          ],
          "name": "stdout"
        }
      ]
    },
    {
      "cell_type": "code",
      "metadata": {
        "colab": {
          "base_uri": "https://localhost:8080/"
        },
        "id": "lk9BMvRosrEl",
        "outputId": "5bf48383-1204-4fdf-fc0d-93a0c01960fe"
      },
      "source": [
        "# 키 값이 존재하는지 확인\n",
        "\n",
        "dict_score={\n",
        "    '홍길동':80,\n",
        "    '공유':90,\n",
        "    '현빈':100\n",
        "}\n",
        "print('송중기' in dict_score)\n",
        "\n",
        "#\n",
        "dict_score={\n",
        "    '홍길동':80,\n",
        "    '공유':90,\n",
        "    '현빈':100\n",
        "}\n",
        "\n",
        "'홍길동' in dict_score"
      ],
      "execution_count": null,
      "outputs": [
        {
          "output_type": "stream",
          "text": [
            "False\n"
          ],
          "name": "stdout"
        },
        {
          "output_type": "execute_result",
          "data": {
            "text/plain": [
              "True"
            ]
          },
          "metadata": {
            "tags": []
          },
          "execution_count": 63
        }
      ]
    },
    {
      "cell_type": "code",
      "metadata": {
        "colab": {
          "base_uri": "https://localhost:8080/"
        },
        "id": "8p3hAV_au9Yl",
        "outputId": "763c6635-3196-4c83-8201-c1aab2580ca8"
      },
      "source": [
        "# 모든 key만 얻기\n",
        "dict_score={\n",
        "    '홍길동':80,\n",
        "    '공유':90,\n",
        "    '현빈':100\n",
        "}\n",
        "\n",
        "print(dict_score.keys())           # 모든 키 반환\n",
        "print(list(dict_score.keys()))     # 리스트 형식으로 모든 키 반환"
      ],
      "execution_count": null,
      "outputs": [
        {
          "output_type": "stream",
          "text": [
            "dict_keys(['홍길동', '공유', '현빈'])\n",
            "['홍길동', '공유', '현빈']\n"
          ],
          "name": "stdout"
        }
      ]
    },
    {
      "cell_type": "code",
      "metadata": {
        "colab": {
          "base_uri": "https://localhost:8080/"
        },
        "id": "16i8Lk_GvSjI",
        "outputId": "39cf7c39-8b62-4328-da40-3863f2166e84"
      },
      "source": [
        "# 모든 value만 얻기\n",
        "dict_score={\n",
        "    '홍길동':80,\n",
        "    '공유':90,\n",
        "    '현빈':100\n",
        "}\n",
        "\n",
        "print(dict_score.values())           # 모든 값 반환\n",
        "print(list(dict_score.values()))     # 리스트 형식으로 모든 값 반환"
      ],
      "execution_count": null,
      "outputs": [
        {
          "output_type": "stream",
          "text": [
            "dict_values([80, 90, 100])\n",
            "[80, 90, 100]\n"
          ],
          "name": "stdout"
        }
      ]
    },
    {
      "cell_type": "code",
      "metadata": {
        "colab": {
          "base_uri": "https://localhost:8080/"
        },
        "id": "KjdOS-8tv6GR",
        "outputId": "198e254e-cb80-4462-fd8f-f06bbe4fe8ab"
      },
      "source": [
        "# 모든 key,value 쌍으로 얻기\n",
        "dict_score={\n",
        "    '홍길동':80,\n",
        "    '공유':90,\n",
        "    '현빈':100\n",
        "}\n",
        "\n",
        "print(dict_score.items())           # 모든 키-값 반환(튜플로 묶여서)\n",
        "print(list(dict_score.items()))     # 리스트 형식으로 모든 키-값 반환(튜플로 묶여서)"
      ],
      "execution_count": null,
      "outputs": [
        {
          "output_type": "stream",
          "text": [
            "dict_items([('홍길동', 80), ('공유', 90), ('현빈', 100)])\n",
            "[('홍길동', 80), ('공유', 90), ('현빈', 100)]\n"
          ],
          "name": "stdout"
        }
      ]
    },
    {
      "cell_type": "code",
      "metadata": {
        "colab": {
          "base_uri": "https://localhost:8080/"
        },
        "id": "6976Sjv4wXoA",
        "outputId": "9a6e4b32-dee4-4595-ab1c-e4c4478965ee"
      },
      "source": [
        "# 데이터 모두 출력하기 1\n",
        "\n",
        "dict_score={\n",
        "    '홍길동':80,\n",
        "    '공유':90,\n",
        "    '현빈':100\n",
        "}\n",
        "for key in dict_score.keys():\n",
        "    print(key,dict_score[key])\n",
        "\n",
        "print('-'*60)\n",
        "# 데이터 모두 출력하기 2\n",
        "\n",
        "dict_score={\n",
        "    '홍길동':80,\n",
        "    '공유':90,\n",
        "    '현빈':100\n",
        "}\n",
        "for key,value in dict_score.items():\n",
        "    print(key,value)"
      ],
      "execution_count": null,
      "outputs": [
        {
          "output_type": "stream",
          "text": [
            "홍길동 80\n",
            "공유 90\n",
            "현빈 100\n",
            "------------------------------------------------------------\n",
            "홍길동 80\n",
            "공유 90\n",
            "현빈 100\n"
          ],
          "name": "stdout"
        }
      ]
    },
    {
      "cell_type": "code",
      "metadata": {
        "colab": {
          "base_uri": "https://localhost:8080/"
        },
        "id": "r7YITPZWw-8k",
        "outputId": "f71bbc25-985b-4aff-b113-56d37f9d254c"
      },
      "source": [
        "# 데이터 정렬하여 모두 출력하기\n",
        "# 데이터 모두 출력하기 1\n",
        "\n",
        "dict_score={\n",
        "    '홍길동':80,\n",
        "    '공유':90,\n",
        "    '현빈':100\n",
        "}\n",
        "# 딕셔너리의 키를 정렬하여 리스트로 받음\n",
        "sort_keys=sorted(dict_score.keys())\n",
        "print(sort_keys)\n",
        "\n",
        "# 정렬된 키 리스트 순서로 반복\n",
        "for key in sort_keys:\n",
        "    print(key,dict_score[key])"
      ],
      "execution_count": null,
      "outputs": [
        {
          "output_type": "stream",
          "text": [
            "['공유', '현빈', '홍길동']\n",
            "공유 90\n",
            "현빈 100\n",
            "홍길동 80\n"
          ],
          "name": "stdout"
        }
      ]
    },
    {
      "cell_type": "code",
      "metadata": {
        "colab": {
          "base_uri": "https://localhost:8080/"
        },
        "id": "Jx3dGw6gxxZ0",
        "outputId": "42f1524c-90c5-43ff-d4d3-869e821adc8f"
      },
      "source": [
        "# 데이터 모두 출력하기 2\n",
        "\n",
        "dict_score={\n",
        "    '홍길동':80,\n",
        "    '공유':90,\n",
        "    '현빈':100\n",
        "}\n",
        "\n",
        "# 딕셔너리의 키를 정렬하여 튜플(키,값)으로 받음\n",
        "sort_items=sorted(dict_score.items())\n",
        "print(sort_items)\n",
        "\n",
        "# 정렬된 키 리스트 순서로 반복\n",
        "for key,value in sort_items:\n",
        "    print(key,value)"
      ],
      "execution_count": null,
      "outputs": [
        {
          "output_type": "stream",
          "text": [
            "[('공유', 90), ('현빈', 100), ('홍길동', 80)]\n",
            "공유 90\n",
            "현빈 100\n",
            "홍길동 80\n"
          ],
          "name": "stdout"
        }
      ]
    },
    {
      "cell_type": "code",
      "metadata": {
        "colab": {
          "base_uri": "https://localhost:8080/"
        },
        "id": "yCFgVf1dyNar",
        "outputId": "536f5266-ad60-4f3e-dc15-2b44bd283591"
      },
      "source": [
        "# 요소개수 세기\n",
        "dict_score={\n",
        "    '홍길동':80,\n",
        "    '공유':90,\n",
        "    '현빈':100\n",
        "}\n",
        "\n",
        "len(dict_score)"
      ],
      "execution_count": null,
      "outputs": [
        {
          "output_type": "execute_result",
          "data": {
            "text/plain": [
              "3"
            ]
          },
          "metadata": {
            "tags": []
          },
          "execution_count": 73
        }
      ]
    },
    {
      "cell_type": "code",
      "metadata": {
        "colab": {
          "base_uri": "https://localhost:8080/"
        },
        "id": "X-Io_tq2yXKu",
        "outputId": "448657dc-50df-4bf4-f759-c4932431a9f5"
      },
      "source": [
        "# 마일리지 관리\n",
        "\n",
        "mile={'Kim':12000,'Lee':11000,'Han':3000,'Hong':5000,'Nam':18000}\n",
        "for key in mile.keys():\n",
        "    print(key,mile[key])\n",
        "\n",
        "print('-'*60)\n",
        "\n",
        "mile['Han']=5000\n",
        "mile['Jang']=7000\n",
        "print(mile)\n",
        "\n",
        "print('-'*60)\n",
        "print(max(list(mile.values())))\n"
      ],
      "execution_count": null,
      "outputs": [
        {
          "output_type": "stream",
          "text": [
            "Kim 12000\n",
            "Lee 11000\n",
            "Han 3000\n",
            "Hong 5000\n",
            "Nam 18000\n",
            "------------------------------------------------------------\n",
            "{'Kim': 12000, 'Lee': 11000, 'Han': 5000, 'Hong': 5000, 'Nam': 18000, 'Jang': 7000}\n",
            "------------------------------------------------------------\n",
            "18000\n"
          ],
          "name": "stdout"
        }
      ]
    },
    {
      "cell_type": "markdown",
      "metadata": {
        "id": "qUtaOKcrApD_"
      },
      "source": [
        "# 예제"
      ]
    },
    {
      "cell_type": "code",
      "metadata": {
        "colab": {
          "base_uri": "https://localhost:8080/"
        },
        "id": "HUYcqRAdzH00",
        "outputId": "81fdcf82-5922-42d5-8be4-a011fb9cf12f"
      },
      "source": [
        "# 마일리지 관리_다른 방법\n",
        "dic = {'kim':12000, 'lee':11000, 'han':3000, 'hong':5000, 'hwang':18000}\n",
        "dic['han'] = 5000\n",
        "dic['jang'] = 7000\n",
        "print(dic)\n",
        "value_max = max(dic.values())\n",
        "for key, value in dic.items():\n",
        "    if value == value_max:\n",
        "        print(key, value)"
      ],
      "execution_count": null,
      "outputs": [
        {
          "output_type": "stream",
          "text": [
            "{'kim': 12000, 'lee': 11000, 'han': 5000, 'hong': 5000, 'hwang': 18000, 'jang': 7000}\n",
            "hwang 18000\n"
          ],
          "name": "stdout"
        }
      ]
    },
    {
      "cell_type": "code",
      "metadata": {
        "colab": {
          "base_uri": "https://localhost:8080/"
        },
        "id": "kwZyuNAw2TEa",
        "outputId": "4ab448ab-f1a7-4a0b-f7b7-a5dd51a93728"
      },
      "source": [
        "# 단어장 만들기\n",
        "\n",
        "voca={}\n",
        "while True:\n",
        "    eng = input('eng: ')\n",
        "    if eng=='':\n",
        "        break\n",
        "    kor = input('kor: ')\n",
        "    voca[eng]=kor\n",
        "print(voca)\n",
        "\n",
        "score=0\n",
        "for s in voca.keys():\n",
        "    kor =input(s+':')\n",
        "    if kor == voca[s]:\n",
        "        score+=1\n",
        "\n",
        "print(f'맞은 개수/전체 단어수: {score} / {len(voca.values())}')"
      ],
      "execution_count": null,
      "outputs": [
        {
          "output_type": "stream",
          "text": [
            "eng: 11\n",
            "kor: 22\n",
            "eng: 33\n",
            "kor: 44\n",
            "eng: \n",
            "{'11': '22', '33': '44'}\n",
            "11:22\n",
            "33:33\n",
            "맞은 개수/전체 단어수: 1 / 2\n"
          ],
          "name": "stdout"
        }
      ]
    },
    {
      "cell_type": "code",
      "metadata": {
        "id": "pn4XWucT_bsa"
      },
      "source": [
        ""
      ],
      "execution_count": null,
      "outputs": []
    }
  ]
}