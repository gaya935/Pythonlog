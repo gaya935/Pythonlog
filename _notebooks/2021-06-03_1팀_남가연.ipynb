{
  "nbformat": 4,
  "nbformat_minor": 0,
  "metadata": {
    "colab": {
      "name": "2021-06-03_1팀_남가연.ipynb",
      "provenance": [],
      "authorship_tag": "ABX9TyMgAXWX7iiUskW7JgJ9giRH",
      "include_colab_link": true
    },
    "kernelspec": {
      "name": "python3",
      "display_name": "Python 3"
    },
    "language_info": {
      "name": "python"
    }
  },
  "cells": [
    {
      "cell_type": "markdown",
      "metadata": {
        "id": "view-in-github",
        "colab_type": "text"
      },
      "source": [
        "<a href=\"https://colab.research.google.com/github/gaya935/Pythonlogee/blob/master/_notebooks/2021-06-03_1%ED%8C%80_%EB%82%A8%EA%B0%80%EC%97%B0.ipynb\" target=\"_parent\"><img src=\"https://colab.research.google.com/assets/colab-badge.svg\" alt=\"Open In Colab\"/></a>"
      ]
    },
    {
      "cell_type": "code",
      "metadata": {
        "colab": {
          "base_uri": "https://localhost:8080/"
        },
        "id": "b_TRroWIB738",
        "outputId": "7856796f-8326-4ae7-a1e1-17abcb3751a7"
      },
      "source": [
        "# DT스쿨 최저 연령은?\n",
        "\n",
        "alist = {\n",
        "    '1팀':[25,39,29,27,22],\n",
        "    '2팀':[27,24,25,29,25],\n",
        "    '3팀':[25,26,25,23,23,28,27],\n",
        "    '4팀':[21,23,30],\n",
        "    '5팀':[26,41,24,31,21,34,27],\n",
        "    '6팀':[21,29,27,25,25]}\n",
        "age_li=[]\n",
        "\n",
        "for i,v in alist.items():\n",
        "    print(f'{i}의 최저연령은{min(v)} 최고연령은 {max(v)}')\n",
        "    age_li.extend(v)\n",
        "    # print(age_li)\n",
        "print(f'DT스쿨 최저연령은{min(age_li)} 최고연령은 {max(age_li)}')"
      ],
      "execution_count": null,
      "outputs": [
        {
          "output_type": "stream",
          "text": [
            "1팀의 최저연령은22 최고연령은 39\n",
            "2팀의 최저연령은24 최고연령은 29\n",
            "3팀의 최저연령은23 최고연령은 28\n",
            "4팀의 최저연령은21 최고연령은 30\n",
            "5팀의 최저연령은21 최고연령은 41\n",
            "6팀의 최저연령은21 최고연령은 29\n",
            "DT스쿨 최저연령은21 최고연령은 41\n"
          ],
          "name": "stdout"
        }
      ]
    },
    {
      "cell_type": "code",
      "metadata": {
        "colab": {
          "base_uri": "https://localhost:8080/"
        },
        "id": "DfdIYAoKGKj3",
        "outputId": "795c3215-36d0-4d2f-a0e9-742207487e56"
      },
      "source": [
        "# 우리팀 캐릭터 사전 만들기\n",
        "# 닉네임에 따른 사전을 만듭니다.(키값:닉네임, 값:취미, 체력, 신체연령, 정신연령)\n",
        "# 사전의 값은 리스트로 만듭니다.\n",
        "# 닉네임을 입력받고 닉네임과 값을 재미있게 구성하여 팀원 소개글을 출력하세요\n",
        "\n",
        "import random\n",
        "team_dic={'Zoey':['오토바이',50,30,30,'isfj'],\n",
        "          'Sunny':['독서',90,30,40,'infp'],\n",
        "          'Sophie':['음악감상',90,30,30,'isfj'],\n",
        "          'Alex':['창작',70,27,25,'intp'],\n",
        "          'Annie':['그림',50,30,30,'enfp']}\n",
        "nick=input('닉네임을 입력하세요: ')\n",
        "b_list=team_dic[nick]\n",
        "print(f'우리 {nick}님을 소개합니다. {nick}님은 {b_list[0]}을 좋아해요.')\n",
        "print(f'체력은 {b_list[1]}! {b_list[2]}세의 신체연령에 신기하게도 정신연령은 {b_list[3]}세!!')\n",
        "print(f'MBTI는 {b_list[4]}에요. 사랑스러운 {nick}님 이시네요')\n"
      ],
      "execution_count": null,
      "outputs": [
        {
          "output_type": "stream",
          "text": [
            "닉네임을 입력하세요: Sunny\n",
            "우리 Sunny님을 소개합니다. Sunny님은 독서을 좋아해요.\n",
            "체력은 90! 30세의 신체연령에 신기하게도 정신연령은 40세!!\n",
            "MBTI는 infp에요. 사랑스러운 Sunny님 이시네요\n"
          ],
          "name": "stdout"
        }
      ]
    },
    {
      "cell_type": "code",
      "metadata": {
        "colab": {
          "base_uri": "https://localhost:8080/"
        },
        "id": "85oN1FFnP56Y",
        "outputId": "2dfcd3e4-c3b0-4f96-a847-a618b843f47d"
      },
      "source": [
        "# 우리팀 캐릭터 사전 만들기 -random.choice 사용(서윤선 님)\n",
        "\n",
        "import random\n",
        "\n",
        "def c_open():\n",
        "\n",
        "    team_dic = {\n",
        "        'Sunny':['독서',90,30,40,'infp'], \n",
        "        'Zoey':['오토바이',50,30,30,'isfj'],\n",
        "        'Sophie':['음악감상',90,30,30,'isfj'],\n",
        "        'Alex':['창작',70,27,25,'INTP'],\n",
        "        'Annie':['그림',50,30,30,'enfp']}\n",
        "\n",
        "    c_list = list(team_dic.keys())\n",
        "    a = random.choice(c_list)\n",
        "    b_list = team_dic[a]\n",
        "\n",
        "    print(f'우리 {a}님을 소개합니다. {a}님은 {b_list[0]}를 좋아하고, MBTI유형은 {b_list[4]}입니다.')\n",
        "    print(f'체력은{b_list[1]}! {b_list[2]}세의 신체연력에 신기하게도 정신 연령은 {b_list[3]}세!!! ')\n",
        "    print(f'사랑스러운 {a}님 이시네요')\n",
        "\n",
        "c_open()"
      ],
      "execution_count": null,
      "outputs": [
        {
          "output_type": "stream",
          "text": [
            "우리 Zoey님을 소개합니다. Zoey님은 오토바이를 좋아하고, MBTI유형은 isfj입니다.\n",
            "체력은50! 30세의 신체연력에 신기하게도 정신 연령은 30세!!! \n",
            "사랑스러운 Zoey님 이시네요\n"
          ],
          "name": "stdout"
        }
      ]
    },
    {
      "cell_type": "code",
      "metadata": {
        "colab": {
          "base_uri": "https://localhost:8080/",
          "height": 35
        },
        "id": "dYol1SYQIVNZ",
        "outputId": "f5a3bbd6-c2f1-47cb-e0b0-7b7f2d9b23ad"
      },
      "source": [
        "# 문자열 나누기\n",
        "# 문자열을 일정한 규칙으로 잘라서 리스트로 만들어 주는 함수\n",
        "text = '문자열 나누기'\n",
        "li = text.split(sep=' ')\n",
        "li\n",
        "\n",
        "# '구분자'join(리스트)에 있는 요소 하나하나를 합쳐서 하나의 문자열로 바꾸어 반환 \n",
        "text2=' '.join(li)\n",
        "text2"
      ],
      "execution_count": null,
      "outputs": [
        {
          "output_type": "execute_result",
          "data": {
            "application/vnd.google.colaboratory.intrinsic+json": {
              "type": "string"
            },
            "text/plain": [
              "'문자열 나누기'"
            ]
          },
          "metadata": {
            "tags": []
          },
          "execution_count": 3
        }
      ]
    },
    {
      "cell_type": "code",
      "metadata": {
        "colab": {
          "base_uri": "https://localhost:8080/"
        },
        "id": "_DyxzBhTIiNv",
        "outputId": "9b2fd8f8-8205-4a2c-ff4d-a4b17fbabba2"
      },
      "source": [
        "# 딕셔너리 값 가져오기\n",
        "\n",
        "alist={\n",
        "    '키1':['값1','값2'],\n",
        "    '키2':['값3','깂4'],\n",
        "    '키3':['값5','값6'],\n",
        "    '키4':{'키':100}}\n",
        "\n",
        "print(list(alist['키1']))\n",
        "print(alist['키4']['키'])"
      ],
      "execution_count": null,
      "outputs": [
        {
          "output_type": "stream",
          "text": [
            "['값1', '값2']\n",
            "100\n"
          ],
          "name": "stdout"
        }
      ]
    },
    {
      "cell_type": "code",
      "metadata": {
        "id": "N_canfG-Spg7"
      },
      "source": [
        ""
      ],
      "execution_count": null,
      "outputs": []
    }
  ]
}