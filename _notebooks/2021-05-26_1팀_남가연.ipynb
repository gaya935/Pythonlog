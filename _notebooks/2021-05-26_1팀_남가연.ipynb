{
  "nbformat": 4,
  "nbformat_minor": 0,
  "metadata": {
    "colab": {
      "name": "2021-05-26_1팀_남가연.ipynb",
      "provenance": [],
      "authorship_tag": "ABX9TyMNzg+Y5ZKf20nAiEnxAWMX",
      "include_colab_link": true
    },
    "kernelspec": {
      "name": "python3",
      "display_name": "Python 3"
    },
    "language_info": {
      "name": "python"
    }
  },
  "cells": [
    {
      "cell_type": "markdown",
      "metadata": {
        "id": "view-in-github",
        "colab_type": "text"
      },
      "source": [
        "<a href=\"https://colab.research.google.com/github/gaya935/Pythonlogee/blob/master/_notebooks/2021-05-26_1%ED%8C%80_%EB%82%A8%EA%B0%80%EC%97%B0.ipynb\" target=\"_parent\"><img src=\"https://colab.research.google.com/assets/colab-badge.svg\" alt=\"Open In Colab\"/></a>"
      ]
    },
    {
      "cell_type": "code",
      "metadata": {
        "id": "J9tbRw2a4o3p"
      },
      "source": [
        "# list_name=[요소1,요소2,요소3,...,요소n]\n",
        "# 여러개의 데이터 값을 하나의 변수에 담을 수 있는 자료구조\n",
        "# 리스트안의 각 데이터를 '항목'또는 '요소'또는 item이라고 한다.\n",
        "# 대괄호[]안에 각 요소를 쉽표(,)로 구분하여 표현한다.\n",
        "# 리스트의 크기 = 리스트 요소의 갯수\n",
        "# 인덱스는 0부터 시작하고, 마지막요소의 인덱스는 '리스트의 크기 -1'이다."
      ],
      "execution_count": null,
      "outputs": []
    },
    {
      "cell_type": "code",
      "metadata": {
        "colab": {
          "base_uri": "https://localhost:8080/"
        },
        "id": "1FF4MUgq6vxa",
        "outputId": "104b6e07-3cd3-4349-af68-b610e2c3183c"
      },
      "source": [
        "mycalss=['넘버원','네카라쿠배삼파망']\n",
        "fruits=['사과','오렌지','포도','수박','바나나']\n",
        "\n",
        "# 리스트 안에는 어떠한 자료형도 포함시킬 수 있다.\n",
        "# 숫자, 문자열 뿐 아니라 변수, 다른리스트도 저장할 수 있다.\n",
        "# 하나의 리스트 안에 다양한 자료형을 혼합하여 포함시킬 수 있다.\n",
        "\n",
        "n1 = 100\n",
        "fruits = ['사과','딸기','바나나']\n",
        "mylist = [n1,fruits,20,30,'슈퍼맨',True,[1,2,3]]\n",
        "mylist"
      ],
      "execution_count": null,
      "outputs": [
        {
          "output_type": "execute_result",
          "data": {
            "text/plain": [
              "[100, ['사과', '딸기', '바나나'], 20, 30, '슈퍼맨', True, [1, 2, 3]]"
            ]
          },
          "metadata": {
            "tags": []
          },
          "execution_count": 2
        }
      ]
    },
    {
      "cell_type": "code",
      "metadata": {
        "colab": {
          "base_uri": "https://localhost:8080/"
        },
        "id": "9nXCRDQ68O-h",
        "outputId": "4c5d7212-0e6d-4fce-a0bf-2ebe190e0e0a"
      },
      "source": [
        "# 초기값이 있는 리스트 생성하기\n",
        "# 리스트명=[요소1,요소2,...,요소N]\n",
        "# 리스트명=list(range(시작값,끝값,간격))\n",
        "\n",
        "list1=[1,2,3,4,5]\n",
        "print(list1)\n",
        "\n",
        "list2=list(range(1,6))\n",
        "print(list2)"
      ],
      "execution_count": null,
      "outputs": [
        {
          "output_type": "stream",
          "text": [
            "[1, 2, 3, 4, 5]\n",
            "[1, 2, 3, 4, 5]\n"
          ],
          "name": "stdout"
        }
      ]
    },
    {
      "cell_type": "code",
      "metadata": {
        "id": "qMAzPmOB91MS"
      },
      "source": [
        "# 빈 리스트 생성하기\n",
        "list3=[]\n",
        "list4=list()"
      ],
      "execution_count": null,
      "outputs": []
    },
    {
      "cell_type": "code",
      "metadata": {
        "colab": {
          "base_uri": "https://localhost:8080/"
        },
        "id": "2gAnD0Sh98H9",
        "outputId": "5764da94-51c0-45db-dc2b-f0a8885ec641"
      },
      "source": [
        "# for문을 이용하여 리스트의 요소 출력하기\n",
        "fruits=['사과','오렌지','포도','수박','바나나']\n",
        "for fruit in fruits:     # for문을 사용해 리스트 안의 요소를 반복 출력하는 것.\n",
        "    print(fruit)"
      ],
      "execution_count": null,
      "outputs": [
        {
          "output_type": "stream",
          "text": [
            "사과\n",
            "오렌지\n",
            "포도\n",
            "수박\n",
            "바나나\n"
          ],
          "name": "stdout"
        }
      ]
    },
    {
      "cell_type": "code",
      "metadata": {
        "colab": {
          "base_uri": "https://localhost:8080/"
        },
        "id": "VtS6If5M-Lml",
        "outputId": "0d871ac3-b430-45e9-bbc3-18b4a695db9a"
      },
      "source": [
        "# 리스트 출력하기\n",
        "fruits=['사과','오렌지','포도','수박','바나나']\n",
        "for x in fruits:\n",
        "    print(type(x))\n",
        "    print(x)"
      ],
      "execution_count": null,
      "outputs": [
        {
          "output_type": "stream",
          "text": [
            "<class 'str'>\n",
            "사과\n",
            "<class 'str'>\n",
            "오렌지\n",
            "<class 'str'>\n",
            "포도\n",
            "<class 'str'>\n",
            "수박\n",
            "<class 'str'>\n",
            "바나나\n"
          ],
          "name": "stdout"
        }
      ]
    },
    {
      "cell_type": "code",
      "metadata": {
        "colab": {
          "base_uri": "https://localhost:8080/"
        },
        "id": "TMr9GBoDg6Lk",
        "outputId": "bbc9db2e-3554-4961-a83d-74b37642a093"
      },
      "source": [
        "fruits = ['사과','오렌지','포도','수박','바나나']\n",
        "for fruit in fruits:\n",
        "    print(fruit,end=' ') # end는 각 list 내 원소들의 끝부분을 말함.(한 줄로 출력하고 싶을 때)"
      ],
      "execution_count": null,
      "outputs": [
        {
          "output_type": "stream",
          "text": [
            "사과 오렌지 포도 수박 바나나 "
          ],
          "name": "stdout"
        }
      ]
    },
    {
      "cell_type": "code",
      "metadata": {
        "colab": {
          "base_uri": "https://localhost:8080/"
        },
        "id": "wWSKDW2v_oJl",
        "outputId": "81eb21dc-d565-4b59-902f-f9ccce5e27b0"
      },
      "source": [
        "# 리스트 요소 추출>인덱싱\n",
        "# 리스트명[index]\n",
        "# 음수 인덱스를 사용하여 리스트의 마지막 항목(-1)부터 접근할 수도 있다.\n",
        "\n",
        "fruits=['사과','오렌지','포도','수박','바나나']\n",
        "print(fruits[1],fruits[-3])\n",
        "\n",
        "fruits=['사과','오렌지','포도',['수박','바나나']]\n",
        "print(fruits[3])\n",
        "\n",
        "fruits=[['사과','오렌지'],'포도',['수박','바나나']]\n",
        "print(fruits[-2])"
      ],
      "execution_count": null,
      "outputs": [
        {
          "output_type": "stream",
          "text": [
            "오렌지 포도\n",
            "['수박', '바나나']\n",
            "포도\n"
          ],
          "name": "stdout"
        }
      ]
    },
    {
      "cell_type": "code",
      "metadata": {
        "colab": {
          "base_uri": "https://localhost:8080/"
        },
        "id": "dHottGkODxxl",
        "outputId": "e69f9046-ff6e-4cd6-d7d3-f2e458a1ca98"
      },
      "source": [
        "a=[1,2,3,4,5]\n",
        "a[2]+a[-3]"
      ],
      "execution_count": null,
      "outputs": [
        {
          "output_type": "execute_result",
          "data": {
            "text/plain": [
              "6"
            ]
          },
          "metadata": {
            "tags": []
          },
          "execution_count": 28
        }
      ]
    },
    {
      "cell_type": "code",
      "metadata": {
        "colab": {
          "base_uri": "https://localhost:8080/",
          "height": 35
        },
        "id": "wIAw6xUSFFCK",
        "outputId": "36fe1e9f-f2bd-442f-87ae-33348cc8f2d7"
      },
      "source": [
        "# 수박을 추출하려면?\n",
        "\n",
        "fruits=['사과','오렌지',['포도','수박','바나나']]\n",
        "fruits[2][1]"
      ],
      "execution_count": null,
      "outputs": [
        {
          "output_type": "execute_result",
          "data": {
            "application/vnd.google.colaboratory.intrinsic+json": {
              "type": "string"
            },
            "text/plain": [
              "'수박'"
            ]
          },
          "metadata": {
            "tags": []
          },
          "execution_count": 36
        }
      ]
    },
    {
      "cell_type": "code",
      "metadata": {
        "colab": {
          "base_uri": "https://localhost:8080/",
          "height": 35
        },
        "id": "uFqsOHokFik6",
        "outputId": "35345483-0e47-449b-b4e5-e2d6afbf8f73"
      },
      "source": [
        "a = [1,2,['a','b',['life','is']]]\n",
        "a[2][2][0]"
      ],
      "execution_count": null,
      "outputs": [
        {
          "output_type": "execute_result",
          "data": {
            "application/vnd.google.colaboratory.intrinsic+json": {
              "type": "string"
            },
            "text/plain": [
              "'life'"
            ]
          },
          "metadata": {
            "tags": []
          },
          "execution_count": 6
        }
      ]
    },
    {
      "cell_type": "code",
      "metadata": {
        "colab": {
          "base_uri": "https://localhost:8080/"
        },
        "id": "F1ZRcnAgGTuc",
        "outputId": "7356a53d-50d5-4d96-ce85-41bfc89b69b3"
      },
      "source": [
        "# 리스트 요소 추출>슬라이싱\n",
        "# 리스트명[시작인덱스:끝인덱스]\n",
        "# 단, 끝인덱스 요소는 포함하지 않음\n",
        "\n",
        "nums=[1,2,3,4,5,6,7,8,9,10]\n",
        "nums[-7:-2]"
      ],
      "execution_count": null,
      "outputs": [
        {
          "output_type": "execute_result",
          "data": {
            "text/plain": [
              "[4, 5, 6, 7, 8]"
            ]
          },
          "metadata": {
            "tags": []
          },
          "execution_count": 4
        }
      ]
    },
    {
      "cell_type": "code",
      "metadata": {
        "colab": {
          "base_uri": "https://localhost:8080/"
        },
        "id": "gY7WDmrPHxKh",
        "outputId": "0752c22b-ea31-477f-c940-46be1ec093ad"
      },
      "source": [
        "nums=list(range(1,11))\n",
        "\n",
        "# 시작인덱스 생략\n",
        "print(nums[:3])\n",
        "print(nums[0:3])\n",
        "\n",
        "# 끝인덱스 생략\n",
        "print(nums[3:])\n",
        "print(nums[3:10])\n",
        "print(nums[3:len(nums)])   # 리스트의 길이값 len\n",
        "\n",
        "# 시작끝 인덱스 모두 생략\n",
        "print(nums[:])\n",
        "print(nums)"
      ],
      "execution_count": null,
      "outputs": [
        {
          "output_type": "stream",
          "text": [
            "[1, 2, 3]\n",
            "[1, 2, 3]\n",
            "[4, 5, 6, 7, 8, 9, 10]\n",
            "[4, 5, 6, 7, 8, 9, 10]\n",
            "[4, 5, 6, 7, 8, 9, 10]\n",
            "[1, 2, 3, 4, 5, 6, 7, 8, 9, 10]\n",
            "[1, 2, 3, 4, 5, 6, 7, 8, 9, 10]\n"
          ],
          "name": "stdout"
        }
      ]
    },
    {
      "cell_type": "code",
      "metadata": {
        "colab": {
          "base_uri": "https://localhost:8080/"
        },
        "id": "bJqu6O8qIpzy",
        "outputId": "46f54825-9d2e-4c57-c302-d4ea42337af7"
      },
      "source": [
        "# 특정 간격으로 슬라이싱\n",
        "# 리스트명[시작인덱스:끝인덱스:간격]\n",
        "\n",
        "nums=[1,2,3,4,5,6,7,8,9,10]\n",
        "print(nums[1:9:2])\n",
        "\n",
        "# 역순으로 항목 추출하기\n",
        "# 리스트명[시작인덱스(뒤에서):끝인덱스(앞으로):간격(음수)]\n",
        "\n",
        "nums=[1,2,3,4,5,6,7,8,9,10]\n",
        "print(nums[::-2])"
      ],
      "execution_count": null,
      "outputs": [
        {
          "output_type": "stream",
          "text": [
            "[2, 4, 6, 8]\n",
            "[10, 8, 6, 4, 2]\n"
          ],
          "name": "stdout"
        }
      ]
    },
    {
      "cell_type": "code",
      "metadata": {
        "colab": {
          "base_uri": "https://localhost:8080/"
        },
        "id": "BMoC61jgJMwA",
        "outputId": "2df48770-6751-4560-9b4f-aa965d603de1"
      },
      "source": [
        "a=[1,2,3,['a','b','c'],4,5]\n",
        "print(a[2:5])\n",
        "print(a[-5:-3])\n",
        "print(a[3][:2])"
      ],
      "execution_count": null,
      "outputs": [
        {
          "output_type": "stream",
          "text": [
            "[3, ['a', 'b', 'c'], 4]\n",
            "[2, 3]\n",
            "['a', 'b']\n"
          ],
          "name": "stdout"
        }
      ]
    },
    {
      "cell_type": "code",
      "metadata": {
        "colab": {
          "base_uri": "https://localhost:8080/"
        },
        "id": "MqWgsWH6Lifg",
        "outputId": "3cd3da34-16a5-403b-f790-9042df270f0c"
      },
      "source": [
        "# 리스트 더하기\n",
        "\n",
        "a=[1,2,3]\n",
        "b=[4,5,6]\n",
        "(a+b)"
      ],
      "execution_count": null,
      "outputs": [
        {
          "output_type": "execute_result",
          "data": {
            "text/plain": [
              "[1, 2, 3, 4, 5, 6]"
            ]
          },
          "metadata": {
            "tags": []
          },
          "execution_count": 23
        }
      ]
    },
    {
      "cell_type": "code",
      "metadata": {
        "colab": {
          "base_uri": "https://localhost:8080/"
        },
        "id": "KS53bD3fMdvX",
        "outputId": "da2c98c5-85d5-451a-f5b3-dcc65ac7221e"
      },
      "source": [
        "# 리스트 곱하기\n",
        "# 요소값이 여러번 반복된 새로운 리스트를 만든다\n",
        "\n",
        "a=[1,2,3]\n",
        "b=a*3\n",
        "print(b)"
      ],
      "execution_count": null,
      "outputs": [
        {
          "output_type": "stream",
          "text": [
            "[1, 2, 3, 1, 2, 3, 1, 2, 3]\n"
          ],
          "name": "stdout"
        }
      ]
    },
    {
      "cell_type": "code",
      "metadata": {
        "colab": {
          "base_uri": "https://localhost:8080/"
        },
        "id": "jz2KcKXDMoGG",
        "outputId": "bec6f797-f2cb-48e2-c878-d16e08fb7e18"
      },
      "source": [
        "# 리스트 크기(길이)구하기\n",
        "# len(리스트명)  # 반복문 쓸때 사용\n",
        "\n",
        "fruits=['사과','오렌지','포도','수박','바나나']\n",
        "len(fruits)"
      ],
      "execution_count": null,
      "outputs": [
        {
          "output_type": "execute_result",
          "data": {
            "text/plain": [
              "5"
            ]
          },
          "metadata": {
            "tags": []
          },
          "execution_count": 29
        }
      ]
    },
    {
      "cell_type": "code",
      "metadata": {
        "colab": {
          "base_uri": "https://localhost:8080/"
        },
        "id": "qM8hu2bKNMNX",
        "outputId": "43fe0f5a-4e24-49da-ad55-cfd6dc15847b"
      },
      "source": [
        "# 리스트 요소값 변경하기\n",
        "# 지정한 인덱스의 요소값을 변경한다.\n",
        "# 리스트명[index]=item\n",
        "\n",
        "fruits=['사과','오렌지','포도','수박','바나나']\n",
        "fruits[1]='망고'\n",
        "print(fruits)"
      ],
      "execution_count": null,
      "outputs": [
        {
          "output_type": "execute_result",
          "data": {
            "text/plain": [
              "['사과', '망고', '포도', '수박', '바나나']"
            ]
          },
          "metadata": {
            "tags": []
          },
          "execution_count": 30
        }
      ]
    },
    {
      "cell_type": "code",
      "metadata": {
        "colab": {
          "base_uri": "https://localhost:8080/",
          "height": 226
        },
        "id": "R2iPRNo7Nm1E",
        "outputId": "fcf33313-6011-48f6-a9df-17687c4cdbdf"
      },
      "source": [
        "# 인덱스에 변수나 수식을 사용할 수 있다.\n",
        "# 인덱스 범위를 초과하면 안된다.(len값으로 길이 확인 후 변경)\n",
        "\n",
        "fruits=['사과','오렌지','포도','수박','바나나']\n",
        "k=1\n",
        "fruits[k+2]='망고'\n",
        "print(fruits)\n",
        "\n",
        "fruits[5]='망고'"
      ],
      "execution_count": null,
      "outputs": [
        {
          "output_type": "stream",
          "text": [
            "['사과', '오렌지', '포도', '망고', '바나나']\n"
          ],
          "name": "stdout"
        },
        {
          "output_type": "error",
          "ename": "IndexError",
          "evalue": "ignored",
          "traceback": [
            "\u001b[0;31m---------------------------------------------------------------------------\u001b[0m",
            "\u001b[0;31mIndexError\u001b[0m                                Traceback (most recent call last)",
            "\u001b[0;32m<ipython-input-33-a3e9b1d09fd2>\u001b[0m in \u001b[0;36m<module>\u001b[0;34m()\u001b[0m\n\u001b[1;32m      7\u001b[0m \u001b[0mprint\u001b[0m\u001b[0;34m(\u001b[0m\u001b[0mfruits\u001b[0m\u001b[0;34m)\u001b[0m\u001b[0;34m\u001b[0m\u001b[0;34m\u001b[0m\u001b[0m\n\u001b[1;32m      8\u001b[0m \u001b[0;34m\u001b[0m\u001b[0m\n\u001b[0;32m----> 9\u001b[0;31m \u001b[0mfruits\u001b[0m\u001b[0;34m[\u001b[0m\u001b[0;36m5\u001b[0m\u001b[0;34m]\u001b[0m\u001b[0;34m=\u001b[0m\u001b[0;34m'망고'\u001b[0m\u001b[0;34m\u001b[0m\u001b[0;34m\u001b[0m\u001b[0m\n\u001b[0m",
            "\u001b[0;31mIndexError\u001b[0m: list assignment index out of range"
          ]
        }
      ]
    },
    {
      "cell_type": "code",
      "metadata": {
        "colab": {
          "base_uri": "https://localhost:8080/"
        },
        "id": "naiRHM70NuKV",
        "outputId": "8260a41f-46aa-481f-fb5b-735302c0018e"
      },
      "source": [
        "# 슬라이싱으로 여러 개의 항목을 한번에 변경하기\n",
        "# 리스트명[시작인덱스:끝인덱스]=[item1,item2,...,itemN]\n",
        "\n",
        "# 여러개의 항목 변경 - 슬라이싱 위치에 추가\n",
        "fruits=['사과','오렌지','포도','수박','바나나']\n",
        "fruits[1:2]=['수박','망고','키위']\n",
        "print(fruits)\n",
        "\n",
        "# 여러개의 항목 변경 - 슬라이싱 기호 사용하지 않으면 리스트 형태로 추가\n",
        "fruits=['사과','오렌지','포도','수박','바나나']\n",
        "fruits[1]=['수박','망고','키위']\n",
        "print(fruits)"
      ],
      "execution_count": null,
      "outputs": [
        {
          "output_type": "stream",
          "text": [
            "['사과', '수박', '망고', '키위', '포도', '수박', '바나나']\n",
            "['사과', ['수박', '망고', '키위'], '포도', '수박', '바나나']\n"
          ],
          "name": "stdout"
        }
      ]
    },
    {
      "cell_type": "code",
      "metadata": {
        "colab": {
          "base_uri": "https://localhost:8080/"
        },
        "id": "3mq2jKn5SFa-",
        "outputId": "2aeb90fa-0491-4438-8cb5-bb531d0adb5f"
      },
      "source": [
        "# 리스트 요소 삭제하기\n",
        "# del 리스트명[index] : 지정한 인덱스의 항목을 삭제한다. 위치 또는 범위를 지정 삭제 (속도가 가장 빠름)\n",
        "# 리스트명.pop() : 지정한 위치 값을 삭제하고 삭제한 값 취득\n",
        "# 리스트명.remove(요소) : 지정한 요소값과 같은 값을 검색한 후 처음 값을 삭제한다. 삭제하고자 하는 요소의 인덱스를 알 필요가 없다.\n",
        "# clear() : 모든 요소 삭제\n",
        "\n",
        "fruits=['사과','오렌지','포도','수박','바나나']\n",
        "del fruits[3]\n",
        "print(fruits)\n",
        "\n",
        "fruits=['사과','오렌지','포도','수박','바나나']\n",
        "del fruits[3:5]\n",
        "print(fruits)"
      ],
      "execution_count": null,
      "outputs": [
        {
          "output_type": "stream",
          "text": [
            "['사과', '오렌지', '포도', '바나나']\n",
            "['사과', '오렌지', '포도']\n"
          ],
          "name": "stdout"
        }
      ]
    },
    {
      "cell_type": "code",
      "metadata": {
        "colab": {
          "base_uri": "https://localhost:8080/"
        },
        "id": "zMA9HrDQVGJ8",
        "outputId": "e9cdf8d7-1e01-47f5-f073-0b1f0698d1c5"
      },
      "source": [
        "fruits=['사과','오렌지','포도','수박','바나나']\n",
        "last_fruit=fruits.pop()\n",
        "print(last_fruit)    # 마지막 요소 반환\n",
        "print(fruits)"
      ],
      "execution_count": null,
      "outputs": [
        {
          "output_type": "stream",
          "text": [
            "바나나\n",
            "['사과', '오렌지', '포도', '수박']\n"
          ],
          "name": "stdout"
        }
      ]
    },
    {
      "cell_type": "code",
      "metadata": {
        "colab": {
          "base_uri": "https://localhost:8080/"
        },
        "id": "_4i3xWH3VtxN",
        "outputId": "b93e5099-8bf7-4e5e-9e83-709642071d5b"
      },
      "source": [
        "fruits=['사과','오렌지','포도','수박','바나나']\n",
        "fruits.remove('바나나')\n",
        "print(fruits)\n",
        "\n",
        "# 해당 요소가 여러개인 경우 첫번째 만나는 요소만 삭제한다.\n",
        "fruits=['사과','오렌지','바나나','포도','수박','바나나']\n",
        "fruits.remove('바나나')\n",
        "print(fruits)"
      ],
      "execution_count": null,
      "outputs": [
        {
          "output_type": "stream",
          "text": [
            "['사과', '오렌지', '포도', '수박']\n",
            "['사과', '오렌지', '포도', '수박', '바나나']\n"
          ],
          "name": "stdout"
        }
      ]
    },
    {
      "cell_type": "code",
      "metadata": {
        "id": "--25jhyfYfo6"
      },
      "source": [
        "fruits=['사과','오렌지','바나나','포도','수박','바나나']\n",
        "바나나의 인덱스를 출력한 후\n",
        "그 인덱스를 삭제하면\n",
        "둘다 삭제 가능\n",
        "\n",
        "인덱스 추출 어떻게..?"
      ],
      "execution_count": null,
      "outputs": []
    },
    {
      "cell_type": "code",
      "metadata": {
        "colab": {
          "base_uri": "https://localhost:8080/"
        },
        "id": "HcavWOa4ZdGc",
        "outputId": "87ea88cc-16d4-41ff-ea1c-bea55d5af159"
      },
      "source": [
        "fruits=['사과','오렌지','바나나','포도','수박','바나나']\n",
        "pop_a = fruits.pop(2)\n",
        "print(pop_a)\n",
        "print(fruits)\n"
      ],
      "execution_count": null,
      "outputs": [
        {
          "output_type": "stream",
          "text": [
            "바나나\n",
            "['사과', '오렌지', '포도', '수박', '바나나']\n"
          ],
          "name": "stdout"
        }
      ]
    },
    {
      "cell_type": "code",
      "metadata": {
        "colab": {
          "base_uri": "https://localhost:8080/",
          "height": 226
        },
        "id": "Zhk3KMEgZeuQ",
        "outputId": "09452e2d-0ad6-4762-fc66-5e0464ecce77"
      },
      "source": [
        "# 해당 요소가 리스트에 없으면 에러가 발생한다.\n",
        "fruits=['사과','오렌지','바나나','포도','수박','바나나']\n",
        "fruits.remove('망고')\n",
        "prints(fruits)"
      ],
      "execution_count": null,
      "outputs": [
        {
          "output_type": "error",
          "ename": "ValueError",
          "evalue": "ignored",
          "traceback": [
            "\u001b[0;31m---------------------------------------------------------------------------\u001b[0m",
            "\u001b[0;31mValueError\u001b[0m                                Traceback (most recent call last)",
            "\u001b[0;32m<ipython-input-50-47552e0c5f13>\u001b[0m in \u001b[0;36m<module>\u001b[0;34m()\u001b[0m\n\u001b[1;32m      1\u001b[0m \u001b[0mfruits\u001b[0m\u001b[0;34m=\u001b[0m\u001b[0;34m[\u001b[0m\u001b[0;34m'사과'\u001b[0m\u001b[0;34m,\u001b[0m\u001b[0;34m'오렌지'\u001b[0m\u001b[0;34m,\u001b[0m\u001b[0;34m'바나나'\u001b[0m\u001b[0;34m,\u001b[0m\u001b[0;34m'포도'\u001b[0m\u001b[0;34m,\u001b[0m\u001b[0;34m'수박'\u001b[0m\u001b[0;34m,\u001b[0m\u001b[0;34m'바나나'\u001b[0m\u001b[0;34m]\u001b[0m\u001b[0;34m\u001b[0m\u001b[0;34m\u001b[0m\u001b[0m\n\u001b[0;32m----> 2\u001b[0;31m \u001b[0mfruits\u001b[0m\u001b[0;34m.\u001b[0m\u001b[0mremove\u001b[0m\u001b[0;34m(\u001b[0m\u001b[0;34m'망고'\u001b[0m\u001b[0;34m)\u001b[0m\u001b[0;34m\u001b[0m\u001b[0;34m\u001b[0m\u001b[0m\n\u001b[0m\u001b[1;32m      3\u001b[0m \u001b[0mprints\u001b[0m\u001b[0;34m(\u001b[0m\u001b[0mfruits\u001b[0m\u001b[0;34m)\u001b[0m\u001b[0;34m\u001b[0m\u001b[0;34m\u001b[0m\u001b[0m\n\u001b[1;32m      4\u001b[0m \u001b[0;34m\u001b[0m\u001b[0m\n",
            "\u001b[0;31mValueError\u001b[0m: list.remove(x): x not in list"
          ]
        }
      ]
    },
    {
      "cell_type": "code",
      "metadata": {
        "colab": {
          "base_uri": "https://localhost:8080/"
        },
        "id": "2WJrKNl4hQx8",
        "outputId": "72602cf3-7eb5-40ad-c508-f1226b73b383"
      },
      "source": [
        "# if로 검색 후 remove실행\n",
        "fruits=['사과','오렌지','바나나','포도','수박','바나나']\n",
        "if '망고' in fruits:\n",
        "    fruits.remove('바나나')\n",
        "fruits"
      ],
      "execution_count": null,
      "outputs": [
        {
          "output_type": "execute_result",
          "data": {
            "text/plain": [
              "['사과', '오렌지', '바나나', '포도', '수박', '바나나']"
            ]
          },
          "metadata": {
            "tags": []
          },
          "execution_count": 61
        }
      ]
    },
    {
      "cell_type": "code",
      "metadata": {
        "colab": {
          "base_uri": "https://localhost:8080/"
        },
        "id": "DFAgYUH-hb7l",
        "outputId": "b7536921-39b2-431c-fad4-77f88690a6a2"
      },
      "source": [
        "# 리스트에 요소 추가\n",
        "# 리스트명.append(요소)\n",
        "\n",
        "fruits=['사과','오렌지','바나나','포도','수박','바나나']\n",
        "fruits.append('복숭아')\n",
        "fruits.append('파인애플')\n",
        "fruits.append('배')\n",
        "fruits.append('토마토')\n",
        "fruits"
      ],
      "execution_count": null,
      "outputs": [
        {
          "output_type": "execute_result",
          "data": {
            "text/plain": [
              "['사과', '오렌지', '바나나', '포도', '수박', '바나나', '복숭아', '파인애플', '배', '토마토']"
            ]
          },
          "metadata": {
            "tags": []
          },
          "execution_count": 63
        }
      ]
    },
    {
      "cell_type": "code",
      "metadata": {
        "colab": {
          "base_uri": "https://localhost:8080/"
        },
        "id": "lpOLYr0Si1LH",
        "outputId": "f1f16f64-e9df-4043-8286-4a79c3cc8a26"
      },
      "source": [
        "member=[]\n",
        "number=int(input('입력할 명수: '))\n",
        "for a in range(number):\n",
        "    member.append(input('이름을 입력하세요: '))\n",
        "print(member)\n"
      ],
      "execution_count": null,
      "outputs": [
        {
          "output_type": "stream",
          "text": [
            "입력할 명수: 5\n",
            "이름을 입력하세요: 남\n",
            "이름을 입력하세요: 장\n",
            "이름을 입력하세요: 산\n",
            "이름을 입력하세요: 정\n",
            "이름을 입력하세요: 김\n",
            "['남', '장', '산', '정', '김']\n"
          ],
          "name": "stdout"
        }
      ]
    },
    {
      "cell_type": "code",
      "metadata": {
        "colab": {
          "base_uri": "https://localhost:8080/"
        },
        "id": "U7TKo_tJjas9",
        "outputId": "3afb8c70-2e0c-4656-e129-810091403274"
      },
      "source": [
        "# 리스트에 요소 삽입\n",
        "# 리스트명.insert(인덱스,요소)\n",
        "\n",
        "fruits=['사과','오렌지','바나나','포도','수박','바나나']\n",
        "fruits.insert(2,'망고')\n",
        "fruits"
      ],
      "execution_count": null,
      "outputs": [
        {
          "output_type": "execute_result",
          "data": {
            "text/plain": [
              "['사과', '오렌지', '망고딸기', '바나나', '포도', '수박', '바나나']"
            ]
          },
          "metadata": {
            "tags": []
          },
          "execution_count": 70
        }
      ]
    },
    {
      "cell_type": "code",
      "metadata": {
        "colab": {
          "base_uri": "https://localhost:8080/"
        },
        "id": "abVGG8RWjq78",
        "outputId": "f6e0d107-3e31-4284-b835-ff7b967357ac"
      },
      "source": [
        "# 리스트에 여러 요소 추가\n",
        "# 리스트명.extend(리스트)\n",
        "\n",
        "fruits=['사과','오렌지','바나나','포도','수박','바나나']\n",
        "fruits.extend(['망고','복숭아'])\n",
        "fruits"
      ],
      "execution_count": null,
      "outputs": [
        {
          "output_type": "execute_result",
          "data": {
            "text/plain": [
              "['사과', '오렌지', '바나나', '포도', '수박', '바나나', '망고', '복숭아']"
            ]
          },
          "metadata": {
            "tags": []
          },
          "execution_count": 75
        }
      ]
    },
    {
      "cell_type": "code",
      "metadata": {
        "colab": {
          "base_uri": "https://localhost:8080/"
        },
        "id": "m_GU2f2fkfSw",
        "outputId": "ea9971d2-4551-457b-b8a7-cd1c1e64de25"
      },
      "source": [
        "# 요소의 위치 찾기\n",
        "# 리스트명.index(요소)\n",
        "\n",
        "fruits=['사과','오렌지','바나나','포도','수박','바나나']\n",
        "fruits.index('포도')\n",
        "\n",
        "# 리스트에 요소가 존재하는지 검사 후 인덱스 찾기\n",
        "fruits=['사과','오렌지','바나나','포도','수박','바나나']\n",
        "if '사과' in fruits:\n",
        "    print(fruits.index('사과'))\n",
        "else:\n",
        "    print('해당 요소가 존재하지 않음')"
      ],
      "execution_count": null,
      "outputs": [
        {
          "output_type": "stream",
          "text": [
            "0\n"
          ],
          "name": "stdout"
        }
      ]
    },
    {
      "cell_type": "code",
      "metadata": {
        "colab": {
          "base_uri": "https://localhost:8080/"
        },
        "id": "487yJ9GymYZP",
        "outputId": "4059fa8d-fa71-4bd3-f144-f03752eae38c"
      },
      "source": [
        "# 멤버 연산자 in, not in\n",
        "\n",
        "print(1 in (1,2,3,4,))\n",
        "print(5 in [1,2,3,4])\n",
        "print('p' in 'python')\n",
        "print('a' in 'python')"
      ],
      "execution_count": null,
      "outputs": [
        {
          "output_type": "stream",
          "text": [
            "True\n",
            "False\n",
            "True\n",
            "False\n"
          ],
          "name": "stdout"
        }
      ]
    },
    {
      "cell_type": "code",
      "metadata": {
        "colab": {
          "base_uri": "https://localhost:8080/"
        },
        "id": "bvQxWS-Wn5jF",
        "outputId": "ae62bacf-90cc-4292-fbbe-38c426ba6310"
      },
      "source": [
        "print(1 not in (1,2,3,4,))\n",
        "print(5 not in [1,2,3,4])\n",
        "print('p' not in 'python')\n",
        "print('a' not in 'python')"
      ],
      "execution_count": null,
      "outputs": [
        {
          "output_type": "stream",
          "text": [
            "False\n",
            "True\n",
            "False\n",
            "True\n"
          ],
          "name": "stdout"
        }
      ]
    },
    {
      "cell_type": "code",
      "metadata": {
        "colab": {
          "base_uri": "https://localhost:8080/"
        },
        "id": "p95wh4ItoOpJ",
        "outputId": "d3a4dfcc-a08c-4333-882f-4b35890a6eb1"
      },
      "source": [
        "# 리스트에 요소가 존재하는지 검사 후 인덱스 찾기\n",
        "\n",
        "fruits=['사과','오렌지','바나나','포도','수박','바나나']\n",
        "fruit_name=input('과일이름: ')\n",
        "if fruit_name in fruits:\n",
        "    print(fruits.index(fruit_name))\n",
        "else:\n",
        "    print(f'{fruit_name} 내가 다 먹었지롱')"
      ],
      "execution_count": null,
      "outputs": [
        {
          "output_type": "stream",
          "text": [
            "과일이름: 귤\n",
            "귤 내가 다 먹었지롱\n"
          ],
          "name": "stdout"
        }
      ]
    },
    {
      "cell_type": "code",
      "metadata": {
        "colab": {
          "base_uri": "https://localhost:8080/"
        },
        "id": "fwKJ69Esophn",
        "outputId": "d10c7c33-bdb0-4b7a-b1af-35e433caa4cb"
      },
      "source": [
        "# 특정 요소의 개수 추출\n",
        "# 리스트명.count(요소)\n",
        "\n",
        "fruits=['사과','오렌지','바나나','포도','수박','바나나']\n",
        "fruits.count('바나나')"
      ],
      "execution_count": null,
      "outputs": [
        {
          "output_type": "execute_result",
          "data": {
            "text/plain": [
              "2"
            ]
          },
          "metadata": {
            "tags": []
          },
          "execution_count": 101
        }
      ]
    },
    {
      "cell_type": "code",
      "metadata": {
        "colab": {
          "base_uri": "https://localhost:8080/"
        },
        "id": "4SQSvjTephBj",
        "outputId": "18821f9d-23fb-4a21-dc4e-5bd233d31ee3"
      },
      "source": [
        "fruits=['사과','오렌지','바나나','포도','수박','바나나']\n",
        "fruit_name=input('과일이름: ')\n",
        "if fruit_name in fruits:\n",
        "    print(fruits.count(fruit_name))\n",
        "else:\n",
        "    print(f'{fruit_name} 내가 다 먹었지롱')"
      ],
      "execution_count": null,
      "outputs": [
        {
          "output_type": "stream",
          "text": [
            "과일이름: 귤\n",
            "귤 내가 다 먹었지롱\n"
          ],
          "name": "stdout"
        }
      ]
    },
    {
      "cell_type": "code",
      "metadata": {
        "colab": {
          "base_uri": "https://localhost:8080/"
        },
        "id": "30wL_Gvzpla5",
        "outputId": "1c88610c-6928-40fa-e402-aa21b6458ad1"
      },
      "source": [
        "# 리스트 정렬\n",
        "# 원본 정렬 - 오름차순: 리스트명.sort(), 내림차순: 리스트명.sort(reverse=True)\n",
        "# 원본은 그대로 두고 정렬된 새로운 리스트 반환\n",
        "# 오름차순: sorted(리스트명), 내림차순: sorted(리스트명,reverse=True)\n",
        "\n",
        "fruits=['사과','오렌지','바나나','포도','수박','바나나']\n",
        "fruits.sort()\n",
        "print(fruits)\n",
        "\n",
        "fruits=['사과','오렌지','바나나','포도','수박','바나나']\n",
        "sor_fruits=sorted(fruits,reverse=True)\n",
        "print('원본:',fruits)\n",
        "print('정렬:',sor_fruits)"
      ],
      "execution_count": null,
      "outputs": [
        {
          "output_type": "stream",
          "text": [
            "['바나나', '바나나', '사과', '수박', '오렌지', '포도']\n",
            "원본: ['사과', '오렌지', '바나나', '포도', '수박', '바나나']\n",
            "정렬: ['포도', '오렌지', '수박', '사과', '바나나', '바나나']\n"
          ],
          "name": "stdout"
        }
      ]
    },
    {
      "cell_type": "code",
      "metadata": {
        "colab": {
          "base_uri": "https://localhost:8080/"
        },
        "id": "fV4iIvfxt6WM",
        "outputId": "46467e92-7797-4e1d-c173-ab2f7c97093e"
      },
      "source": [
        "# 리스트 뒤집기\n",
        "\n",
        "fruits=['사과','오렌지','바나나','포도','수박','바나나']\n",
        "fruits.reverse()\n",
        "print(fruits)"
      ],
      "execution_count": null,
      "outputs": [
        {
          "output_type": "stream",
          "text": [
            "['바나나', '수박', '포도', '바나나', '오렌지', '사과']\n"
          ],
          "name": "stdout"
        }
      ]
    },
    {
      "cell_type": "code",
      "metadata": {
        "colab": {
          "base_uri": "https://localhost:8080/"
        },
        "id": "cEbmq7uOuuhP",
        "outputId": "d075d964-f9b1-4f46-b60d-49a7ce18daa0"
      },
      "source": [
        "# 리스트에서 랜덤 항목 추출하기\n",
        "\n",
        "import random\n",
        "wise_saying = []\n",
        "wise_saying.append('미래는 현재 우리가 무엇을 하고 있는가에 달려있다. - 마히트마 간디')\n",
        "wise_saying.append('교육은 세상을 바꿀 수 있는 가장 강력힌 무기다 - 넬슨 만델리')\n",
        "wise_saying.append('성공하기 위한 가장 확실한 방법은 한번 더 시도해 보는 것이다 - 토마스에디슨')\n",
        "wise_saying.append('가장 불만에 가득찬 고객은 가장 위대한 배움의 원천이다 _ 빌 게이츠')\n",
        "wise_saying.append('영원히 살 것처럼 꿈꾸고 오믈 죽을 것처럼 살아라 - 제임스딘')\n",
        "wise_saying.append('경쟁우위가 없다면 경쟁하지 마라 - 잭윌치')\n",
        "wise_saying.append('삶에 실수는 없고, 배움만이 있을 뿐이다. - 지아드 압델 누어')\n",
        "wise_saying.append('어제와 똑같은 삶을 살면서 다른 미래를 기대하는 것은 정신병의 초기증세이다 -아인슈타인')\n",
        "wise_saying.append('문제점을 찾지 말고 해결책을 찾으라 - 헨리포드')\n",
        "wise_saying.append('실수를 해보지 않은 사람은 한번도 새로운 일을 시도해보지 않았던 사람이다 -아인슈타인')\n",
        "print(random.choice(wise_saying))\n",
        "print(random.sample(wise_saying,2))\n"
      ],
      "execution_count": null,
      "outputs": [
        {
          "output_type": "stream",
          "text": [
            "문제점을 찾지 말고 해결책을 찾으라 - 헨리포드\n",
            "['미래는 현재 우리가 무엇을 하고 있는가에 달려있다. - 마히트마 간디', '삶에 실수는 없고, 배움만이 있을 뿐이다. - 지아드 압델 누어']\n"
          ],
          "name": "stdout"
        }
      ]
    },
    {
      "cell_type": "code",
      "metadata": {
        "colab": {
          "base_uri": "https://localhost:8080/"
        },
        "id": "AI2KNqhdwUrG",
        "outputId": "bb4dadf4-edc9-48b6-ee18-0a3218ab62a1"
      },
      "source": [
        "# 리스트 합계, 최대값, 최소값 구하기\n",
        "\n",
        "a=[1,2,3,4,5]\n",
        "b=['a','b','c','d','e']\n",
        "c=['상추','가지','배추','오이','당근']\n",
        "\n",
        "print(sum(a))\n",
        "print(max(b))\n",
        "print(min(c))"
      ],
      "execution_count": null,
      "outputs": [
        {
          "output_type": "stream",
          "text": [
            "15\n",
            "e\n",
            "가지\n"
          ],
          "name": "stdout"
        }
      ]
    },
    {
      "cell_type": "code",
      "metadata": {
        "colab": {
          "base_uri": "https://localhost:8080/"
        },
        "id": "SbbFzve5yW-u",
        "outputId": "82a9caca-21eb-4391-edb2-a10e60c37f55"
      },
      "source": [
        "# 사용자로부터 5개의 숫자를 입력받아 리스트에 저장하고 숫자들의 합계와 평균을 계산하여 출력하는 프로그랩 작성\n",
        "\n",
        "num=[]\n",
        "for a in range(5):\n",
        "    num.append(int(input('숫자를 입력하세요: ')))\n",
        "print(num)\n",
        "print('-'*50)\n",
        "print('합계는',sum(num),'평균은',sum(num)/len(num),'입니다.')\n"
      ],
      "execution_count": null,
      "outputs": [
        {
          "output_type": "stream",
          "text": [
            "숫자를 입력하세요: 5\n",
            "숫자를 입력하세요: 4\n",
            "숫자를 입력하세요: 8\n",
            "숫자를 입력하세요: 9\n",
            "숫자를 입력하세요: 1\n",
            "[5, 4, 8, 9, 1]\n",
            "--------------------------------------------------\n",
            "합계는 27 평균은 5.4 입니다.\n"
          ],
          "name": "stdout"
        }
      ]
    },
    {
      "cell_type": "code",
      "metadata": {
        "id": "_TNamjoO1CGm",
        "colab": {
          "base_uri": "https://localhost:8080/",
          "height": 136
        },
        "outputId": "42a736a6-ef0b-4dc9-ccd7-a473bd75e506"
      },
      "source": [
        "num_list=[]\n",
        "for i in range(5):\n",
        "    number=int(input('숫자:'))\n",
        "    num_list.append(numner)\n",
        "if "
      ],
      "execution_count": null,
      "outputs": [
        {
          "output_type": "error",
          "ename": "SyntaxError",
          "evalue": "ignored",
          "traceback": [
            "\u001b[0;36m  File \u001b[0;32m\"<ipython-input-4-92397b6a7af1>\"\u001b[0;36m, line \u001b[0;32m5\u001b[0m\n\u001b[0;31m    if\u001b[0m\n\u001b[0m       ^\u001b[0m\n\u001b[0;31mSyntaxError\u001b[0m\u001b[0;31m:\u001b[0m invalid syntax\n"
          ]
        }
      ]
    },
    {
      "cell_type": "code",
      "metadata": {
        "id": "X1PpGW4DkXEf"
      },
      "source": [
        ""
      ],
      "execution_count": null,
      "outputs": []
    }
  ]
}