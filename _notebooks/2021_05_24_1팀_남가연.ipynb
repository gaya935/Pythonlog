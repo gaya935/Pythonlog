{
  "nbformat": 4,
  "nbformat_minor": 0,
  "metadata": {
    "colab": {
      "name": "2021-05-24_1팀_남가연.ipynb",
      "provenance": [],
      "collapsed_sections": [],
      "include_colab_link": true
    },
    "kernelspec": {
      "name": "python3",
      "display_name": "Python 3"
    },
    "language_info": {
      "name": "python"
    }
  },
  "cells": [
    {
      "cell_type": "markdown",
      "metadata": {
        "id": "view-in-github",
        "colab_type": "text"
      },
      "source": [
        "<a href=\"https://colab.research.google.com/github/gaya935/Pythonlogee/blob/master/_notebooks/2021_05_24_1%ED%8C%80_%EB%82%A8%EA%B0%80%EC%97%B0.ipynb\" target=\"_parent\"><img src=\"https://colab.research.google.com/assets/colab-badge.svg\" alt=\"Open In Colab\"/></a>"
      ]
    },
    {
      "cell_type": "markdown",
      "metadata": {
        "id": "fQnTqE12fO8a"
      },
      "source": [
        "# 기본 에러문구"
      ]
    },
    {
      "cell_type": "code",
      "metadata": {
        "colab": {
          "base_uri": "https://localhost:8080/",
          "height": 172
        },
        "id": "e1aoH-1dDOKd",
        "outputId": "e3ed1bd6-8ab9-4226-9a0b-fe41114074f2"
      },
      "source": [
        "# 기본 에러문구\n",
        "안녕하세요"
      ],
      "execution_count": null,
      "outputs": [
        {
          "output_type": "error",
          "ename": "NameError",
          "evalue": "ignored",
          "traceback": [
            "\u001b[0;31m---------------------------------------------------------------------------\u001b[0m",
            "\u001b[0;31mNameError\u001b[0m                                 Traceback (most recent call last)",
            "\u001b[0;32m<ipython-input-9-041a565a82b3>\u001b[0m in \u001b[0;36m<module>\u001b[0;34m()\u001b[0m\n\u001b[0;32m----> 1\u001b[0;31m \u001b[0m안녕하세요\u001b[0m\u001b[0;34m\u001b[0m\u001b[0;34m\u001b[0m\u001b[0m\n\u001b[0m",
            "\u001b[0;31mNameError\u001b[0m: name '안녕하세요' is not defined"
          ]
        }
      ]
    },
    {
      "cell_type": "code",
      "metadata": {
        "colab": {
          "base_uri": "https://localhost:8080/",
          "height": 136
        },
        "id": "un7q9GEDDbAX",
        "outputId": "41ee3682-67ef-4780-9bec-36c16229b099"
      },
      "source": [
        "\"TEST'"
      ],
      "execution_count": null,
      "outputs": [
        {
          "output_type": "error",
          "ename": "SyntaxError",
          "evalue": "ignored",
          "traceback": [
            "\u001b[0;36m  File \u001b[0;32m\"<ipython-input-10-54482eec37dd>\"\u001b[0;36m, line \u001b[0;32m1\u001b[0m\n\u001b[0;31m    \"TEST'\u001b[0m\n\u001b[0m          ^\u001b[0m\n\u001b[0;31mSyntaxError\u001b[0m\u001b[0;31m:\u001b[0m EOL while scanning string literal\n"
          ]
        }
      ]
    },
    {
      "cell_type": "code",
      "metadata": {
        "colab": {
          "base_uri": "https://localhost:8080/",
          "height": 136
        },
        "id": "oksEB9lJE-wd",
        "outputId": "4c9f3be9-8990-48cc-9616-0b88ec6afeb5"
      },
      "source": [
        "# 변수명 에러 유형\n",
        "1st = '첫번째'\n",
        "f**t = '첫번째'\n",
        "f^st = '첫번째'\n",
        "Temp = 1000\n",
        "print(temp)\n",
        "print = '출력합니다'\n",
        "print(print)"
      ],
      "execution_count": null,
      "outputs": [
        {
          "output_type": "error",
          "ename": "SyntaxError",
          "evalue": "ignored",
          "traceback": [
            "\u001b[0;36m  File \u001b[0;32m\"<ipython-input-1-98786f993bc9>\"\u001b[0;36m, line \u001b[0;32m3\u001b[0m\n\u001b[0;31m    f**t = '첫번째'\u001b[0m\n\u001b[0m                ^\u001b[0m\n\u001b[0;31mSyntaxError\u001b[0m\u001b[0;31m:\u001b[0m can't assign to operator\n"
          ]
        }
      ]
    },
    {
      "cell_type": "code",
      "metadata": {
        "colab": {
          "base_uri": "https://localhost:8080/"
        },
        "id": "AWprc45IDoEM",
        "outputId": "5f1dda41-8f54-4412-c960-e760e01af743"
      },
      "source": [
        "# 객체의 자료형 확인 type()\n",
        "a=5\n",
        "b=3.14\n",
        "c='3.14'\n",
        "d=\"3.14\"\n",
        "e=-3.14\n",
        "f='abcd'+'가나다라'\n",
        "g='123'*3\n",
        "print (type(a),type(b),type(c),type(d),type(e),type(f),type(g))"
      ],
      "execution_count": null,
      "outputs": [
        {
          "output_type": "stream",
          "text": [
            "<class 'int'> <class 'float'> <class 'str'> <class 'str'> <class 'float'> <class 'str'> <class 'str'>\n"
          ],
          "name": "stdout"
        }
      ]
    },
    {
      "cell_type": "markdown",
      "metadata": {
        "id": "6zK_07fqfwOt"
      },
      "source": [
        "# 기본 사칙연산"
      ]
    },
    {
      "cell_type": "code",
      "metadata": {
        "colab": {
          "base_uri": "https://localhost:8080/"
        },
        "id": "0wxazMqBNApn",
        "outputId": "b3637870-a4ce-460e-b576-089351330106"
      },
      "source": [
        "# 파이썬으로 사칙 연산이나 문자열 연산도 가능합니다.\n",
        "# 하지만 계산 후 결과값은 일회성으로 보여지기만 합니다.\n",
        "# 결과나 과정, 변환된 값을 유지해야 하는 경우 프로그램에서 변수가 필요합니다.\n",
        "print(100+200)\n",
        "print(\"Hello World!\")"
      ],
      "execution_count": null,
      "outputs": [
        {
          "output_type": "stream",
          "text": [
            "300\n",
            "Hello World!\n"
          ],
          "name": "stdout"
        }
      ]
    },
    {
      "cell_type": "code",
      "metadata": {
        "colab": {
          "base_uri": "https://localhost:8080/"
        },
        "id": "om4FFCBqNdIw",
        "outputId": "96038faf-f8ef-4fb3-9b61-9f2e6aec5fe9"
      },
      "source": [
        "temp=100\n",
        "temp"
      ],
      "execution_count": null,
      "outputs": [
        {
          "output_type": "execute_result",
          "data": {
            "text/plain": [
              "100"
            ]
          },
          "metadata": {
            "tags": []
          },
          "execution_count": 16
        }
      ]
    },
    {
      "cell_type": "code",
      "metadata": {
        "colab": {
          "base_uri": "https://localhost:8080/"
        },
        "id": "UzFNb8qoNiSq",
        "outputId": "9dfe54af-f025-4aa3-d51e-dbe29e544d57"
      },
      "source": [
        "temp2=200\n",
        "print(temp2)"
      ],
      "execution_count": null,
      "outputs": [
        {
          "output_type": "stream",
          "text": [
            "200\n"
          ],
          "name": "stdout"
        }
      ]
    },
    {
      "cell_type": "code",
      "metadata": {
        "colab": {
          "base_uri": "https://localhost:8080/"
        },
        "id": "TKTJaUOrNnh8",
        "outputId": "14cd25b2-13e7-450c-b569-651eb4d88ea5"
      },
      "source": [
        "temp3=temp+temp2\n",
        "temp3"
      ],
      "execution_count": null,
      "outputs": [
        {
          "output_type": "execute_result",
          "data": {
            "text/plain": [
              "300"
            ]
          },
          "metadata": {
            "tags": []
          },
          "execution_count": 18
        }
      ]
    },
    {
      "cell_type": "markdown",
      "metadata": {
        "id": "82fXNY87f2Ly"
      },
      "source": [
        "# List 기초"
      ]
    },
    {
      "cell_type": "code",
      "metadata": {
        "colab": {
          "base_uri": "https://localhost:8080/"
        },
        "id": "IzqexktxNtg8",
        "outputId": "89e2f328-fde1-4e05-9e42-2f82c3a5fe38"
      },
      "source": [
        "# list1 배열을 만들고 그 안에 여러 값을 넣습니다.\n",
        "list1=[1,2,3,4,5,6,7,8,9,10]\n",
        "print(list1)"
      ],
      "execution_count": null,
      "outputs": [
        {
          "output_type": "stream",
          "text": [
            "[1, 2, 3, 4, 5, 6, 7, 8, 9, 10]\n"
          ],
          "name": "stdout"
        }
      ]
    },
    {
      "cell_type": "code",
      "metadata": {
        "colab": {
          "base_uri": "https://localhost:8080/"
        },
        "id": "J3jXC559Pl6V",
        "outputId": "e5909782-3e50-4841-8f3a-b53ef7da562c"
      },
      "source": [
        "len(list1)"
      ],
      "execution_count": null,
      "outputs": [
        {
          "output_type": "execute_result",
          "data": {
            "text/plain": [
              "10"
            ]
          },
          "metadata": {
            "tags": []
          },
          "execution_count": 3
        }
      ]
    },
    {
      "cell_type": "code",
      "metadata": {
        "colab": {
          "base_uri": "https://localhost:8080/"
        },
        "id": "cedA9rWMPoSr",
        "outputId": "ea42af22-5728-49ca-e028-8d700d6675dd"
      },
      "source": [
        "print(list1[0])\n",
        "print(list1[-1])\n",
        "#list1 배열의 마지막 원소값을 문자열과 함께 출력\n",
        "print('list1 배열의 마지막 원소값은 '+str(list1[-1])+'입니다')"
      ],
      "execution_count": null,
      "outputs": [
        {
          "output_type": "stream",
          "text": [
            "1\n",
            "10\n",
            "list1 배열의 마지막 원소값은 10입니다\n"
          ],
          "name": "stdout"
        }
      ]
    },
    {
      "cell_type": "code",
      "metadata": {
        "colab": {
          "base_uri": "https://localhost:8080/"
        },
        "id": "5ZpUI8tJQBCV",
        "outputId": "79800b61-c6b4-48e8-c8fd-d3715c6c7818"
      },
      "source": [
        "print(list1[2:6])    # 배열의 인덱스 2번부터 6번 앞까지 출력\n",
        "print(list1[2:])\n",
        "print(list1[:6])\n",
        "print(list1[:-1])"
      ],
      "execution_count": null,
      "outputs": [
        {
          "output_type": "stream",
          "text": [
            "[3, 4, 5, 6]\n",
            "[3, 4, 5, 6, 7, 8, 9, 10]\n",
            "[1, 2, 3, 4, 5, 6]\n",
            "[1, 2, 3, 4, 5, 6, 7, 8, 9]\n"
          ],
          "name": "stdout"
        }
      ]
    },
    {
      "cell_type": "code",
      "metadata": {
        "colab": {
          "base_uri": "https://localhost:8080/"
        },
        "id": "3moxMApMQt1S",
        "outputId": "9e7fcba5-5ddf-4b6f-a490-51f5d557c227"
      },
      "source": [
        "# list(range(횟수))\n",
        "# list(range(시작, 끝))\n",
        "# list(range(시작, 끝, 증가폭))\n",
        "list_rg1=list(range(11))\n",
        "list_rg2=list(range(5,12))\n",
        "list_rg3=list(range(-4,5,2))\n",
        "list_rg4=list(range(20,-1,-1))\n",
        "list_rg5=list('hello world')\n",
        "print(\"list_rg1은\",list_rg1)\n",
        "print(\"list_rg2은\",list_rg2)\n",
        "print(\"list_rg3은\",list_rg3)\n",
        "print(\"list_rg4은\",list_rg4)\n",
        "print(\"list_rg5은\",list_rg5)"
      ],
      "execution_count": null,
      "outputs": [
        {
          "output_type": "stream",
          "text": [
            "list_rg1은 [0, 1, 2, 3, 4, 5, 6, 7, 8, 9, 10]\n",
            "list_rg2은 [5, 6, 7, 8, 9, 10, 11]\n",
            "list_rg3은 [-4, -2, 0, 2, 4]\n",
            "list_rg4은 [20, 19, 18, 17, 16, 15, 14, 13, 12, 11, 10, 9, 8, 7, 6, 5, 4, 3, 2, 1, 0]\n",
            "list_rg5은 ['h', 'e', 'l', 'l', 'o', ' ', 'w', 'o', 'r', 'l', 'd']\n"
          ],
          "name": "stdout"
        }
      ]
    },
    {
      "cell_type": "code",
      "metadata": {
        "colab": {
          "base_uri": "https://localhost:8080/"
        },
        "id": "hMCcPsr7SIZD",
        "outputId": "489b3175-b10e-4cfa-a05e-b3cd23bcaa29"
      },
      "source": [
        "# 요소의 값 할당하기, 삭제하기\n",
        "\n",
        "list_rg5=list('hello world')\n",
        "list_rg5[0]='H'\n",
        "\n",
        "print(\"list_rg5의 0번째 요소 대문자로 수정\",list_rg5)\n",
        "del list_rg5[5]\n",
        "print(\"list_rg5의 5번째 요소 삭제\",list_rg5)"
      ],
      "execution_count": null,
      "outputs": [
        {
          "output_type": "stream",
          "text": [
            "list_rg5의 0번째 요소 대문자로 수정 ['H', 'e', 'l', 'l', 'o', ' ', 'w', 'o', 'r', 'l', 'd']\n",
            "list_rg5의 5번째 요소 삭제 ['H', 'e', 'l', 'l', 'o', 'w', 'o', 'r', 'l', 'd']\n"
          ],
          "name": "stdout"
        }
      ]
    },
    {
      "cell_type": "code",
      "metadata": {
        "colab": {
          "base_uri": "https://localhost:8080/"
        },
        "id": "XLTl1DwGS2Jx",
        "outputId": "a88a6fb5-ec4f-46f2-8088-4d38ded50891"
      },
      "source": [
        "for i in range(0,3,1):\n",
        "    print(\"안녕하세요? for 문을 공부 중입니다.^^\")"
      ],
      "execution_count": null,
      "outputs": [
        {
          "output_type": "stream",
          "text": [
            "안녕하세요? for 문을 공부 중입니다.^^\n",
            "안녕하세요? for 문을 공부 중입니다.^^\n",
            "안녕하세요? for 문을 공부 중입니다.^^\n"
          ],
          "name": "stdout"
        }
      ]
    },
    {
      "cell_type": "code",
      "metadata": {
        "colab": {
          "base_uri": "https://localhost:8080/"
        },
        "id": "VXFVNPU3UNNI",
        "outputId": "fd6c7caa-6aad-4168-fd3c-c71dd66e8ced"
      },
      "source": [
        "for x in range(5):\n",
        "    print(x)"
      ],
      "execution_count": null,
      "outputs": [
        {
          "output_type": "stream",
          "text": [
            "0\n",
            "1\n",
            "2\n",
            "3\n",
            "4\n"
          ],
          "name": "stdout"
        }
      ]
    },
    {
      "cell_type": "code",
      "metadata": {
        "colab": {
          "base_uri": "https://localhost:8080/"
        },
        "id": "jiNpE5_7UqbA",
        "outputId": "ea333d68-2594-492f-bfc5-d37838631137"
      },
      "source": [
        "for x in range(2,4):  #숫자 2부터 숫자 4의 '앞'숫자까지. \n",
        "    print(x)"
      ],
      "execution_count": null,
      "outputs": [
        {
          "output_type": "stream",
          "text": [
            "2\n",
            "3\n"
          ],
          "name": "stdout"
        }
      ]
    },
    {
      "cell_type": "code",
      "metadata": {
        "colab": {
          "base_uri": "https://localhost:8080/"
        },
        "id": "W8OKGM5pUxnA",
        "outputId": "1f5d29c1-8ca9-4dc1-a815-81ff9c45e76f"
      },
      "source": [
        "list2=[]\n",
        "for x in range(0,10):\n",
        "    print(x)"
      ],
      "execution_count": null,
      "outputs": [
        {
          "output_type": "stream",
          "text": [
            "0\n",
            "1\n",
            "2\n",
            "3\n",
            "4\n",
            "5\n",
            "6\n",
            "7\n",
            "8\n",
            "9\n"
          ],
          "name": "stdout"
        }
      ]
    },
    {
      "cell_type": "code",
      "metadata": {
        "colab": {
          "base_uri": "https://localhost:8080/"
        },
        "id": "5VqSaEc-U3lw",
        "outputId": "eda39733-b16a-48f9-e506-6891ab84df52"
      },
      "source": [
        "# 문제 : \n",
        "# 1) 변수는 3개 사용한다. (합계 = 0, 시작값 = 1, 끝값 = 11)\n",
        "# 2) 시작값에서 끝값-1까지 인덱스 값을 바꾸면서 반복한다.\n",
        "# 3) 합계값에 인덱스를 더한다.\n",
        "# 4) 반복이 끝나면 '-'값을 50번 출력한다.\n",
        "# 5) 합계와 인덱스 값을 출력한다.\n",
        "\n",
        "test_sum=0\n",
        "a=1\n",
        "b=11\n",
        "for x in range(a,b):\n",
        "    test_sum+=x\n",
        "    print(\"x:\",x,\"sum:\",test_sum)\n",
        "print('_'*50)\n",
        "print(a,'부터',b-1,'까지 더한 총합은',test_sum,'입니다')\n"
      ],
      "execution_count": null,
      "outputs": [
        {
          "output_type": "stream",
          "text": [
            "x: 1 sum: 1\n",
            "x: 2 sum: 3\n",
            "x: 3 sum: 6\n",
            "x: 4 sum: 10\n",
            "x: 5 sum: 15\n",
            "x: 6 sum: 21\n",
            "x: 7 sum: 28\n",
            "x: 8 sum: 36\n",
            "x: 9 sum: 45\n",
            "x: 10 sum: 55\n",
            "__________________________________________________\n",
            "1 부터 10 까지 더한 총합은 55 입니다\n"
          ],
          "name": "stdout"
        }
      ]
    },
    {
      "cell_type": "code",
      "metadata": {
        "colab": {
          "base_uri": "https://localhost:8080/"
        },
        "id": "XB6SoJlkWmwy",
        "outputId": "9ff9e9f1-ca08-418c-ff73-9d45adc9a288"
      },
      "source": [
        "# 무작위 수를 발생시키는 모듈을 import합니다\n",
        "# 조원 닉네임 리스트를 만듭니다\n",
        "# 0부터 조원수-1까지 임의의 수를 발생시킵니다\n",
        "# 임의의 수를 인덱스 값으로 닉네임 리스트의 원소를 출력합니다\n",
        "\n",
        "import random\n",
        "\n",
        "nick_name = ['Alex', 'Sophie', 'Annie', 'Zoey', 'Sunny', 'Paul']\n",
        "\n",
        "for x in range(1):\n",
        "    a = random.randint(0,5)\n",
        "    \n",
        "print('발표할 사람은', nick_name[a], '입니다')"
      ],
      "execution_count": null,
      "outputs": [
        {
          "output_type": "stream",
          "text": [
            "발표할 사람은 Annie 입니다\n"
          ],
          "name": "stdout"
        }
      ]
    },
    {
      "cell_type": "code",
      "metadata": {
        "colab": {
          "base_uri": "https://localhost:8080/"
        },
        "id": "bffVcLhBk_zo",
        "outputId": "484e79df-98be-402f-b7da-f2a5131edf33"
      },
      "source": [
        "from random import sample\n",
        "\n",
        "list_member=['Alex','Sophie','Annie','Zoey','Sunny','Paul']\n",
        "\n",
        "print('발표자는', sample(list_member,2),'입니다')\n"
      ],
      "execution_count": null,
      "outputs": [
        {
          "output_type": "stream",
          "text": [
            "발표자는 ['Sunny', 'Alex'] 입니다\n"
          ],
          "name": "stdout"
        }
      ]
    },
    {
      "cell_type": "code",
      "metadata": {
        "id": "hV24y2bplUwY",
        "colab": {
          "base_uri": "https://localhost:8080/"
        },
        "outputId": "5458abbe-4ec3-43ff-bde8-358856a1444f"
      },
      "source": [
        "list1=['one','two','three']\n",
        "for i in list1:\n",
        "    print(i)\n",
        "\n",
        "# ['one', 'two', 'three'] 리스트의 첫 번째 요소인 'one'이 먼저 i 변수에 대입된 후 print(i) 문장을 수행한다. \n",
        "# 다음에 두 번째 요소 'two'가 i 변수에 대입된 후 print(i) 문장을 수행하고 리스트의 마지막 요소까지 이것을 반복한다."
      ],
      "execution_count": null,
      "outputs": [
        {
          "output_type": "stream",
          "text": [
            "one\n",
            "two\n",
            "three\n"
          ],
          "name": "stdout"
        }
      ]
    },
    {
      "cell_type": "code",
      "metadata": {
        "colab": {
          "base_uri": "https://localhost:8080/"
        },
        "id": "8dwibB_eTD35",
        "outputId": "b89d2354-a80b-4178-f6d9-4a8abc9fccf1"
      },
      "source": [
        "a=[(1,2),(3,4),(5,6)]\n",
        "for (first,last) in a:\n",
        "    print(first+last)\n",
        "\n",
        "# 위 예는 a 리스트의 요솟값이 튜플이기 때문에 각각의 요소가 자동으로 (first, last) 변수에 대입된다."
      ],
      "execution_count": null,
      "outputs": [
        {
          "output_type": "stream",
          "text": [
            "3\n",
            "7\n",
            "11\n"
          ],
          "name": "stdout"
        }
      ]
    },
    {
      "cell_type": "code",
      "metadata": {
        "id": "vODguVQvUqLm"
      },
      "source": [
        ""
      ],
      "execution_count": null,
      "outputs": []
    }
  ]
}