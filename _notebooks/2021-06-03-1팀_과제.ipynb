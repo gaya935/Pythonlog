{
  "nbformat": 4,
  "nbformat_minor": 0,
  "metadata": {
    "colab": {
      "name": "2021-06-03_1팀_과제 (제출용).ipynb",
      "provenance": [],
      "collapsed_sections": [],
      "include_colab_link": true
    },
    "kernelspec": {
      "name": "python3",
      "display_name": "Python 3"
    }
  },
  "cells": [
    {
      "cell_type": "markdown",
      "metadata": {
        "id": "view-in-github",
        "colab_type": "text"
      },
      "source": [
        "<a href=\"https://colab.research.google.com/github/gaya935/Pythonlogee/blob/master/_notebooks/2021-06-03-1%ED%8C%80_%EA%B3%BC%EC%A0%9C.ipynb\" target=\"_parent\"><img src=\"https://colab.research.google.com/assets/colab-badge.svg\" alt=\"Open In Colab\"/></a>"
      ]
    },
    {
      "cell_type": "markdown",
      "metadata": {
        "id": "wOmljOW8Vemd"
      },
      "source": [
        "팀과제] 우리 팀의 평균 나이는?\n",
        "\n",
        "네이버 오픈 API - https://developers.naver.com/docs/common/openapiguide/\n",
        "\n",
        "이미지캡쳐 예시 코드 - https://developers.naver.com/docs/utils/captcha/examples/#python"
      ]
    },
    {
      "cell_type": "code",
      "metadata": {
        "id": "fm0f1AL2D_C8"
      },
      "source": [
        "from google.colab import drive\n",
        "drive.mount('/content/drive')"
      ],
      "execution_count": null,
      "outputs": []
    },
    {
      "cell_type": "code",
      "metadata": {
        "id": "c724DrCWVv5i"
      },
      "source": [
        "import os\n",
        "import sys\n",
        "import requests\n",
        "import json\n",
        "\n",
        "\n",
        "# 등록된 client_id, client_secret 정보를 입력합니다.\n",
        "client_id = \"yBwPM0bgoQTE7MzqhxmM\"\n",
        "client_secret = \"2HiUBFvSq_\"\n",
        "\n",
        "# 얼굴 사진을 통한 나이 추정을 위해서는 아래 url을 사용합니다. (face: 얼굴 분석, celebrity: 닮은 유명인 찾기)\n",
        "url = \"https://openapi.naver.com/v1/vision/face\" \n",
        "#url = \"https://openapi.naver.com/v1/vision/celebrity\" \n",
        "\n",
        "def img_roll():\n",
        "    t_ages = {} # 이 함수에서 최종적으로 return해줄 딕셔너리 {닉네임:나이}\n",
        "    f_img = ['alex','zoey','sunny','annie','sophie'] #이미지 파일명 앞부분을 조원들 닉네임으로해서 리스트로 만들어 for문 range값으로 사용.\n",
        "    # 분석할 이미지의 파일명을 입력합니다./\n",
        "    for i in f_img:\n",
        "        files = {'image': open(f'/content/drive/MyDrive/{i}.jpg', 'rb')}\n",
        "\n",
        "        # API 입력 설정\n",
        "        headers = {'X-Naver-Client-Id': client_id, 'X-Naver-Client-Secret': client_secret }\n",
        "\n",
        "        # API 사용\n",
        "        response = requests.post(url,  files=files, headers=headers)\n",
        "        rescode = response.status_code\n",
        "\n",
        "        if (rescode==200):\n",
        "            # 결과물 출력\n",
        "            print (response.text)\n",
        "            result = json.loads(response.text) #출력값이 딕셔너리 형태이기 때문에 딕셔너리 형태의 파일을 보기쉽게 보여주는 json모듈을 import해서 출력.\n",
        "            team_age = []\n",
        "            while True:  #f_img에서 반복되는 요소마다 만들어진 response.text 파일에서 age항목의 제일 앞의 값을 team_age에 넣는 반복문              \n",
        "                a = result['faces'][0]\n",
        "                b = a['age']['value'].split('~')\n",
        "                team_age.append(b[0])\n",
        "                break   \n",
        "   \n",
        "        else:\n",
        "            print(\"Error Code:\" + str(rescode))\n",
        "        t_ages[i]=team_age[0]\n",
        "        \n",
        "    return t_ages\n",
        "           "
      ],
      "execution_count": null,
      "outputs": []
    },
    {
      "cell_type": "code",
      "metadata": {
        "colab": {
          "base_uri": "https://localhost:8080/"
        },
        "id": "Z7agkIZoqX10",
        "outputId": "4b51db78-a9f8-44d5-a063-98dbc298f92a"
      },
      "source": [
        "team_ages  = img_roll()\n",
        "print(type(team_ages))"
      ],
      "execution_count": null,
      "outputs": [
        {
          "output_type": "stream",
          "text": [
            "{\"info\":{\"size\":{\"width\":413,\"height\":531},\"faceCount\":1},\"faces\":[{\"roi\":{\"x\":116,\"y\":156,\"width\":195,\"height\":195},\"landmark\":{\"leftEye\":{\"x\":170,\"y\":212},\"rightEye\":{\"x\":258,\"y\":210},\"nose\":{\"x\":213,\"y\":258},\"leftMouth\":{\"x\":175,\"y\":304},\"rightMouth\":{\"x\":254,\"y\":306}},\"gender\":{\"value\":\"male\",\"confidence\":0.999956},\"age\":{\"value\":\"19~23\",\"confidence\":0.550872},\"emotion\":{\"value\":\"neutral\",\"confidence\":1.0},\"pose\":{\"value\":\"frontal_face\",\"confidence\":0.999769}}]}\n",
            "{\"info\":{\"size\":{\"width\":1657,\"height\":2069},\"faceCount\":1},\"faces\":[{\"roi\":{\"x\":397,\"y\":645,\"width\":850,\"height\":850},\"landmark\":{\"leftEye\":{\"x\":600,\"y\":873},\"rightEye\":{\"x\":1008,\"y\":872},\"nose\":{\"x\":795,\"y\":1119},\"leftMouth\":{\"x\":650,\"y\":1289},\"rightMouth\":{\"x\":956,\"y\":1294}},\"gender\":{\"value\":\"female\",\"confidence\":0.999654},\"age\":{\"value\":\"17~21\",\"confidence\":0.854593},\"emotion\":{\"value\":\"neutral\",\"confidence\":0.999057},\"pose\":{\"value\":\"frontal_face\",\"confidence\":0.999739}}]}\n",
            "{\"info\":{\"size\":{\"width\":330,\"height\":450},\"faceCount\":1},\"faces\":[{\"roi\":{\"x\":84,\"y\":139,\"width\":150,\"height\":150},\"landmark\":{\"leftEye\":{\"x\":123,\"y\":176},\"rightEye\":{\"x\":193,\"y\":178},\"nose\":{\"x\":158,\"y\":226},\"leftMouth\":{\"x\":125,\"y\":253},\"rightMouth\":{\"x\":192,\"y\":254}},\"gender\":{\"value\":\"female\",\"confidence\":0.999551},\"age\":{\"value\":\"35~39\",\"confidence\":0.703329},\"emotion\":{\"value\":\"neutral\",\"confidence\":0.999843},\"pose\":{\"value\":\"frontal_face\",\"confidence\":0.999703}}]}\n",
            "{\"info\":{\"size\":{\"width\":1128,\"height\":1093},\"faceCount\":1},\"faces\":[{\"roi\":{\"x\":626,\"y\":243,\"width\":373,\"height\":373},\"landmark\":{\"leftEye\":{\"x\":727,\"y\":328},\"rightEye\":{\"x\":904,\"y\":348},\"nose\":{\"x\":823,\"y\":441},\"leftMouth\":{\"x\":716,\"y\":509},\"rightMouth\":{\"x\":877,\"y\":527}},\"gender\":{\"value\":\"female\",\"confidence\":0.999679},\"age\":{\"value\":\"21~25\",\"confidence\":0.804402},\"emotion\":{\"value\":\"neutral\",\"confidence\":0.999102},\"pose\":{\"value\":\"frontal_face\",\"confidence\":0.991186}}]}\n",
            "{\"info\":{\"size\":{\"width\":316,\"height\":388},\"faceCount\":1},\"faces\":[{\"roi\":{\"x\":52,\"y\":56,\"width\":134,\"height\":134},\"landmark\":{\"leftEye\":{\"x\":85,\"y\":78},\"rightEye\":{\"x\":154,\"y\":83},\"nose\":{\"x\":103,\"y\":128},\"leftMouth\":{\"x\":85,\"y\":156},\"rightMouth\":{\"x\":131,\"y\":164}},\"gender\":{\"value\":\"female\",\"confidence\":0.999909},\"age\":{\"value\":\"15~19\",\"confidence\":1.0},\"emotion\":{\"value\":\"neutral\",\"confidence\":0.999988},\"pose\":{\"value\":\"frontal_face\",\"confidence\":0.98996}}]}\n",
            "<class 'dict'>\n"
          ],
          "name": "stdout"
        }
      ]
    },
    {
      "cell_type": "code",
      "metadata": {
        "colab": {
          "base_uri": "https://localhost:8080/"
        },
        "id": "0Kh5YcgSygqG",
        "outputId": "45e14687-5c53-4eb8-d166-806af3049beb"
      },
      "source": [
        "total_age = 0\n",
        "for age in team_ages.values():\n",
        "    total_age += int(age)\n",
        "avg_age = round(total_age/len(t_ages),2)\n",
        "print(avg_age)"
      ],
      "execution_count": null,
      "outputs": [
        {
          "output_type": "stream",
          "text": [
            "21.4\n"
          ],
          "name": "stdout"
        }
      ]
    }
  ]
}