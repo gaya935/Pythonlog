{
  "nbformat": 4,
  "nbformat_minor": 0,
  "metadata": {
    "colab": {
      "name": "2021-06-02_1팀_남가연.ipynb",
      "provenance": [],
      "authorship_tag": "ABX9TyMna0AV7zB+SxDyGU184+Xx",
      "include_colab_link": true
    },
    "kernelspec": {
      "name": "python3",
      "display_name": "Python 3"
    },
    "language_info": {
      "name": "python"
    }
  },
  "cells": [
    {
      "cell_type": "markdown",
      "metadata": {
        "id": "view-in-github",
        "colab_type": "text"
      },
      "source": [
        "<a href=\"https://colab.research.google.com/github/gaya935/Pythonlogee/blob/master/_notebooks/2021-06-02_1%ED%8C%80_%EB%82%A8%EA%B0%80%EC%97%B0.ipynb\" target=\"_parent\"><img src=\"https://colab.research.google.com/assets/colab-badge.svg\" alt=\"Open In Colab\"/></a>"
      ]
    },
    {
      "cell_type": "markdown",
      "metadata": {
        "id": "VomRLPu57p0n"
      },
      "source": [
        "# 함수\n",
        "특정 기능을 구현하기  위해 관련된 여러 개의 실행문을 묶어놓은 코드\\\n",
        "반복되는 부분을 함수화하여 코드의 중복을 배제한다.\\\n",
        "코드의 가독성을 높여 프로그램의 흐름 파악 및 디버깅 용이"
      ]
    },
    {
      "cell_type": "code",
      "metadata": {
        "id": "8Jj_lJSG3vqi"
      },
      "source": [
        "# 내장함수 목록 조회\n",
        "dir(__builtins__)"
      ],
      "execution_count": null,
      "outputs": []
    },
    {
      "cell_type": "code",
      "metadata": {
        "colab": {
          "base_uri": "https://localhost:8080/"
        },
        "id": "8USYZb8v9ben",
        "outputId": "e84ffc1a-a03a-4c3e-e0fe-ad4810f80f15"
      },
      "source": [
        "# 외장함수\n",
        "# import하여 사용함, 모듈 뒤에 점을 찍어 사용한다.\n",
        "# import 모듈명 - 모듈 불러오기\n",
        "# import 모듈명 as 별칭 - 별칭으로 모듈 불러오기\n",
        "# from 패키지명 import 모듈명 - 원하는 모듈만 특정해서 불러오기\n",
        "# from 모듈명 import 함수명 - 원하는 함수만 특정해서 불러오기\n",
        "\n",
        "import calendar  # calendar 모듈 import\n",
        "print(calendar.month(2021,5)) # 달력 년월을 지정 출력"
      ],
      "execution_count": null,
      "outputs": [
        {
          "output_type": "stream",
          "text": [
            "      May 2021\n",
            "Mo Tu We Th Fr Sa Su\n",
            "                1  2\n",
            " 3  4  5  6  7  8  9\n",
            "10 11 12 13 14 15 16\n",
            "17 18 19 20 21 22 23\n",
            "24 25 26 27 28 29 30\n",
            "31\n",
            "\n"
          ],
          "name": "stdout"
        }
      ]
    },
    {
      "cell_type": "code",
      "metadata": {
        "colab": {
          "base_uri": "https://localhost:8080/"
        },
        "id": "mcSdwFht-kzs",
        "outputId": "17b1e11b-db3a-419b-eccb-7041f7fa139d"
      },
      "source": [
        "import datetime \n",
        "\n",
        "date1 = datetime.date.today()\n",
        "date2 = datetime.date(1993,8,24)\n",
        "print(date1-date2)"
      ],
      "execution_count": null,
      "outputs": [
        {
          "output_type": "stream",
          "text": [
            "10144 days, 0:00:00\n"
          ],
          "name": "stdout"
        }
      ]
    },
    {
      "cell_type": "code",
      "metadata": {
        "colab": {
          "base_uri": "https://localhost:8080/"
        },
        "id": "3vmR1Ma0-leb",
        "outputId": "17bbca1a-d9a8-4f44-a528-7ef7cb556f72"
      },
      "source": [
        "import random\n",
        "a = random.random() # Random float x, 0.0 <= x < 1.0\n",
        "\n",
        "#2개의 숫자 사이의 랜덤 실수를 리턴합니다.\n",
        "b = random.uniform(1, 10) # Random float x, 1.0 <= x < 10.0\n",
        "\n",
        "\n",
        "#2개의 숫자 사이의 랜덤 정수를 리턴합니다. (2번째 인자로 넘어온 정수도 범위에 포함시킴)\n",
        "c =random.randint(1, 10) # Integer from 1 to 10, endpoints included\n",
        "\n",
        "\n",
        "#range(start, stop, step) 함수로 만들어지는 정수 중에 하나를 랜덤하게 리턴합니다.\n",
        "d=random.randrange(0, 101, 2)  # Even integer from 0 to 100\n",
        "\n",
        "#choice() 함수 랜덤하게 하나의 원소를 선택합니다.\n",
        "e = random.choice('abcdefghij') # Choose a random element \n",
        "f = random.choice(['가위','바위','보'])\n",
        "random.shuffle\n",
        "print(a,b,c,d,e,f)"
      ],
      "execution_count": null,
      "outputs": [
        {
          "output_type": "stream",
          "text": [
            "0.7519169591235052 4.272130967321102 3 30 e 바위\n"
          ],
          "name": "stdout"
        }
      ]
    },
    {
      "cell_type": "markdown",
      "metadata": {
        "id": "FYwVjuGq7AC7"
      },
      "source": [
        "# 사용자 정의 함수"
      ]
    },
    {
      "cell_type": "markdown",
      "metadata": {
        "id": "fGvNhtnJ9B3V"
      },
      "source": [
        ""
      ]
    },
    {
      "cell_type": "markdown",
      "metadata": {
        "id": "vKJdgY9kBhNo"
      },
      "source": [
        "### ③ 사용자 정의 함수\n",
        "```\n",
        "# 매개변수의 생성 def\n",
        "def 함수명(매개변수): \n",
        "    함수기능\n",
        "    return 반환값\n",
        "```\n",
        "\n",
        "[함수 구성 3요소]\n",
        "1. 함수명 : 필수\n",
        "2. 매개변수 : 선택 (Augment value)\n",
        "3. 리턴값 : 선택"
      ]
    },
    {
      "cell_type": "code",
      "metadata": {
        "colab": {
          "base_uri": "https://localhost:8080/"
        },
        "id": "ZjK8HUwu89jf",
        "outputId": "8c74932b-43f1-4a8f-e186-d7964e2704ad"
      },
      "source": [
        "# def 써보기. 3요소를 다쓰는 구조.\n",
        "\n",
        "def plus(a,b):\n",
        "    c = a+b\n",
        "    return c\n",
        "\n",
        "plus(4,5)"
      ],
      "execution_count": null,
      "outputs": [
        {
          "output_type": "execute_result",
          "data": {
            "text/plain": [
              "9"
            ]
          },
          "metadata": {
            "tags": []
          },
          "execution_count": 23
        }
      ]
    },
    {
      "cell_type": "code",
      "metadata": {
        "colab": {
          "base_uri": "https://localhost:8080/"
        },
        "id": "M--NTL9jCRqU",
        "outputId": "fda9dfdc-956a-4985-ee16-73e945c54693"
      },
      "source": [
        "# 사용자가 필요한 기능을 직접 정의하는 함수 \n",
        "# 환영메세지 출력하기\n",
        "\n",
        "def say_hello():\n",
        "    print('안녕하세요!!')\n",
        "    print('파이썬의 세계에 오신것을 환영합니다.')\n",
        "    print('즐거운 시간 되세요!!')\n",
        "\n",
        "say_hello()"
      ],
      "execution_count": null,
      "outputs": [
        {
          "output_type": "stream",
          "text": [
            "안녕하세요!!\n",
            "파이썬의 세계에 오신것을 환영합니다.\n",
            "즐거운 시간 되세요!!\n"
          ],
          "name": "stdout"
        }
      ]
    },
    {
      "cell_type": "code",
      "metadata": {
        "colab": {
          "base_uri": "https://localhost:8080/"
        },
        "id": "C2pxFv15ClId",
        "outputId": "67e5d71c-796b-4bd3-8546-7dd6d3669c38"
      },
      "source": [
        "#환영 메시지 출력하기 2(이름을 인수로 전달하여 출력하기)\n",
        "\n",
        "def say_hello(name):\n",
        "    print(f'안녕하세요,{name}님!!')\n",
        "    print('파이썬의 세계에 오신것을 환영합니다.')\n",
        "    print('즐거운 시간 되세요!!')\n",
        "\n",
        "say_hello('홍길동')"
      ],
      "execution_count": null,
      "outputs": [
        {
          "output_type": "stream",
          "text": [
            "안녕하세요,홍길동님!!\n",
            "파이썬의 세계에 오신것을 환영합니다.\n",
            "즐거운 시간 되세요!!\n"
          ],
          "name": "stdout"
        }
      ]
    },
    {
      "cell_type": "code",
      "metadata": {
        "id": "Q8Figx6gDHw0",
        "colab": {
          "base_uri": "https://localhost:8080/"
        },
        "outputId": "e2702b70-1a6d-4a6c-d151-b1eebde18918"
      },
      "source": [
        "def say_hello(name1, name2):\n",
        "    print(f'안녕하세요,{name1},{name2}님!!')\n",
        "    print('파이썬의 세계에 오신것을 환영합니다.')\n",
        "    print('즐거운 시간 되세요!!')\n",
        "\n",
        "say_hello('홍길동','홍자매')"
      ],
      "execution_count": null,
      "outputs": [
        {
          "output_type": "stream",
          "text": [
            "안녕하세요,홍길동,홍자매님!!\n",
            "파이썬의 세계에 오신것을 환영합니다.\n",
            "즐거운 시간 되세요!!\n"
          ],
          "name": "stdout"
        }
      ]
    },
    {
      "cell_type": "code",
      "metadata": {
        "colab": {
          "base_uri": "https://localhost:8080/"
        },
        "id": "MH-zhlrT9QYD",
        "outputId": "f4b3a9dc-2458-4f0e-9890-33cc05fa41db"
      },
      "source": [
        "# 더하기\n",
        "def get_plus (num1,num2):\n",
        "    result = num1 + num2\n",
        "    return result\n",
        "\n",
        "print('더하기: ',get_plus(1,2))\n",
        "#-------------------------------------------------------------\n",
        "print('-' *50)\n",
        "\n",
        "# 빼기\n",
        "def get_minus (num1,num2):\n",
        "    result = num1 - num2\n",
        "    return result\n",
        "\n",
        "print('빼기: ', get_minus(1,2))\n",
        "#-------------------------------------------------------------\n",
        "# 곱하기\n",
        "print('-' *50)\n",
        "\n",
        "def get_multi (num1,num2):\n",
        "    result = num1 * num2\n",
        "    return result\n",
        "\n",
        "print('곱하기: ', get_multi(1,2))\n",
        "#-------------------------------------------------------------\n",
        "# 나누기\n",
        "print('-' *50)\n",
        "\n",
        "def get_divi (num1,num2):\n",
        "    if num2 == 0 :\n",
        "        print('나눌 수 없는 수입니다.')\n",
        "    else :\n",
        "        result = num1 / num2\n",
        "        return result\n",
        "\n",
        "print('나누기: ', get_divi(1,2))\n",
        "\n",
        "a = 3\n",
        "b = 0\n",
        "if b != 0 :\n",
        "    get_plus_minus(b,a)\n",
        "#-------------------------------------------------------------\n",
        "# 더하기 빼기\n",
        "print('-' *50)\n",
        "\n",
        "def get_plus_minus (num1,num2):\n",
        "    plus = num1 + num2\n",
        "    minus = num1 - num2\n",
        "    return plus, minus\n",
        "\n",
        "print(get_plus_minus(1,2))\n"
      ],
      "execution_count": null,
      "outputs": [
        {
          "output_type": "stream",
          "text": [
            "더하기:  3\n",
            "--------------------------------------------------\n",
            "빼기:  -1\n",
            "--------------------------------------------------\n",
            "곱하기:  2\n",
            "--------------------------------------------------\n",
            "나누기:  0.5\n",
            "--------------------------------------------------\n",
            "(3, -1)\n"
          ],
          "name": "stdout"
        }
      ]
    },
    {
      "cell_type": "code",
      "metadata": {
        "colab": {
          "base_uri": "https://localhost:8080/"
        },
        "id": "xxBz7aOw9UXY",
        "outputId": "0d6ada3a-0743-4fbc-f7d8-35eb7d8e5fd5"
      },
      "source": [
        "# 1팀 서윤선님 코드\n",
        "#계산기 만들기\n",
        "\n",
        "def calculator(num1, num2):\n",
        "    p = num1 + num2\n",
        "    m = num1 - num2\n",
        "    t = num1 * num2\n",
        "    d = round((num1 / num2),2)\n",
        "    return p, m, t, d\n",
        "\n",
        "calculator(12345,67890)"
      ],
      "execution_count": null,
      "outputs": [
        {
          "output_type": "execute_result",
          "data": {
            "text/plain": [
              "(80235, -55545, 838102050, 0.18)"
            ]
          },
          "metadata": {
            "tags": []
          },
          "execution_count": 25
        }
      ]
    },
    {
      "cell_type": "code",
      "metadata": {
        "colab": {
          "base_uri": "https://localhost:8080/"
        },
        "id": "AoS-e3qr7fsv",
        "outputId": "62b3e577-58eb-4e33-9910-c8789e5d6088"
      },
      "source": [
        "#원의 넓이를 구하는 함수 만들기\n",
        "def circle_area(radius):\n",
        "    area = 3.14 * radius ** 2\n",
        "    return area\n",
        "\n",
        "circle_area(5)"
      ],
      "execution_count": null,
      "outputs": [
        {
          "output_type": "execute_result",
          "data": {
            "text/plain": [
              "78.5"
            ]
          },
          "metadata": {
            "tags": []
          },
          "execution_count": 4
        }
      ]
    },
    {
      "cell_type": "code",
      "metadata": {
        "colab": {
          "base_uri": "https://localhost:8080/"
        },
        "id": "QCn7Yu_W7mk4",
        "outputId": "ecbba569-7e85-4b4b-96de-5b8b9df6720f"
      },
      "source": [
        "#매개변수*args\n",
        "#매개변수의 개수가 가변적일 때 사용한다\n",
        "def average(*args):\n",
        "    avrg = sum(args) / len(args)\n",
        "    return avrg\n",
        "\n",
        "print(average(1,2,3))\n",
        "print(average(1,2,3,4,5))"
      ],
      "execution_count": null,
      "outputs": [
        {
          "output_type": "stream",
          "text": [
            "2.0\n",
            "3.0\n"
          ],
          "name": "stdout"
        }
      ]
    },
    {
      "cell_type": "markdown",
      "metadata": {
        "id": "E4ecoVqH9rYf"
      },
      "source": [
        "# 예제"
      ]
    },
    {
      "cell_type": "code",
      "metadata": {
        "colab": {
          "base_uri": "https://localhost:8080/"
        },
        "id": "3ccBEpXU7o9H",
        "outputId": "b9df9815-7280-4eb2-eb6d-466d6bd6d9f2"
      },
      "source": [
        "def is_prime(number):\n",
        "    #소수여부 판단하여 리턴\n",
        "    #소수:True, 소수가 아님:False\n",
        "    if number < 2:\n",
        "        return False\n",
        "    for i in range(2,number):\n",
        "        if number % i == 0:\n",
        "            return False\n",
        "\n",
        "    return True\n",
        "\n",
        "input_number = int(input('숫자:'))\n",
        "if is_prime(input_number):\n",
        "    print('소수입니다.')\n",
        "else:\n",
        "    print('소수가 아닙니다.')"
      ],
      "execution_count": null,
      "outputs": [
        {
          "output_type": "stream",
          "text": [
            "숫자:5\n",
            "소수입니다.\n"
          ],
          "name": "stdout"
        }
      ]
    },
    {
      "cell_type": "code",
      "metadata": {
        "colab": {
          "base_uri": "https://localhost:8080/"
        },
        "id": "o7BX-8Eb7qy-",
        "outputId": "c9e3342c-8417-4f1c-a92b-259dcb8a0609"
      },
      "source": [
        "def is_prime(num):\n",
        "    #소수여부 \n",
        "    #소수 True ,아니면 False\n",
        "    if num < 2:\n",
        "        return False\n",
        "    for i in range(2,num):\n",
        "        if num % i == 0:\n",
        "            return False\n",
        "    return True\n",
        "i_num = int(input('숫자:'))\n",
        "if is_prime(i_num):\n",
        "    print('소수입니다')\n",
        "else:\n",
        "    print('소수가 아닙니다')"
      ],
      "execution_count": null,
      "outputs": [
        {
          "output_type": "stream",
          "text": [
            "숫자:33\n",
            "소수가 아닙니다\n"
          ],
          "name": "stdout"
        }
      ]
    },
    {
      "cell_type": "code",
      "metadata": {
        "colab": {
          "base_uri": "https://localhost:8080/"
        },
        "id": "vDXQkIVI7ueV",
        "outputId": "38b7c5be-7a20-4e72-8d1a-3aa389baf158"
      },
      "source": [
        "def is_prime(num):\n",
        "    #소수여부 \n",
        "    #소수 True ,아니면 False\n",
        "    if num < 2:\n",
        "        return False\n",
        "    for i in range(2,num):\n",
        "        if num % i == 0:\n",
        "            return False\n",
        "    return num\n",
        "def print_prime(num):\n",
        "    prime_list = []\n",
        "    for i in range(num):\n",
        "        if is_prime(i):\n",
        "            prime_list.append(i)\n",
        "    \n",
        "    return prime_list\n",
        "print_prime(int(input(\"범위 입력: \")))"
      ],
      "execution_count": null,
      "outputs": [
        {
          "output_type": "stream",
          "text": [
            "범위 입력: 15\n"
          ],
          "name": "stdout"
        },
        {
          "output_type": "execute_result",
          "data": {
            "text/plain": [
              "[2, 3, 5, 7, 11, 13]"
            ]
          },
          "metadata": {
            "tags": []
          },
          "execution_count": 11
        }
      ]
    },
    {
      "cell_type": "code",
      "metadata": {
        "colab": {
          "base_uri": "https://localhost:8080/"
        },
        "id": "5V-MfYxv7w5t",
        "outputId": "22c978f8-8ec7-40ef-d560-f7989480ac1e"
      },
      "source": [
        "def is_prime(number):\n",
        "    #소수여부 판단하여 리턴\n",
        "    #소수:True, 소수가 아님:False\n",
        "\n",
        "    if number < 2:\n",
        "        return False\n",
        "    for i in range(2, number):\n",
        "        if number % i == 0:\n",
        "            return False\n",
        "    return True\n",
        "\n",
        "def i_num():\n",
        "    number = int(input('숫자를 입력하세요.: '))\n",
        "    if True:\n",
        "        print('소수입니다.')\n",
        "    else:\n",
        "        print('소수가 아닙니다.')\n",
        "\n",
        "i_num()"
      ],
      "execution_count": null,
      "outputs": [
        {
          "output_type": "stream",
          "text": [
            "숫자를 입력하세요.: 6\n",
            "소수입니다.\n"
          ],
          "name": "stdout"
        }
      ]
    },
    {
      "cell_type": "markdown",
      "metadata": {
        "id": "dYK0w4hB8E0P"
      },
      "source": [
        "# 예제 - 오늘의 메뉴"
      ]
    },
    {
      "cell_type": "code",
      "metadata": {
        "colab": {
          "base_uri": "https://localhost:8080/"
        },
        "id": "5Oo0nT667z6P",
        "outputId": "2770a907-36b6-487f-814d-36b877a9e171"
      },
      "source": [
        "# 오늘의 메뉴\n",
        "# 오늘의 급식메뉴를 출력하는 프로그램을 만들려고 한다. 몇 개의 메뉴가 선택될지 모른다. 오늘의 메뉴를 출력하는 부분을 함수로 만들어 프로그램을 작성하시오.\n",
        "\n",
        "def today_menu(*menu):\n",
        "    for i in menu:\n",
        "        print(i)\n",
        "print(\"==오늘의 메뉴==\")\n",
        "today_menu('김밥','떡볶이','오뎅')"
      ],
      "execution_count": null,
      "outputs": [
        {
          "output_type": "stream",
          "text": [
            "==오늘의 메뉴==\n",
            "김밥\n",
            "떡볶이\n",
            "오뎅\n"
          ],
          "name": "stdout"
        }
      ]
    },
    {
      "cell_type": "code",
      "metadata": {
        "colab": {
          "base_uri": "https://localhost:8080/"
        },
        "id": "rrS5MODr8LpK",
        "outputId": "0eb2e0da-3d48-48d8-d25c-f602f6015efc"
      },
      "source": [
        "def today_menu(*menu):\n",
        "    for i in range(len(menu)):\n",
        "        print(menu[i])\n",
        "print('===오늘의 메뉴===')\n",
        "today_menu('김밥','떡볶이','오뎅')"
      ],
      "execution_count": null,
      "outputs": [
        {
          "output_type": "stream",
          "text": [
            "===오늘의 메뉴===\n",
            "김밥\n",
            "떡볶이\n",
            "오뎅\n"
          ],
          "name": "stdout"
        }
      ]
    },
    {
      "cell_type": "markdown",
      "metadata": {
        "id": "Ecnq_3Zo91cz"
      },
      "source": [
        "# 함수들"
      ]
    },
    {
      "cell_type": "code",
      "metadata": {
        "colab": {
          "base_uri": "https://localhost:8080/"
        },
        "id": "E1t0Ty3X8PUO",
        "outputId": "f01be4f2-fc30-49ca-e84e-d66e1531d101"
      },
      "source": [
        "#lamda() 함수\n",
        "#한줄로 간단하게 만들어주는 함수\n",
        "\n",
        "def plus(num1,num2):\n",
        "    result = num1+num2\n",
        "    return result\n",
        "print(plus(10,20))\n",
        "\n",
        "plus = lambda num1,num2: num1+num2\n",
        "print(plus(10,20))"
      ],
      "execution_count": null,
      "outputs": [
        {
          "output_type": "stream",
          "text": [
            "30\n",
            "30\n"
          ],
          "name": "stdout"
        }
      ]
    },
    {
      "cell_type": "code",
      "metadata": {
        "colab": {
          "base_uri": "https://localhost:8080/"
        },
        "id": "aNiVBI2X8RMv",
        "outputId": "7aa49320-e673-491d-b860-54b784e06434"
      },
      "source": [
        "#map함수\n",
        "#두개의 인자를 갖는 함수로 순서가 있는 자료형에 사용\n",
        "#첫번쨰 인자는 함수명, 두번째 인사는 순서가 있는 자료형\n",
        "\n",
        "mylist = [1,2,3,4,5]\n",
        "plus10 = lambda num: num+10\n",
        "\n",
        "mylist = list(map(plus10,mylist))\n",
        "print(mylist)"
      ],
      "execution_count": null,
      "outputs": [
        {
          "output_type": "stream",
          "text": [
            "[11, 12, 13, 14, 15]\n"
          ],
          "name": "stdout"
        }
      ]
    },
    {
      "cell_type": "code",
      "metadata": {
        "colab": {
          "base_uri": "https://localhost:8080/"
        },
        "id": "HaMy0tG38TQ_",
        "outputId": "2a44d7a5-9c99-4f0b-f46b-9a7d47e414e6"
      },
      "source": [
        "#map() 함수\n",
        "mylist = (1,2,3,4,5)\n",
        "mylist = set(map(lambda num: num+10,mylist))\n",
        "print(mylist)"
      ],
      "execution_count": null,
      "outputs": [
        {
          "output_type": "stream",
          "text": [
            "{11, 12, 13, 14, 15}\n"
          ],
          "name": "stdout"
        }
      ]
    },
    {
      "cell_type": "code",
      "metadata": {
        "colab": {
          "base_uri": "https://localhost:8080/"
        },
        "id": "bcOK3gq88U6n",
        "outputId": "9651b122-a983-465b-90ac-29b7fa54f3b8"
      },
      "source": [
        "#재귀함수\n",
        "#함수 안에서 함수 자기자신을 호출하는 방식\n",
        "#재귀호출은 일반적인 상황에서는 잘 사용하지 않지만 알고리즘을 구현할 때 매우 유용합니다.\n",
        "\n",
        "def hello(count):\n",
        "    if count == 0:   # 종료 조건을 만듦. count가 0이면 다시 hello 함수를 호출하지 않고 끝냄\n",
        "        return\n",
        "    \n",
        "    print('Hello, world', count)\n",
        "\n",
        "    count -= 1    #count를 1 감소시킨 뒤\n",
        "    hello(count)  #다시 hello를 넣음\n",
        "\n",
        "hello(5)   #hello 함수 호출"
      ],
      "execution_count": null,
      "outputs": [
        {
          "output_type": "stream",
          "text": [
            "Hello, world 5\n",
            "Hello, world 4\n",
            "Hello, world 3\n",
            "Hello, world 2\n",
            "Hello, world 1\n"
          ],
          "name": "stdout"
        }
      ]
    },
    {
      "cell_type": "code",
      "metadata": {
        "colab": {
          "base_uri": "https://localhost:8080/"
        },
        "id": "PgBLl7708W-f",
        "outputId": "6da9ae35-1d97-4820-8564-d5404e436535"
      },
      "source": [
        "#재귀함수-예제\n",
        "#함수 안에서 함수 자기자신을 호출하는 방식\n",
        "\n",
        "def factorial(n):    \n",
        "    if n == 1:        #n이 1일 때\n",
        "        return 1      #1을 반환하고 재귀호출을 끝냄\n",
        "    return n * factorial(n - 1)    #n과 factorial 함수에 n-1을 넣어서 반환된 값을 곱함\n",
        "\n",
        "print(factorial(5))"
      ],
      "execution_count": null,
      "outputs": [
        {
          "output_type": "stream",
          "text": [
            "120\n"
          ],
          "name": "stdout"
        }
      ]
    },
    {
      "cell_type": "markdown",
      "metadata": {
        "id": "UfK4rzM7-GWb"
      },
      "source": [
        "# 편의점 재고관리"
      ]
    },
    {
      "cell_type": "code",
      "metadata": {
        "colab": {
          "base_uri": "https://localhost:8080/",
          "height": 334
        },
        "id": "lvS2u9EK8aKf",
        "outputId": "bed42ccc-7986-4abc-c92e-2103fbee1f01"
      },
      "source": [
        "#1. 3개의 함수를 작성해야한다.\n",
        "    #1) 재고등록\n",
        "    #2) 물건판매\n",
        "    #3) 재고조회\n",
        "\n",
        "\n",
        "# 재고등록 함수\n",
        "def regist(a, b) : \n",
        "    stock[a] = b\n",
        "    print(f'상품명: {a}    개수: {b}')\n",
        "\n",
        "# 물건판매 함수\n",
        "def sold(a, b) :\n",
        "    changed_amount = stock.get[a] - b\n",
        "    stock[a] = changed_mount\n",
        "    print(f'상품명: {a}    개수: {changed_amount}')\n",
        "\n",
        "# 재고조회 함수\n",
        "def check(a) :\n",
        "    print(f'상품명: {a}    개수: {stock.get[a]}')\n",
        "\n",
        "# 재고관리 시스템 본문\n",
        "\n",
        "stock = {}\n",
        "name = ''\n",
        "amount = 0\n",
        "\n",
        "while True:\n",
        "    print('''\n",
        "    ===== 재고관리 시스템 =====\n",
        "    1:재고등록, 2:제품판매, 3:재고확인, 0:프로그램 종료\n",
        "    ''')\n",
        "\n",
        "    menu = int(input('메뉴를 선택하세요:'))\n",
        "    if menu == 0 :\n",
        "        break\n",
        "\n",
        "# 1) 재고등록\n",
        "    elif menu == 1 : \n",
        "        print('___1. 재고등록___')\n",
        "\n",
        "        while name != '' :\n",
        "            name = input('제품명: ')\n",
        "            amount = int(input('개수: '))\n",
        "            regist(name, amount)\n",
        "\n",
        "# 2) 물건판매\n",
        "    elif menu == 2 :\n",
        "        print('___2. 물건판매___')\n",
        "\n",
        "        while name != '' :\n",
        "            name = input('제품명: ')\n",
        "            amount = int(input('판매된 개수: '))\n",
        "            sold(name, amount)\n",
        "\n",
        "# 3) 재고조회\n",
        "    else:\n",
        "        print('___3. 재고조회___')\n",
        "        \n",
        "        while name != '' :\n",
        "            name = input('제품명: ')\n",
        "            amount = int(input('판매된 개수: '))\n",
        "            check(a)\n",
        "\n"
      ],
      "execution_count": null,
      "outputs": [
        {
          "output_type": "stream",
          "text": [
            "\n",
            "    ===== 재고관리 시스템 =====\n",
            "    1:재고등록, 2:제품판매, 3:재고확인, 0:프로그램 종료\n",
            "    \n",
            "메뉴를 선택하세요:김밥\n"
          ],
          "name": "stdout"
        },
        {
          "output_type": "error",
          "ename": "ValueError",
          "evalue": "ignored",
          "traceback": [
            "\u001b[0;31m---------------------------------------------------------------------------\u001b[0m",
            "\u001b[0;31mValueError\u001b[0m                                Traceback (most recent call last)",
            "\u001b[0;32m<ipython-input-28-85ba4ab0d300>\u001b[0m in \u001b[0;36m<module>\u001b[0;34m()\u001b[0m\n\u001b[1;32m     35\u001b[0m     ''')\n\u001b[1;32m     36\u001b[0m \u001b[0;34m\u001b[0m\u001b[0m\n\u001b[0;32m---> 37\u001b[0;31m     \u001b[0mmenu\u001b[0m \u001b[0;34m=\u001b[0m \u001b[0mint\u001b[0m\u001b[0;34m(\u001b[0m\u001b[0minput\u001b[0m\u001b[0;34m(\u001b[0m\u001b[0;34m'메뉴를 선택하세요:'\u001b[0m\u001b[0;34m)\u001b[0m\u001b[0;34m)\u001b[0m\u001b[0;34m\u001b[0m\u001b[0;34m\u001b[0m\u001b[0m\n\u001b[0m\u001b[1;32m     38\u001b[0m     \u001b[0;32mif\u001b[0m \u001b[0mmenu\u001b[0m \u001b[0;34m==\u001b[0m \u001b[0;36m0\u001b[0m \u001b[0;34m:\u001b[0m\u001b[0;34m\u001b[0m\u001b[0;34m\u001b[0m\u001b[0m\n\u001b[1;32m     39\u001b[0m         \u001b[0;32mbreak\u001b[0m\u001b[0;34m\u001b[0m\u001b[0;34m\u001b[0m\u001b[0m\n",
            "\u001b[0;31mValueError\u001b[0m: invalid literal for int() with base 10: '김밥'"
          ]
        }
      ]
    },
    {
      "cell_type": "code",
      "metadata": {
        "colab": {
          "base_uri": "https://localhost:8080/",
          "height": 952
        },
        "id": "frWdn6Ay8eLe",
        "outputId": "95beed2a-f57d-4818-a3e4-a28efde89e32"
      },
      "source": [
        "# 재고등록 함수\n",
        "def regist() : \n",
        "    while True:\n",
        "        name = input('등록하려는 상품명 : ')\n",
        "        if name == '':\n",
        "            break\n",
        "        cnt = int(input('등록하려는 갯수: '))\n",
        "\n",
        "        if name in stock.keys() :\n",
        "            stock[name] += cnt\n",
        "        else:\n",
        "            stock[name] = cnt\n",
        "        print('-'*40)\n",
        "        print(f'상품명: {name}    개수: {stock[name]}')\n",
        "        print('-'*40)\n",
        "\n",
        "# 물건판매 함수\n",
        "def sold() :\n",
        "    while True:\n",
        "        name = input('상품명: ')\n",
        "        if name == '':\n",
        "            break\n",
        "        cnt = int(input('갯수: '))\n",
        "\n",
        "        if name not in stock.keys() :\n",
        "            print('없는 상품입니다.')\n",
        "            break\n",
        "        else :\n",
        "            stock[name] -= cnt\n",
        "        print('-'*40)\n",
        "        print(f'상품명: {name}    개수: {stock[name]}')\n",
        "        print('-'*40)\n",
        "\n",
        "# 재고조회 함수\n",
        "def check() :\n",
        "    while True : \n",
        "        name = input('조회하려는 상품명: ')\n",
        "        if name == '':\n",
        "            break\n",
        "        print('-'*40)\n",
        "        print(f'상품명: {name}    개수: {stock.get[name]}')\n",
        "        print('-'*40)\n",
        "\n",
        "# 재고관리 시스템 본문\n",
        "\n",
        "stock = {'삼각김밥':10, '커피우유':10}      #초기재고\n",
        "\n",
        "while True:\n",
        "    print('''\n",
        "    ===== 재고관리 시스템 =====\n",
        "    1:재고등록, 2:제품판매, 3:재고확인, 0:프로그램 종료\n",
        "    ''')\n",
        "\n",
        "    menu = int(input('메뉴를 선택하세요:'))\n",
        "    if menu == 0 :\n",
        "        break\n",
        "\n",
        "# 1) 재고등록\n",
        "    elif menu == 1 : \n",
        "        print('')\n",
        "        print('   1. 재고등록')\n",
        "        regist()\n",
        "\n",
        "# 2) 물건판매\n",
        "    elif menu == 2 :\n",
        "        print('   2. 물건판매')\n",
        "        sold()\n",
        "\n",
        "# 3) 재고조회\n",
        "    else:\n",
        "        print('   3. 재고조회')\n",
        "        check()\n"
      ],
      "execution_count": null,
      "outputs": [
        {
          "output_type": "stream",
          "text": [
            "\n",
            "    ===== 재고관리 시스템 =====\n",
            "    1:재고등록, 2:제품판매, 3:재고확인, 0:프로그램 종료\n",
            "    \n",
            "메뉴를 선택하세요:1\n",
            "\n",
            "   1. 재고등록\n",
            "등록하려는 상품명 : 2\n",
            "등록하려는 갯수: 3\n",
            "----------------------------------------\n",
            "상품명: 2    개수: 3\n",
            "----------------------------------------\n",
            "등록하려는 상품명 : 5\n",
            "등록하려는 갯수: 5\n",
            "----------------------------------------\n",
            "상품명: 5    개수: 5\n",
            "----------------------------------------\n",
            "등록하려는 상품명 : 0\n",
            "등록하려는 갯수: 0\n",
            "----------------------------------------\n",
            "상품명: 0    개수: 0\n",
            "----------------------------------------\n"
          ],
          "name": "stdout"
        },
        {
          "output_type": "error",
          "ename": "KeyboardInterrupt",
          "evalue": "ignored",
          "traceback": [
            "\u001b[0;31m---------------------------------------------------------------------------\u001b[0m",
            "\u001b[0;31mKeyboardInterrupt\u001b[0m                         Traceback (most recent call last)",
            "\u001b[0;32m/usr/local/lib/python3.7/dist-packages/ipykernel/kernelbase.py\u001b[0m in \u001b[0;36m_input_request\u001b[0;34m(self, prompt, ident, parent, password)\u001b[0m\n\u001b[1;32m    728\u001b[0m             \u001b[0;32mtry\u001b[0m\u001b[0;34m:\u001b[0m\u001b[0;34m\u001b[0m\u001b[0;34m\u001b[0m\u001b[0m\n\u001b[0;32m--> 729\u001b[0;31m                 \u001b[0mident\u001b[0m\u001b[0;34m,\u001b[0m \u001b[0mreply\u001b[0m \u001b[0;34m=\u001b[0m \u001b[0mself\u001b[0m\u001b[0;34m.\u001b[0m\u001b[0msession\u001b[0m\u001b[0;34m.\u001b[0m\u001b[0mrecv\u001b[0m\u001b[0;34m(\u001b[0m\u001b[0mself\u001b[0m\u001b[0;34m.\u001b[0m\u001b[0mstdin_socket\u001b[0m\u001b[0;34m,\u001b[0m \u001b[0;36m0\u001b[0m\u001b[0;34m)\u001b[0m\u001b[0;34m\u001b[0m\u001b[0;34m\u001b[0m\u001b[0m\n\u001b[0m\u001b[1;32m    730\u001b[0m             \u001b[0;32mexcept\u001b[0m \u001b[0mException\u001b[0m\u001b[0;34m:\u001b[0m\u001b[0;34m\u001b[0m\u001b[0;34m\u001b[0m\u001b[0m\n",
            "\u001b[0;32m/usr/local/lib/python3.7/dist-packages/jupyter_client/session.py\u001b[0m in \u001b[0;36mrecv\u001b[0;34m(self, socket, mode, content, copy)\u001b[0m\n\u001b[1;32m    802\u001b[0m         \u001b[0;32mtry\u001b[0m\u001b[0;34m:\u001b[0m\u001b[0;34m\u001b[0m\u001b[0;34m\u001b[0m\u001b[0m\n\u001b[0;32m--> 803\u001b[0;31m             \u001b[0mmsg_list\u001b[0m \u001b[0;34m=\u001b[0m \u001b[0msocket\u001b[0m\u001b[0;34m.\u001b[0m\u001b[0mrecv_multipart\u001b[0m\u001b[0;34m(\u001b[0m\u001b[0mmode\u001b[0m\u001b[0;34m,\u001b[0m \u001b[0mcopy\u001b[0m\u001b[0;34m=\u001b[0m\u001b[0mcopy\u001b[0m\u001b[0;34m)\u001b[0m\u001b[0;34m\u001b[0m\u001b[0;34m\u001b[0m\u001b[0m\n\u001b[0m\u001b[1;32m    804\u001b[0m         \u001b[0;32mexcept\u001b[0m \u001b[0mzmq\u001b[0m\u001b[0;34m.\u001b[0m\u001b[0mZMQError\u001b[0m \u001b[0;32mas\u001b[0m \u001b[0me\u001b[0m\u001b[0;34m:\u001b[0m\u001b[0;34m\u001b[0m\u001b[0;34m\u001b[0m\u001b[0m\n",
            "\u001b[0;32m/usr/local/lib/python3.7/dist-packages/zmq/sugar/socket.py\u001b[0m in \u001b[0;36mrecv_multipart\u001b[0;34m(self, flags, copy, track)\u001b[0m\n\u001b[1;32m    582\u001b[0m         \"\"\"\n\u001b[0;32m--> 583\u001b[0;31m         \u001b[0mparts\u001b[0m \u001b[0;34m=\u001b[0m \u001b[0;34m[\u001b[0m\u001b[0mself\u001b[0m\u001b[0;34m.\u001b[0m\u001b[0mrecv\u001b[0m\u001b[0;34m(\u001b[0m\u001b[0mflags\u001b[0m\u001b[0;34m,\u001b[0m \u001b[0mcopy\u001b[0m\u001b[0;34m=\u001b[0m\u001b[0mcopy\u001b[0m\u001b[0;34m,\u001b[0m \u001b[0mtrack\u001b[0m\u001b[0;34m=\u001b[0m\u001b[0mtrack\u001b[0m\u001b[0;34m)\u001b[0m\u001b[0;34m]\u001b[0m\u001b[0;34m\u001b[0m\u001b[0;34m\u001b[0m\u001b[0m\n\u001b[0m\u001b[1;32m    584\u001b[0m         \u001b[0;31m# have first part already, only loop while more to receive\u001b[0m\u001b[0;34m\u001b[0m\u001b[0;34m\u001b[0m\u001b[0;34m\u001b[0m\u001b[0m\n",
            "\u001b[0;32mzmq/backend/cython/socket.pyx\u001b[0m in \u001b[0;36mzmq.backend.cython.socket.Socket.recv\u001b[0;34m()\u001b[0m\n",
            "\u001b[0;32mzmq/backend/cython/socket.pyx\u001b[0m in \u001b[0;36mzmq.backend.cython.socket.Socket.recv\u001b[0;34m()\u001b[0m\n",
            "\u001b[0;32mzmq/backend/cython/socket.pyx\u001b[0m in \u001b[0;36mzmq.backend.cython.socket._recv_copy\u001b[0;34m()\u001b[0m\n",
            "\u001b[0;32m/usr/local/lib/python3.7/dist-packages/zmq/backend/cython/checkrc.pxd\u001b[0m in \u001b[0;36mzmq.backend.cython.checkrc._check_rc\u001b[0;34m()\u001b[0m\n",
            "\u001b[0;31mKeyboardInterrupt\u001b[0m: ",
            "\nDuring handling of the above exception, another exception occurred:\n",
            "\u001b[0;31mKeyboardInterrupt\u001b[0m                         Traceback (most recent call last)",
            "\u001b[0;32m<ipython-input-29-495eae25579a>\u001b[0m in \u001b[0;36m<module>\u001b[0;34m()\u001b[0m\n\u001b[1;32m     60\u001b[0m         \u001b[0mprint\u001b[0m\u001b[0;34m(\u001b[0m\u001b[0;34m''\u001b[0m\u001b[0;34m)\u001b[0m\u001b[0;34m\u001b[0m\u001b[0;34m\u001b[0m\u001b[0m\n\u001b[1;32m     61\u001b[0m         \u001b[0mprint\u001b[0m\u001b[0;34m(\u001b[0m\u001b[0;34m'   1. 재고등록'\u001b[0m\u001b[0;34m)\u001b[0m\u001b[0;34m\u001b[0m\u001b[0;34m\u001b[0m\u001b[0m\n\u001b[0;32m---> 62\u001b[0;31m         \u001b[0mregist\u001b[0m\u001b[0;34m(\u001b[0m\u001b[0;34m)\u001b[0m\u001b[0;34m\u001b[0m\u001b[0;34m\u001b[0m\u001b[0m\n\u001b[0m\u001b[1;32m     63\u001b[0m \u001b[0;34m\u001b[0m\u001b[0m\n\u001b[1;32m     64\u001b[0m \u001b[0;31m# 2) 물건판매\u001b[0m\u001b[0;34m\u001b[0m\u001b[0;34m\u001b[0m\u001b[0;34m\u001b[0m\u001b[0m\n",
            "\u001b[0;32m<ipython-input-29-495eae25579a>\u001b[0m in \u001b[0;36mregist\u001b[0;34m()\u001b[0m\n\u001b[1;32m      2\u001b[0m \u001b[0;32mdef\u001b[0m \u001b[0mregist\u001b[0m\u001b[0;34m(\u001b[0m\u001b[0;34m)\u001b[0m \u001b[0;34m:\u001b[0m\u001b[0;34m\u001b[0m\u001b[0;34m\u001b[0m\u001b[0m\n\u001b[1;32m      3\u001b[0m     \u001b[0;32mwhile\u001b[0m \u001b[0;32mTrue\u001b[0m\u001b[0;34m:\u001b[0m\u001b[0;34m\u001b[0m\u001b[0;34m\u001b[0m\u001b[0m\n\u001b[0;32m----> 4\u001b[0;31m         \u001b[0mname\u001b[0m \u001b[0;34m=\u001b[0m \u001b[0minput\u001b[0m\u001b[0;34m(\u001b[0m\u001b[0;34m'등록하려는 상품명 : '\u001b[0m\u001b[0;34m)\u001b[0m\u001b[0;34m\u001b[0m\u001b[0;34m\u001b[0m\u001b[0m\n\u001b[0m\u001b[1;32m      5\u001b[0m         \u001b[0;32mif\u001b[0m \u001b[0mname\u001b[0m \u001b[0;34m==\u001b[0m \u001b[0;34m''\u001b[0m\u001b[0;34m:\u001b[0m\u001b[0;34m\u001b[0m\u001b[0;34m\u001b[0m\u001b[0m\n\u001b[1;32m      6\u001b[0m             \u001b[0;32mbreak\u001b[0m\u001b[0;34m\u001b[0m\u001b[0;34m\u001b[0m\u001b[0m\n",
            "\u001b[0;32m/usr/local/lib/python3.7/dist-packages/ipykernel/kernelbase.py\u001b[0m in \u001b[0;36mraw_input\u001b[0;34m(self, prompt)\u001b[0m\n\u001b[1;32m    702\u001b[0m             \u001b[0mself\u001b[0m\u001b[0;34m.\u001b[0m\u001b[0m_parent_ident\u001b[0m\u001b[0;34m,\u001b[0m\u001b[0;34m\u001b[0m\u001b[0;34m\u001b[0m\u001b[0m\n\u001b[1;32m    703\u001b[0m             \u001b[0mself\u001b[0m\u001b[0;34m.\u001b[0m\u001b[0m_parent_header\u001b[0m\u001b[0;34m,\u001b[0m\u001b[0;34m\u001b[0m\u001b[0;34m\u001b[0m\u001b[0m\n\u001b[0;32m--> 704\u001b[0;31m             \u001b[0mpassword\u001b[0m\u001b[0;34m=\u001b[0m\u001b[0;32mFalse\u001b[0m\u001b[0;34m,\u001b[0m\u001b[0;34m\u001b[0m\u001b[0;34m\u001b[0m\u001b[0m\n\u001b[0m\u001b[1;32m    705\u001b[0m         )\n\u001b[1;32m    706\u001b[0m \u001b[0;34m\u001b[0m\u001b[0m\n",
            "\u001b[0;32m/usr/local/lib/python3.7/dist-packages/ipykernel/kernelbase.py\u001b[0m in \u001b[0;36m_input_request\u001b[0;34m(self, prompt, ident, parent, password)\u001b[0m\n\u001b[1;32m    732\u001b[0m             \u001b[0;32mexcept\u001b[0m \u001b[0mKeyboardInterrupt\u001b[0m\u001b[0;34m:\u001b[0m\u001b[0;34m\u001b[0m\u001b[0;34m\u001b[0m\u001b[0m\n\u001b[1;32m    733\u001b[0m                 \u001b[0;31m# re-raise KeyboardInterrupt, to truncate traceback\u001b[0m\u001b[0;34m\u001b[0m\u001b[0;34m\u001b[0m\u001b[0;34m\u001b[0m\u001b[0m\n\u001b[0;32m--> 734\u001b[0;31m                 \u001b[0;32mraise\u001b[0m \u001b[0mKeyboardInterrupt\u001b[0m\u001b[0;34m\u001b[0m\u001b[0;34m\u001b[0m\u001b[0m\n\u001b[0m\u001b[1;32m    735\u001b[0m             \u001b[0;32melse\u001b[0m\u001b[0;34m:\u001b[0m\u001b[0;34m\u001b[0m\u001b[0;34m\u001b[0m\u001b[0m\n\u001b[1;32m    736\u001b[0m                 \u001b[0;32mbreak\u001b[0m\u001b[0;34m\u001b[0m\u001b[0;34m\u001b[0m\u001b[0m\n",
            "\u001b[0;31mKeyboardInterrupt\u001b[0m: "
          ]
        }
      ]
    },
    {
      "cell_type": "code",
      "metadata": {
        "id": "726RDX5T-MbW"
      },
      "source": [
        ""
      ],
      "execution_count": null,
      "outputs": []
    }
  ]
}